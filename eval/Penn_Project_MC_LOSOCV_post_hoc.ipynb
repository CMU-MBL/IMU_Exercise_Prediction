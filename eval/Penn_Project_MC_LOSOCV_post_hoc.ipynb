{
  "nbformat": 4,
  "nbformat_minor": 0,
  "metadata": {
    "colab": {
      "provenance": [],
      "collapsed_sections": [
        "VCiAOECWerra",
        "aX_SHEzeEysg"
      ]
    },
    "kernelspec": {
      "name": "python3",
      "display_name": "Python 3"
    },
    "language_info": {
      "name": "python"
    }
  },
  "cells": [
    {
      "cell_type": "markdown",
      "source": [
        "Import library"
      ],
      "metadata": {
        "id": "qSkGMoC9CxRm"
      }
    },
    {
      "cell_type": "code",
      "source": [
        "!pip install matplotlib --upgrade --quiet"
      ],
      "metadata": {
        "colab": {
          "base_uri": "https://localhost:8080/"
        },
        "id": "UZAhXbKs1sFD",
        "outputId": "856d6a16-b1b2-4a60-e97f-8e5a9159bfbf"
      },
      "execution_count": null,
      "outputs": [
        {
          "output_type": "stream",
          "name": "stdout",
          "text": [
            "\u001b[K     |████████████████████████████████| 11.2 MB 4.6 MB/s \n",
            "\u001b[K     |████████████████████████████████| 965 kB 46.7 MB/s \n",
            "\u001b[?25h"
          ]
        }
      ]
    },
    {
      "cell_type": "code",
      "execution_count": null,
      "metadata": {
        "id": "6-q3ArvK8gsG"
      },
      "outputs": [],
      "source": [
        "import numpy as np\n",
        "import matplotlib.pyplot as plt\n",
        "import seaborn as sns\n",
        "import pandas as pd\n",
        "from sklearn import metrics"
      ]
    },
    {
      "cell_type": "markdown",
      "source": [
        "Utils"
      ],
      "metadata": {
        "id": "-R3ySCaSDBg7"
      }
    },
    {
      "cell_type": "code",
      "source": [
        "exercise_type = ['BulgSq',\n",
        " 'CMJDL',\n",
        " 'CMJSL',\n",
        " 'DeclineSq',\n",
        " 'DropJumpDL',\n",
        " 'DropJumpSL',\n",
        " 'DropLandDL',\n",
        " 'DropLandSL',\n",
        " 'FwHop',\n",
        " 'FwHopFast',\n",
        " 'FwJump',\n",
        " 'FwJumpFast',\n",
        " 'HeelRaise',\n",
        " 'LatHop',\n",
        " 'LatHopFast',\n",
        " 'LatJump',\n",
        " 'LatJumpFast',\n",
        " 'Lunge',\n",
        " 'MaxHop',\n",
        " 'MaxJump',\n",
        " 'Pose',\n",
        " 'Run',\n",
        " 'RunCut',\n",
        " 'RunDec',\n",
        " 'SpainSq',\n",
        " 'SplitJump',\n",
        " 'SportJump',\n",
        " 'SqDL',\n",
        " 'SqHalfDL',\n",
        " 'SqHalfSL',\n",
        " 'SqSL',\n",
        " 'StepDnH',\n",
        " 'StepDnL',\n",
        " 'StepUpH',\n",
        " 'StepUpL',\n",
        " 'SumoSq',\n",
        " 'Walk']"
      ],
      "metadata": {
        "id": "Hq-t1qgLdwUC"
      },
      "execution_count": null,
      "outputs": []
    },
    {
      "cell_type": "code",
      "source": [
        "cluster = list(range(0,10))"
      ],
      "metadata": {
        "id": "AAYkMfaUmcwk"
      },
      "execution_count": null,
      "outputs": []
    },
    {
      "cell_type": "code",
      "source": [
        "# Normalize confusion matrix\n",
        "def normalize_cm(cm):\n",
        "  norm_cm = np.zeros(cm.shape) # init\n",
        "\n",
        "  num_sbj = cm.shape[0]\n",
        "  num_ex = cm.shape[1]\n",
        "\n",
        "  # Loop through subject with different confusion matrices\n",
        "  for s in range(num_sbj):\n",
        "\n",
        "    # Loop through exercises\n",
        "    for e in range(num_ex):\n",
        "\n",
        "      # Check if there is missing exercise\n",
        "      num_trial = sum(cm[s][e, :])\n",
        "\n",
        "      if num_trial != 0:\n",
        "        norm_cm[s][e, :] = cm[s][e, :]/num_trial\n",
        "      else:\n",
        "        pass # do nothing since the row is already zero\n",
        "\n",
        "  return norm_cm\n",
        "\n",
        "# Average the normalize confusion matrix\n",
        "def get_avg_cm(norm_cm):\n",
        "  num_sbj = norm_cm.shape[0]\n",
        "  num_ex = norm_cm.shape[1]\n",
        "\n",
        "  avg_norm_cm = np.zeros([num_ex, num_ex]) # init\n",
        "  num_trials = np.zeros(num_ex) # store the no. of trials for each exercise\n",
        "\n",
        "  # Loop through subjects\n",
        "  for s in range(num_sbj):\n",
        "     \n",
        "     # Loop through exercises\n",
        "     for e in range(num_ex):\n",
        "\n",
        "      # Check if there is missing trial\n",
        "      if sum(norm_cm[s][e, :]) != 0:\n",
        "        avg_norm_cm[e, :] = avg_norm_cm[e, :] + norm_cm[s][e, :]\n",
        "        num_trials[e] = num_trials[e] + 1\n",
        "      else:\n",
        "        pass\n",
        "\n",
        "  # Compute the average\n",
        "  for e in range(num_ex):\n",
        "    avg_norm_cm[e, :] = avg_norm_cm[e, :]/num_trials[e]\n",
        "\n",
        "  return avg_norm_cm"
      ],
      "metadata": {
        "id": "mpxoVHn5DCpq"
      },
      "execution_count": null,
      "outputs": []
    },
    {
      "cell_type": "markdown",
      "source": [
        "###**Get the 1st matrix**"
      ],
      "metadata": {
        "id": "cuZyX5Y_Dowo"
      }
    },
    {
      "cell_type": "markdown",
      "source": [
        "Read data"
      ],
      "metadata": {
        "id": "2bjYG4U4C0fH"
      }
    },
    {
      "cell_type": "code",
      "source": [
        "# Retrieve confusion matrices\n",
        "with open('test_cm_1.npy', 'rb') as f:\n",
        "# with open('acc_test_cm.npy', 'rb') as f:\n",
        "  r_test_cm_1 = np.load(f)"
      ],
      "metadata": {
        "id": "H66Q-WCXCyUH"
      },
      "execution_count": null,
      "outputs": []
    },
    {
      "cell_type": "markdown",
      "source": [
        "Compute the averaged confusion matrix"
      ],
      "metadata": {
        "id": "fbtXWm98Dgeh"
      }
    },
    {
      "cell_type": "code",
      "source": [
        "norm_test_cm_1 = normalize_cm(r_test_cm_1)\n",
        "avg_norm_cm_1 = get_avg_cm(norm_test_cm_1)\n",
        "# print(avg_norm_cm_1)"
      ],
      "metadata": {
        "id": "FCxFq--cDNNQ"
      },
      "execution_count": null,
      "outputs": []
    },
    {
      "cell_type": "code",
      "source": [
        "plt.figure(figsize = (10, 8))\n",
        "sns.heatmap(avg_norm_cm_1, cmap = 'YlGnBu')\n",
        "plt.xlabel('Prediction')\n",
        "plt.ylabel('Truth')"
      ],
      "metadata": {
        "id": "5D9xNOuwDw2r"
      },
      "execution_count": null,
      "outputs": []
    },
    {
      "cell_type": "markdown",
      "source": [
        "###**Get the 2nd matrix**"
      ],
      "metadata": {
        "id": "up4ChgjbEWVA"
      }
    },
    {
      "cell_type": "markdown",
      "source": [
        "Read data"
      ],
      "metadata": {
        "id": "GwVIZpniEWVB"
      }
    },
    {
      "cell_type": "code",
      "source": [
        "# Retrieve confusion matrices\n",
        "with open('test_cm_2.npy', 'rb') as f:\n",
        "# with open('gyro_test_cm.npy', 'rb') as f:\n",
        "  r_test_cm_2 = np.load(f)"
      ],
      "metadata": {
        "id": "tleY_winEWVB"
      },
      "execution_count": null,
      "outputs": []
    },
    {
      "cell_type": "markdown",
      "source": [
        "Compute the averaged confusion matrix"
      ],
      "metadata": {
        "id": "pttumj_UEWVB"
      }
    },
    {
      "cell_type": "code",
      "source": [
        "norm_test_cm_2 = normalize_cm(r_test_cm_2)\n",
        "avg_norm_cm_2 = get_avg_cm(norm_test_cm_2)\n",
        "# print(avg_norm_cm_2)"
      ],
      "metadata": {
        "id": "RCfRd2uxEWVC"
      },
      "execution_count": null,
      "outputs": []
    },
    {
      "cell_type": "code",
      "source": [
        "plt.figure(figsize = (10, 8))\n",
        "sns.heatmap(avg_norm_cm_2, cmap = 'YlGnBu')\n",
        "plt.xlabel('Prediction')\n",
        "plt.ylabel('Truth')"
      ],
      "metadata": {
        "id": "MxziLPLCEWVC"
      },
      "execution_count": null,
      "outputs": []
    },
    {
      "cell_type": "markdown",
      "source": [
        "###**Get the 3rd matrix**"
      ],
      "metadata": {
        "id": "VCiAOECWerra"
      }
    },
    {
      "cell_type": "markdown",
      "source": [
        "Read data"
      ],
      "metadata": {
        "id": "eX1NpuzGevQ4"
      }
    },
    {
      "cell_type": "code",
      "source": [
        "# Retrieve confusion matrices\n",
        "with open('test_cm_3.npy', 'rb') as f:\n",
        "# with open('both_test_cm.npy', 'rb') as f:\n",
        "  r_test_cm_3 = np.load(f)"
      ],
      "metadata": {
        "id": "G1rylSBaexFe"
      },
      "execution_count": null,
      "outputs": []
    },
    {
      "cell_type": "code",
      "source": [
        "norm_test_cm_3 = normalize_cm(r_test_cm_3)\n",
        "avg_norm_cm_3 = get_avg_cm(norm_test_cm_3)\n",
        "# print(avg_norm_cm_3)"
      ],
      "metadata": {
        "id": "zZIgHuKne_79"
      },
      "execution_count": null,
      "outputs": []
    },
    {
      "cell_type": "markdown",
      "source": [
        "##**Get the 4th matrix**"
      ],
      "metadata": {
        "id": "PaL6-SyxtbJC"
      }
    },
    {
      "cell_type": "code",
      "source": [
        "# Retrieve confusion matrices\n",
        "with open('test_cm_4.npy', 'rb') as f:\n",
        "  r_test_cm_4 = np.load(f)"
      ],
      "metadata": {
        "id": "sWV5zJLrtdw1"
      },
      "execution_count": null,
      "outputs": []
    },
    {
      "cell_type": "code",
      "source": [
        "norm_test_cm_4 = normalize_cm(r_test_cm_4)\n",
        "avg_norm_cm_4 = get_avg_cm(norm_test_cm_4)\n",
        "# print(avg_norm_cm_3)"
      ],
      "metadata": {
        "id": "hy9IZ295td4K"
      },
      "execution_count": null,
      "outputs": []
    },
    {
      "cell_type": "markdown",
      "source": [
        "##**Calculate the difference**"
      ],
      "metadata": {
        "id": "1YrZkXbatupS"
      }
    },
    {
      "cell_type": "code",
      "source": [
        "# com = np.concatenate([np.diag(avg_norm_cm_4).reshape([1, 37]),\n",
        "#                       np.diag(avg_norm_cm_3).reshape([1, 37]),\n",
        "#                       np.diag(avg_norm_cm_2).reshape([1, 37]), \n",
        "#                       np.diag(avg_norm_cm_1).reshape([1, 37])]) # for all 37 exercises\n",
        "\n",
        "com = np.concatenate([np.diag(avg_norm_cm_4).reshape([1, 10]),\n",
        "                      np.diag(avg_norm_cm_3).reshape([1, 10]),\n",
        "                      np.diag(avg_norm_cm_2).reshape([1, 10]), \n",
        "                      np.diag(avg_norm_cm_1).reshape([1, 10])]) # for all 10 group-exercises\n",
        "                      \n",
        "com.shape"
      ],
      "metadata": {
        "colab": {
          "base_uri": "https://localhost:8080/"
        },
        "id": "1uS3Akm0xCDi",
        "outputId": "df1c15ea-9a24-40f2-913a-af3272d2107e"
      },
      "execution_count": null,
      "outputs": [
        {
          "output_type": "execute_result",
          "data": {
            "text/plain": [
              "(4, 10)"
            ]
          },
          "metadata": {},
          "execution_count": 74
        }
      ]
    },
    {
      "cell_type": "code",
      "source": [
        "# Get annotation of best performance\n",
        "annot_labels = np.empty_like(com, dtype=str)\n",
        "annot_mask = np.where(com == np.max(com, axis=0))\n",
        "annot_labels[annot_mask] = 'X'\n",
        "annot_mask_zero = np.where(com == 0)\n",
        "annot_labels[annot_mask_zero] = ''"
      ],
      "metadata": {
        "id": "EJS9K0hYz4jt"
      },
      "execution_count": null,
      "outputs": []
    },
    {
      "cell_type": "code",
      "source": [
        "com"
      ],
      "metadata": {
        "colab": {
          "base_uri": "https://localhost:8080/"
        },
        "id": "hOvp5_HhFHHq",
        "outputId": "c0c37d73-77df-48db-973b-1165892b7b87"
      },
      "execution_count": null,
      "outputs": [
        {
          "output_type": "execute_result",
          "data": {
            "text/plain": [
              "array([[0.88848782, 0.85475165, 0.90925904, 0.77192982, 0.97343188,\n",
              "        0.89298246, 0.64255408, 0.90837737, 0.98496241, 0.91572682],\n",
              "       [0.90601879, 0.93476933, 0.85228614, 0.29824561, 0.9887218 ,\n",
              "        0.99122807, 0.82715457, 0.93327976, 0.81516291, 0.72932331],\n",
              "       [0.90529424, 0.90069196, 0.88120816, 0.54385965, 0.99185464,\n",
              "        0.78947368, 0.77155345, 0.92042607, 0.81641604, 0.7556391 ],\n",
              "       [0.91308495, 0.87130916, 0.93001146, 0.78947368, 0.9962406 ,\n",
              "        0.77192982, 0.7194443 , 0.83724529, 0.81046366, 0.84837093]])"
            ]
          },
          "metadata": {},
          "execution_count": 78
        }
      ]
    },
    {
      "cell_type": "code",
      "source": [
        "annot_labels"
      ],
      "metadata": {
        "colab": {
          "base_uri": "https://localhost:8080/"
        },
        "id": "1lAAHyo5zrfm",
        "outputId": "3a2f0a61-3a5e-4469-dad2-c344946fa7d9"
      },
      "execution_count": null,
      "outputs": [
        {
          "output_type": "execute_result",
          "data": {
            "text/plain": [
              "array([['', '', '', '', '', '', '', '', 'X', 'X'],\n",
              "       ['', 'X', '', '', '', 'X', 'X', 'X', '', ''],\n",
              "       ['', '', '', '', '', '', '', '', '', ''],\n",
              "       ['X', '', 'X', 'X', 'X', '', '', '', '', '']], dtype='<U1')"
            ]
          },
          "metadata": {},
          "execution_count": 76
        }
      ]
    },
    {
      "cell_type": "code",
      "source": [
        "# fig, (ax1, ax2, ax3) = plt.subplots(ncols=3, figsize=(18, 3), sharey='row',\n",
        "#                                gridspec_kw={'width_ratios': [5, 1.5, 1.5], 'wspace': 0.07})\n",
        "fig, (ax1, ax2, ax3) = plt.subplots(ncols=3, figsize=(13, 3), sharey='row',\n",
        "                               gridspec_kw={'width_ratios': [5, 5, 5], 'wspace': 0.1})\n",
        "# Heatmap\n",
        "sns.heatmap(com, cmap = 'YlGnBu', \n",
        "            annot = False, \n",
        "            # annot = annot_labels, fmt = '',\n",
        "            cbar = False,\n",
        "            vmin = 0, vmax = 1.0, \n",
        "            # xticklabels = exercise_type, \n",
        "            yticklabels = ['Righ wrist/thigh', 'Left/right thigh', 'Right thigh/shank', 'Chest/right thigh'],\n",
        "            ax = ax1)\n",
        "ax1.set_xlabel('Cluster')\n",
        "\n",
        "# Bar chart\n",
        "# Accuracy\n",
        "avg_acc_1 = 0.88\n",
        "avg_acc_2 = 0.88\n",
        "avg_acc_3 = 0.88\n",
        "avg_acc_4 = 0.88\n",
        "std_acc_1 = 0.10\n",
        "std_acc_2 = 0.12\n",
        "std_acc_3 = 0.07\n",
        "std_acc_4 = 0.07\n",
        "my_cmap = plt.get_cmap('YlGnBu')\n",
        "acc_bar1 = ax2.barh([3.5], [avg_acc_1], xerr = std_acc_1, color = my_cmap(avg_acc_1))\n",
        "acc_bar2 = ax2.barh([2.5], [avg_acc_2], xerr = std_acc_2, color = my_cmap(avg_acc_2))\n",
        "acc_bar3 = ax2.barh([1.5], [avg_acc_3], xerr = std_acc_3, color = my_cmap(avg_acc_3))\n",
        "acc_bar4 = ax2.barh([0.5], [avg_acc_4], xerr = std_acc_4, color = my_cmap(avg_acc_4))\n",
        "ax2.bar_label(acc_bar1, fmt='%.2f')\n",
        "ax2.bar_label(acc_bar2, fmt='%.2f')\n",
        "ax2.bar_label(acc_bar3, fmt='%.2f')\n",
        "ax2.bar_label(acc_bar4, fmt='%.2f')\n",
        "ax2.spines['top'].set_visible(False)\n",
        "ax2.spines['right'].set_visible(False)\n",
        "ax2.set_xlim([0, 1.2])\n",
        "ax2.set_xlabel('Accuracy')\n",
        "\n",
        "# F1-score\n",
        "avg_f1_1 = 0.83\n",
        "avg_f1_2 = 0.81\n",
        "avg_f1_3 = 0.81\n",
        "avg_f1_4 = 0.86\n",
        "std_f1_1 = 0.15\n",
        "std_f1_2 = 0.15\n",
        "std_f1_3 = 0.07\n",
        "std_f1_4 = 0.07\n",
        "f1_bar1 = ax3.barh([3.5], [avg_f1_1], xerr = std_f1_1, color = my_cmap(avg_f1_1))\n",
        "f1_bar2 = ax3.barh([2.5], [avg_f1_2], xerr = std_f1_2, color = my_cmap(avg_f1_2))\n",
        "f1_bar3 = ax3.barh([1.5], [avg_f1_3], xerr = std_f1_3, color = my_cmap(avg_f1_3))\n",
        "f1_bar4 = ax3.barh([0.5], [avg_f1_4], xerr = std_f1_4, color = my_cmap(avg_f1_4))\n",
        "ax3.bar_label(f1_bar1, fmt='%.2f')\n",
        "ax3.bar_label(f1_bar2, fmt='%.2f')\n",
        "ax3.bar_label(f1_bar3, fmt='%.2f')\n",
        "ax3.bar_label(f1_bar4, fmt='%.2f')\n",
        "ax3.spines['top'].set_visible(False)\n",
        "ax3.spines['right'].set_visible(False)\n",
        "ax3.set_xlim([0, 1.2])\n",
        "ax3.set_xlabel('F1-score')"
      ],
      "metadata": {
        "colab": {
          "base_uri": "https://localhost:8080/",
          "height": 243
        },
        "id": "5O-kRamvxQFM",
        "outputId": "536500c7-756b-4e80-8487-e15bb357a0dd"
      },
      "execution_count": null,
      "outputs": [
        {
          "output_type": "execute_result",
          "data": {
            "text/plain": [
              "Text(0.5, 6.0, 'F1-score')"
            ]
          },
          "metadata": {},
          "execution_count": 145
        },
        {
          "output_type": "display_data",
          "data": {
            "text/plain": [
              "<Figure size 936x216 with 3 Axes>"
            ],
            "image/png": "[encoded data removed]"
          },
          "metadata": {
            "needs_background": "light"
          }
        }
      ]
    },
    {
      "cell_type": "markdown",
      "source": [
        "###**Add one more IMU**"
      ],
      "metadata": {
        "id": "aX_SHEzeEysg"
      }
    },
    {
      "cell_type": "code",
      "source": [
        "avg_norm_cm_diff = avg_norm_cm_2 - avg_norm_cm_1\n",
        "# print(avg_norm_cm_diff)"
      ],
      "metadata": {
        "id": "wYsBPtLkE2MY"
      },
      "execution_count": null,
      "outputs": []
    },
    {
      "cell_type": "code",
      "source": [
        "# com = np.concatenate([np.diag(avg_norm_cm_2).reshape([1, 37]), np.diag(avg_norm_cm_1).reshape([1, 37])]) # for all 37 exercises\n",
        "com = np.concatenate([np.diag(avg_norm_cm_2).reshape([1, 10]), np.diag(avg_norm_cm_1).reshape([1, 10])]) # for 10 group-exercises\n",
        "com.shape"
      ],
      "metadata": {
        "colab": {
          "base_uri": "https://localhost:8080/"
        },
        "id": "McWdB9SEHzRU",
        "outputId": "bc3bfd6a-a5c9-4033-b9ac-56f2c1e93387"
      },
      "execution_count": null,
      "outputs": [
        {
          "output_type": "execute_result",
          "data": {
            "text/plain": [
              "(2, 10)"
            ]
          },
          "metadata": {},
          "execution_count": 141
        }
      ]
    },
    {
      "cell_type": "code",
      "source": [
        "# fig, ((ax_diff, ax_dum_1, ax_dum_2), (ax1, ax2, ax3)) = plt.subplots(nrows = 2, ncols=3, figsize=(18, 5), sharey='row', sharex='col',\n",
        "#                                gridspec_kw={'height_ratios': [3, 1], 'width_ratios': [5, 1.5, 1.5], 'wspace': 0.07, 'hspace': 0.15})\n",
        "fig, ((ax_diff, ax_dum_1, ax_dum_2), (ax1, ax2, ax3)) = plt.subplots(nrows = 2, ncols=3, figsize=(13, 5), sharey='row', sharex='col',\n",
        "                               gridspec_kw={'height_ratios': [3, 1], 'width_ratios': [5, 5, 5], 'wspace': 0.1, 'hspace': 0.15})\n",
        "# fig, (ax1, ax2, ax3) = plt.subplots(ncols=3, figsize=(15, 1), sharey='row',\n",
        "#                                gridspec_kw={'width_ratios': [5, 5, 5], 'wspace': 0.1})\n",
        "# Heatmap\n",
        "sns.heatmap(com, cmap = 'YlGnBu', annot = False, cbar = False,\n",
        "            vmin = 0, vmax = 1.0, \n",
        "            # xticklabels = exercise_type, \n",
        "            yticklabels = ['Chest/right thigh', 'Right thigh'],\n",
        "            ax = ax1)\n",
        "\n",
        "# Bar chart\n",
        "# Accuracy\n",
        "avg_acc_1 = 0.83\n",
        "avg_acc_2 = 0.88\n",
        "std_acc_1 = 0.07\n",
        "std_acc_2 = 0.10\n",
        "my_cmap = plt.get_cmap('YlGnBu')\n",
        "acc_bar1 = ax2.barh([1.5], [avg_acc_1], xerr = std_acc_1, color = my_cmap(avg_acc_1))\n",
        "acc_bar2 = ax2.barh([0.5], [avg_acc_2], xerr = std_acc_2, color = my_cmap(avg_acc_2))\n",
        "ax2.bar_label(acc_bar1, fmt='%.2f')\n",
        "ax2.bar_label(acc_bar2, fmt='%.2f')\n",
        "ax2.spines['top'].set_visible(False)\n",
        "ax2.spines['right'].set_visible(False)\n",
        "ax2.set_xlim([0, 1.2])\n",
        "ax2.set_xlabel('Accuracy')\n",
        "\n",
        "# F1-score\n",
        "avg_f1_1 = 0.74\n",
        "avg_f1_2 = 0.83\n",
        "std_f1_1 = 0.10\n",
        "std_f1_2 = 0.15\n",
        "f1_bar1 = ax3.barh([1.5], [avg_f1_1], xerr = std_f1_1, color = my_cmap(avg_f1_1))\n",
        "f1_bar2 = ax3.barh([0.5], [avg_f1_2], xerr = std_f1_2, color = my_cmap(avg_f1_2))\n",
        "ax3.bar_label(f1_bar1, fmt='%.2f')\n",
        "ax3.bar_label(f1_bar2, fmt='%.2f')\n",
        "ax3.spines['top'].set_visible(False)\n",
        "ax3.spines['right'].set_visible(False)\n",
        "ax3.set_xlim([0, 1.2])\n",
        "ax3.set_xlabel('F1-score')\n",
        "\n",
        "# Plot the difference\n",
        "# diff_bar = ax_diff.bar(np.array(range(37)) + 0.5, np.diag(avg_norm_cm_diff), color = my_cmap(np.abs(np.diag(avg_norm_cm_diff))))\n",
        "diff_bar = ax_diff.bar(np.array(range(10)) + 0.5, np.diag(avg_norm_cm_diff), color = my_cmap(np.abs(np.diag(avg_norm_cm_diff))))\n",
        "# ax_diff.bar_label(diff_bar, fmt='%.2f')\n",
        "ax_diff.spines['top'].set_visible(False)\n",
        "ax_diff.spines['right'].set_visible(False)\n",
        "ax_diff.spines['bottom'].set_position('zero')\n",
        "ax_diff.set_ylim([-1, 1])\n",
        "ax_diff.set_ylabel('Improvement')\n",
        "for i in range(37):\n",
        "  ax_diff.axvline(i+1, color = [211/255, 211/255, 211/255], linestyle = '--', linewidth = 0.9)\n",
        "\n",
        "# Off the other dummy axes\n",
        "ax_dum_1.axis('off')\n",
        "ax_dum_2.axis('off')"
      ],
      "metadata": {
        "colab": {
          "base_uri": "https://localhost:8080/",
          "height": 356
        },
        "id": "DGIFj00vHpE-",
        "outputId": "48f04403-cab1-41a8-8914-e4af001cf5db"
      },
      "execution_count": null,
      "outputs": [
        {
          "output_type": "execute_result",
          "data": {
            "text/plain": [
              "(0.0, 1.2, -1.0, 1.0)"
            ]
          },
          "metadata": {},
          "execution_count": 147
        },
        {
          "output_type": "display_data",
          "data": {
            "text/plain": [
              "<Figure size 936x360 with 6 Axes>"
            ],
            "image/png": "[encoded data removed]"
          },
          "metadata": {
            "needs_background": "light"
          }
        }
      ]
    },
    {
      "cell_type": "code",
      "source": [],
      "metadata": {
        "id": "zEaYpIDWHr_k"
      },
      "execution_count": null,
      "outputs": []
    },
    {
      "cell_type": "code",
      "source": [
        "plt.figure(figsize = (10, 8))\n",
        "sns.heatmap(avg_norm_cm_diff, vmax=1, vmin=-1, center=0)\n",
        "plt.xlabel('Prediction')\n",
        "plt.ylabel('Truth')"
      ],
      "metadata": {
        "id": "VzPAOXlfFKhH"
      },
      "execution_count": null,
      "outputs": []
    },
    {
      "cell_type": "code",
      "source": [
        "fig, ax = plt.subplots(figsize = (8, 10))\n",
        "ax.barh(exercise_type, np.diag(avg_norm_cm_diff))\n",
        "ax.vlines(0, -1, 38, linestyles = 'dashed', colors = 'r')\n",
        "ax.set_ylim([-1, 37])\n",
        "ax.set_xlabel('Improvement')\n",
        "ax.spines['top'].set_visible(False)\n",
        "ax.spines['right'].set_visible(False)\n",
        "ax.spines['bottom'].set_visible(False)\n",
        "ax.spines['left'].set_visible(False)"
      ],
      "metadata": {
        "id": "khhhICRQIldn"
      },
      "execution_count": null,
      "outputs": []
    },
    {
      "cell_type": "code",
      "source": [
        "fig, ax = plt.subplots(figsize = (8, 10))\n",
        "ax.barh(cluster, np.diag(avg_norm_cm_diff))\n",
        "ax.vlines(0, -1, 38, linestyles = 'dashed', colors = 'r')\n",
        "ax.set_ylim([-1, 10])\n",
        "ax.set_xlabel('Improvement')\n",
        "ax.set_ylabel('Cluster')\n",
        "ax.spines['top'].set_visible(False)\n",
        "ax.spines['right'].set_visible(False)\n",
        "ax.spines['bottom'].set_visible(False)\n",
        "ax.spines['left'].set_visible(False)"
      ],
      "metadata": {
        "id": "CngvW52LYXdL"
      },
      "execution_count": null,
      "outputs": []
    },
    {
      "cell_type": "markdown",
      "source": [
        "**Which information is more important**\n",
        "(i.e., accelerometer, gyroscope, or both)"
      ],
      "metadata": {
        "id": "FHsiV4UZHVGe"
      }
    },
    {
      "cell_type": "code",
      "source": [
        "# com = np.concatenate([np.diag(avg_norm_cm_3).reshape([1, 37]), np.diag(avg_norm_cm_1).reshape([1, 37]), np.diag(avg_norm_cm_2).reshape([1, 37])])\n",
        "com = np.concatenate([np.diag(avg_norm_cm_3).reshape([1, 10]), np.diag(avg_norm_cm_1).reshape([1, 10]), np.diag(avg_norm_cm_2).reshape([1, 10])])\n",
        "com.shape"
      ],
      "metadata": {
        "id": "ebG9WSv3mmY8",
        "colab": {
          "base_uri": "https://localhost:8080/"
        },
        "outputId": "fdeaa536-56d4-46d6-ca87-c21ae9ff3e7b"
      },
      "execution_count": null,
      "outputs": [
        {
          "output_type": "execute_result",
          "data": {
            "text/plain": [
              "(3, 10)"
            ]
          },
          "metadata": {},
          "execution_count": 152
        }
      ]
    },
    {
      "cell_type": "code",
      "source": [
        "plt.figure(figsize = (12, 1))\n",
        "sns.heatmap(com, cmap = 'YlGnBu', annot = False, \n",
        "            xticklabels=exercise_type, yticklabels = ['Both', 'Acceleromter', 'Gyroscope'])\n",
        "# plt.xlabel('Exercises')\n",
        "# plt.ylabel('Sensor type')"
      ],
      "metadata": {
        "id": "kvELCSBIb9tW"
      },
      "execution_count": null,
      "outputs": []
    },
    {
      "cell_type": "code",
      "source": [
        "# fig, (ax1, ax2, ax3) = plt.subplots(ncols=3, figsize=(18, 1), sharey='row',\n",
        "#                                gridspec_kw={'width_ratios': [5, 1.5, 1.5], 'wspace': 0.07})\n",
        "fig, (ax1, ax2, ax3) = plt.subplots(ncols=3, figsize=(15, 1), sharey='row',\n",
        "                               gridspec_kw={'width_ratios': [5, 5, 5], 'wspace': 0.1})\n",
        "# Heatmap\n",
        "sns.heatmap(com, cmap = 'YlGnBu', annot = False, cbar = False,\n",
        "            # xticklabels = exercise_type, \n",
        "            yticklabels = ['Both', 'Acceleromter', 'Gyroscope'],\n",
        "            ax = ax1)\n",
        "\n",
        "# Bar chart\n",
        "# Accuracy\n",
        "avg_acc_both = 0.95\n",
        "avg_acc_acc = 0.95\n",
        "avg_acc_gyro = 0.95\n",
        "std_acc_both = 0.06\n",
        "std_acc_acc = 0.07\n",
        "std_acc_gyro = 0.06\n",
        "my_cmap = plt.get_cmap('YlGnBu')\n",
        "acc_bar1 = ax2.barh([0.5], [avg_acc_both], xerr = std_acc_both, color = my_cmap(avg_acc_both))\n",
        "acc_bar2 = ax2.barh([1.5], [avg_acc_acc], xerr = std_acc_acc, color = my_cmap(avg_acc_acc))\n",
        "acc_bar3 = ax2.barh([2.5], [avg_acc_gyro], xerr = std_acc_gyro, color = my_cmap(avg_acc_gyro))\n",
        "ax2.bar_label(acc_bar1, fmt='%.2f')\n",
        "ax2.bar_label(acc_bar2, fmt='%.2f')\n",
        "ax2.bar_label(acc_bar3, fmt='%.2f')\n",
        "ax2.set_xlim([0, 1.2])\n",
        "# ax2.set_xlabel('Accuracy')\n",
        "\n",
        "# F1-score\n",
        "avg_f1_both = 0.95\n",
        "avg_f1_acc = 0.94\n",
        "avg_f1_gyro = 0.94\n",
        "std_f1_both = 0.07\n",
        "std_f1_acc = 0.06\n",
        "std_f1_gyro = 0.09\n",
        "f1_bar1 = ax3.barh([0.5], [avg_f1_both], xerr = std_f1_both, color = my_cmap(avg_f1_both))\n",
        "f1_bar2 = ax3.barh([1.5], [avg_f1_acc], xerr = std_f1_acc, color = my_cmap(avg_f1_acc))\n",
        "f1_bar3 = ax3.barh([2.5], [avg_f1_gyro], xerr = std_f1_gyro, color = my_cmap(avg_f1_gyro))\n",
        "ax3.bar_label(f1_bar1, fmt='%.2f')\n",
        "ax3.bar_label(f1_bar2, fmt='%.2f')\n",
        "ax3.bar_label(f1_bar3, fmt='%.2f')\n",
        "ax3.set_xlim([0, 1.2])\n",
        "# ax3.set_xlabel('F1-score')"
      ],
      "metadata": {
        "colab": {
          "base_uri": "https://localhost:8080/",
          "height": 120
        },
        "id": "jw5wgcAeiJAv",
        "outputId": "6efe5fe5-cb04-40a8-c198-3a2fd8336113"
      },
      "execution_count": null,
      "outputs": [
        {
          "output_type": "execute_result",
          "data": {
            "text/plain": [
              "(0.0, 1.2)"
            ]
          },
          "metadata": {},
          "execution_count": 158
        },
        {
          "output_type": "display_data",
          "data": {
            "text/plain": [
              "<Figure size 1080x72 with 3 Axes>"
            ],
            "image/png": "[encoded data removed]"
          },
          "metadata": {
            "needs_background": "light"
          }
        }
      ]
    },
    {
      "cell_type": "code",
      "source": [
        "import matplotlib\n",
        "print('matplotlib: {}'.format(matplotlib.__version__))"
      ],
      "metadata": {
        "colab": {
          "base_uri": "https://localhost:8080/"
        },
        "id": "tk2AZKy1rvEv",
        "outputId": "03d32969-539c-4f7e-ef56-70ea5a9d156b"
      },
      "execution_count": null,
      "outputs": [
        {
          "output_type": "stream",
          "name": "stdout",
          "text": [
            "matplotlib: 3.2.2\n"
          ]
        }
      ]
    },
    {
      "cell_type": "code",
      "source": [
        "np.mean(com, axis = 1)"
      ],
      "metadata": {
        "colab": {
          "base_uri": "https://localhost:8080/"
        },
        "id": "GbOoKfL3fnIu",
        "outputId": "a7c04222-ce67-4408-e0be-2009ef2e734c"
      },
      "execution_count": null,
      "outputs": [
        {
          "output_type": "execute_result",
          "data": {
            "text/plain": [
              "array([0.79059258, 0.7752654 , 0.74067431])"
            ]
          },
          "metadata": {},
          "execution_count": 20
        }
      ]
    },
    {
      "cell_type": "code",
      "source": [
        "fig, ax = plt.subplots(figsize = (27, 5))\n",
        "ax.bar(exercise_type, np.diag(avg_norm_cm_diff))\n",
        "# ax.vlines(0, -1, 38, linestyles = 'dashed', colors = 'r')\n",
        "ax.set_ylim([-1, 1])\n",
        "ax.set_xlabel('Improvement')\n",
        "ax.spines['top'].set_visible(False)\n",
        "ax.spines['right'].set_visible(False)\n",
        "ax.spines['bottom'].set_visible(False)\n",
        "ax.spines['left'].set_visible(False)\n",
        "# plt.xticks(rotation=90)\n",
        "ax.xaxis.set_visible(False)"
      ],
      "metadata": {
        "id": "0aFHr39EcnU-"
      },
      "execution_count": null,
      "outputs": []
    },
    {
      "cell_type": "code",
      "source": [],
      "metadata": {
        "id": "vVWHDLiHepm9"
      },
      "execution_count": null,
      "outputs": []
    }
  ]
}