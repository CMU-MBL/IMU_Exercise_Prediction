{
  "nbformat": 4,
  "nbformat_minor": 0,
  "metadata": {
    "colab": {
      "provenance": [],
      "collapsed_sections": [
        "OfkdiuJkLPpJ",
        "T3SkIRDiM0cY",
        "okyE_iKaN7rv",
        "o5NjZl03OA-x",
        "gRDoP1baOuap"
      ]
    },
    "kernelspec": {
      "name": "python3",
      "display_name": "Python 3"
    },
    "language_info": {
      "name": "python"
    },
    "gpuClass": "standard",
    "accelerator": "GPU"
  },
  "cells": [
    {
      "cell_type": "code",
      "execution_count": null,
      "metadata": {
        "colab": {
          "base_uri": "https://localhost:8080/"
        },
        "id": "Vm0MrhJ7F4KG",
        "outputId": "288ac3a4-dfe3-4955-cd7a-17cbabcc11e4"
      },
      "outputs": [
        {
          "output_type": "stream",
          "name": "stdout",
          "text": [
            "Sun Dec  4 20:24:09 2022       \n",
            "+-----------------------------------------------------------------------------+\n",
            "| NVIDIA-SMI 460.32.03    Driver Version: 460.32.03    CUDA Version: 11.2     |\n",
            "|-------------------------------+----------------------+----------------------+\n",
            "| GPU  Name        Persistence-M| Bus-Id        Disp.A | Volatile Uncorr. ECC |\n",
            "| Fan  Temp  Perf  Pwr:Usage/Cap|         Memory-Usage | GPU-Util  Compute M. |\n",
            "|                               |                      |               MIG M. |\n",
            "|===============================+======================+======================|\n",
            "|   0  Tesla T4            Off  | 00000000:00:04.0 Off |                    0 |\n",
            "| N/A   72C    P0    19W /  70W |      0MiB / 15109MiB |      0%      Default |\n",
            "|                               |                      |                  N/A |\n",
            "+-------------------------------+----------------------+----------------------+\n",
            "                                                                               \n",
            "+-----------------------------------------------------------------------------+\n",
            "| Processes:                                                                  |\n",
            "|  GPU   GI   CI        PID   Type   Process name                  GPU Memory |\n",
            "|        ID   ID                                                   Usage      |\n",
            "|=============================================================================|\n",
            "|  No running processes found                                                 |\n",
            "+-----------------------------------------------------------------------------+\n"
          ]
        }
      ],
      "source": [
        "!nvidia-smi"
      ]
    },
    {
      "cell_type": "markdown",
      "source": [
        "#Setup"
      ],
      "metadata": {
        "id": "FNV2a75KGERV"
      }
    },
    {
      "cell_type": "markdown",
      "source": [
        "Access to Google Drive"
      ],
      "metadata": {
        "id": "ZpnVGD_9GH21"
      }
    },
    {
      "cell_type": "code",
      "source": [
        "# import requirements\n",
        "from google.colab import drive\n",
        "drive.mount('/content/drive')"
      ],
      "metadata": {
        "colab": {
          "base_uri": "https://localhost:8080/"
        },
        "id": "exneLwmCGFRV",
        "outputId": "5f87ee90-ced0-4af0-da8c-f825d2264934"
      },
      "execution_count": null,
      "outputs": [
        {
          "output_type": "stream",
          "name": "stdout",
          "text": [
            "Mounted at /content/drive\n"
          ]
        }
      ]
    },
    {
      "cell_type": "markdown",
      "source": [
        "Library"
      ],
      "metadata": {
        "id": "uHyHZOYMGLZG"
      }
    },
    {
      "cell_type": "code",
      "source": [
        "import os\n",
        "import shutil\n",
        "import numpy as np\n",
        "import pandas as pd\n",
        "import matplotlib.pyplot as plt\n",
        "import seaborn as sns \n",
        "from scipy import signal # for resample the signal (testing)\n",
        "import random\n",
        "\n",
        "from tqdm import tqdm\n",
        "\n",
        "from sklearn.preprocessing import OneHotEncoder\n",
        "from sklearn.model_selection import LeaveOneOut\n",
        "from sklearn.metrics import precision_recall_fscore_support\n",
        "from sklearn.metrics import confusion_matrix\n",
        "from sklearn.metrics import precision_score\n",
        "from sklearn.metrics import recall_score\n",
        "from sklearn.metrics import f1_score\n",
        "\n",
        "import torch\n",
        "import torch.nn as nn\n",
        "from torch.utils.data import Dataset\n",
        "from torch.utils.data import DataLoader"
      ],
      "metadata": {
        "id": "F9W3LmENGMAl"
      },
      "execution_count": null,
      "outputs": []
    },
    {
      "cell_type": "markdown",
      "source": [
        "Constants"
      ],
      "metadata": {
        "id": "5F3NKC8fKlzy"
      }
    },
    {
      "cell_type": "code",
      "source": [
        "ID_EXERCISE_LABEL = -3\n",
        "ID_CLUSTER_LABEL = -2\n",
        "ID_SUBJECT_LABEL = -1\n",
        "\n",
        "NORM_SAMPLE_LENGTH = 100\n",
        "# --- Enable below for results of all 10 IMUs --- #\n",
        "# CONSIDERED_IMU_POSITION = ['LeftShank', 'RightShank', 'LeftThigh', 'RightThigh', 'Pelvis', 'Chest', 'LeftFoot', 'RightFoot', 'LeftWrist', 'RightWrist']\n",
        "CONSIDERED_IMU_POSITION = ['Chest', 'LeftFoot', 'LeftShank', 'LeftThigh', 'LeftWrist', 'Pelvis', 'RightFoot', 'RightShank', 'RightThigh', 'RightWrist']\n",
        "# # --- Enable below for a subset of specific IMUs, remember to change depending on use --- #\n",
        "# CONSIDERED_IMU_POSITION = ['RightWrist']\n",
        "NOT_CONSIDERED_INFO = ['Time', 'Orientation', 'Magnetometer'] # not use these information\n",
        "# NOT_CONSIDERED_INFO = ['Time', 'Orientation', 'Accelerometer', 'Magnetometer'] # additionally remove accelerometer info\n",
        "# NOT_CONSIDERED_INFO = ['Time', 'Orientation', 'Gyroscope', 'Magnetometer'] # additionally remove gyroscope info\n",
        "NUM_SENSOR_INFO = 2 # gyroscope and acceleration\n",
        "# NUM_SENSOR_INFO = 1 # gyroscope or acceleration\n",
        "NUM_AX_PER_SENSOR = 3 # x-, y-, and z-\n",
        "\n",
        "NUM_SUBJECT = 20"
      ],
      "metadata": {
        "id": "6M20BkrsKmVR"
      },
      "execution_count": null,
      "outputs": []
    },
    {
      "cell_type": "code",
      "source": [
        "# Cluster from the clustering analysis\n",
        "CLUSTER = [[0, 3, 6, 7, 24, 27, 28, 29, 30, 35],  # cluster 0\n",
        "           [13, 14, 15, 16, 25],                  # cluster 1\n",
        "           [12, 17, 20, 31, 32, 33, 34, 36],      # cluster 2\n",
        "           [22],                                  # cluster 3\n",
        "           [18, 19, 23, 26],                      # cluster 4\n",
        "           [21],                                  # cluster 5\n",
        "           [10, 11],                              # cluster 6\n",
        "           [8, 9],                                # cluster 7\n",
        "           [4, 5],                                # cluster 8\n",
        "           [1, 2]]                                # cluster 9"
      ],
      "metadata": {
        "id": "FXIaPb4RKn6Z"
      },
      "execution_count": null,
      "outputs": []
    },
    {
      "cell_type": "code",
      "source": [
        "# --- Model hyper-parameters --- #\n",
        "# Fixed parameters\n",
        "LEARNING_RATE = 1e-4\n",
        "NUM_EPOCHS = 30\n",
        "ADAM_WEIGHT_DECAY = 1e-2\n",
        "LEARNING_RATE_REDUCTION_FACTOR = 0.5\n",
        "\n",
        "# CONV_NUM_IN = 60 # temporarily hardcoded\n",
        "num_imu = len(CONSIDERED_IMU_POSITION)\n",
        "conv_num_in = num_imu*NUM_SENSOR_INFO*NUM_AX_PER_SENSOR\n",
        "\n",
        "# Recorded tuning parameters\n",
        "\n",
        "# # For all 10 IMUs\n",
        "# # format: [batch_size, conv_num_out, kernel_size, stride_length, pool_size]\n",
        "# print('10 IMUs')\n",
        "# TUNED_HP = [[0, 0, 0, 0, 0],      # subject 1 <--- removed due to only 5 IMUs\n",
        "#             [32, 256, 4, 1, 2],   # subject 2 left for testing\n",
        "#             [64, 256, 4, 1, 2],   # subject 3 left for testing\n",
        "#             [32, 256, 4, 1, 2],   # subject 4 left for testing\n",
        "#             [32, 256, 4, 1, 2],   # subject 5 left for testing\n",
        "#             [32, 128, 4, 1, 2],   # subject 6 left for testing\n",
        "#             [32, 256, 4, 1, 2],   # subject 7 left for testing\n",
        "#             [32, 256, 4, 1, 2],   # subject 8 left for testing\n",
        "#             [32, 256, 4, 1, 2],   # subject 9 left for testing\n",
        "#             [64, 128, 4, 1, 2],   # subject 10 left for testing\n",
        "#             [32, 128, 4, 1, 2],   # subject 11 left for testing\n",
        "#             [64, 256, 4, 1, 2],   # subject 12 left for testing\n",
        "#             [32, 256, 4, 1, 2],   # subject 14 left for testing\n",
        "#             [32, 128, 4, 1, 2],   # subject 15 left for testing\n",
        "#             [32, 256, 4, 1, 2],   # subject 16 left for testing\n",
        "#             [128, 256, 4, 1, 2],  # subject 17 left for testing\n",
        "#             [64, 128, 4, 1, 2],   # subject 18 left for testing\n",
        "#             [64, 256, 4, 1, 2],   # subject 19 left for testing\n",
        "#             [64, 256, 4, 1, 2],   # subject 21 left for testing\n",
        "#             [32, 128, 4, 1, 2]]   # subject 22 left for testing\n",
        "\n",
        "# Right wrist\n",
        "TUNED_HP = [[0, 0, 0, 0, 0],      # subject 1 <--- removed due to only 5 IMUs\n",
        "            [128, 256, 4, 1, 2],   # subject 2 left for testing\n",
        "            [128, 256, 4, 1, 2],   # subject 3 left for testing\n",
        "            [32, 256, 4, 1, 2],   # subject 4 left for testing\n",
        "            [32, 256, 4, 1, 2],   # subject 5 left for testing\n",
        "            [128, 256, 4, 1, 2],   # subject 6 left for testing\n",
        "            [128, 256, 4, 1, 2],   # subject 7 left for testing\n",
        "            [128, 256, 4, 1, 2],   # subject 8 left for testing\n",
        "            [32, 256, 4, 1, 2],   # subject 9 left for testing\n",
        "            [128, 256, 4, 1, 2],   # subject 10 left for testing\n",
        "            [128, 256, 4, 1, 2],   # subject 11 left for testing\n",
        "            [64, 256, 4, 1, 2],   # subject 12 left for testing\n",
        "            [128, 256, 4, 1, 2],   # subject 14 left for testing\n",
        "            [16, 128, 4, 1, 2],   # subject 15 left for testing\n",
        "            [32, 256, 4, 1, 2],   # subject 16 left for testing\n",
        "            [16, 256, 4, 1, 2],  # subject 17 left for testing\n",
        "            [32, 256, 4, 1, 2],   # subject 18 left for testing\n",
        "            [32, 256, 4, 1, 2],   # subject 19 left for testing\n",
        "            [128, 256, 4, 1, 2],   # subject 21 left for testing\n",
        "            [128, 256, 4, 1, 2]]   # subject 22 left for testing\n",
        "\n",
        "# # Chest\n",
        "# TUNED_HP = [[0, 0, 0, 0, 0],      # subject 1 <--- removed due to only 5 IMUs\n",
        "#             [64, 256, 4, 1, 2],   # subject 2 left for testing\n",
        "#             [64, 256, 4, 1, 2],   # subject 3 left for testing\n",
        "#             [128, 256, 4, 1, 2],   # subject 4 left for testing\n",
        "#             [128, 256, 4, 1, 2],   # subject 5 left for testing\n",
        "#             [128, 256, 4, 1, 2],   # subject 6 left for testing\n",
        "#             [128, 256, 4, 1, 2],   # subject 7 left for testing\n",
        "#             [64, 256, 4, 1, 2],   # subject 8 left for testing\n",
        "#             [128, 256, 4, 1, 2],   # subject 9 left for testing\n",
        "#             [128, 256, 4, 1, 2],   # subject 10 left for testing\n",
        "#             [128, 256, 4, 1, 2],   # subject 11 left for testing\n",
        "#             [128, 256, 4, 1, 2],   # subject 12 left for testing\n",
        "#             [128, 256, 4, 1, 2],   # subject 14 left for testing\n",
        "#             [128, 128, 4, 1, 2],   # subject 15 left for testing\n",
        "#             [128, 256, 4, 1, 2],   # subject 16 left for testing\n",
        "#             [64, 128, 4, 1, 2],  # subject 17 left for testing\n",
        "#             [64, 256, 4, 1, 2],   # subject 18 left for testing\n",
        "#             [128, 256, 4, 1, 2],   # subject 19 left for testing\n",
        "#             [128, 256, 4, 1, 2],   # subject 21 left for testing\n",
        "#             [128, 256, 4, 1, 2]]   # subject 22 left for testing\n",
        "\n",
        "# # Pelvis\n",
        "# TUNED_HP = [[0, 0, 0, 0, 0],      # subject 1 <--- removed due to only 5 IMUs\n",
        "#             [16, 256, 4, 1, 2],   # subject 2 left for testing\n",
        "#             [16, 256, 4, 1, 2],   # subject 3 left for testing\n",
        "#             [16, 256, 4, 1, 2],   # subject 4 left for testing\n",
        "#             [128, 256, 4, 1, 2],   # subject 5 left for testing\n",
        "#             [16, 256, 4, 1, 2],   # subject 6 left for testing\n",
        "#             [16, 256, 4, 1, 2],   # subject 7 left for testing\n",
        "#             [64, 256, 4, 1, 2],   # subject 8 left for testing\n",
        "#             [16, 256, 4, 1, 2],   # subject 9 left for testing\n",
        "#             [128, 256, 4, 1, 2],   # subject 10 left for testing\n",
        "#             [16, 256, 4, 1, 2],   # subject 11 left for testing\n",
        "#             [16, 256, 4, 1, 2],   # subject 12 left for testing\n",
        "#             [64, 256, 4, 1, 2],   # subject 14 left for testing\n",
        "#             [16, 256, 4, 1, 2],   # subject 15 left for testing\n",
        "#             [64, 256, 4, 1, 2],   # subject 16 left for testing\n",
        "#             [64, 256, 4, 1, 2],  # subject 17 left for testing\n",
        "#             [128, 256, 4, 1, 2],   # subject 18 left for testing\n",
        "#             [16, 256, 4, 1, 2],   # subject 19 left for testing\n",
        "#             [128, 256, 4, 1, 2],   # subject 21 left for testing\n",
        "#             [16, 256, 4, 1, 2]]   # subject 22 left for testing\n",
        "\n",
        "# # Right thigh\n",
        "# TUNED_HP = [[0, 0, 0, 0, 0],      # subject 1 <--- removed due to only 5 IMUs\n",
        "#             [64, 256, 4, 1, 2],   # subject 2 left for testing\n",
        "#             [128, 256, 4, 1, 2],   # subject 3 left for testing\n",
        "#             [128, 256, 4, 1, 2],   # subject 4 left for testing\n",
        "#             [128, 256, 4, 1, 2],   # subject 5 left for testing\n",
        "#             [64, 256, 4, 1, 2],   # subject 6 left for testing\n",
        "#             [64, 256, 4, 1, 2],   # subject 7 left for testing\n",
        "#             [128, 256, 4, 1, 2],   # subject 8 left for testing\n",
        "#             [128, 256, 4, 1, 2],   # subject 9 left for testing\n",
        "#             [128, 256, 4, 1, 2],   # subject 10 left for testing\n",
        "#             [64, 256, 4, 1, 2],   # subject 11 left for testing\n",
        "#             [128, 256, 4, 1, 2],   # subject 12 left for testing\n",
        "#             [128, 256, 4, 1, 2],   # subject 14 left for testing\n",
        "#             [128, 256, 4, 1, 2],   # subject 15 left for testing\n",
        "#             [64, 256, 4, 1, 2],   # subject 16 left for testing\n",
        "#             [64, 256, 4, 1, 2],  # subject 17 left for testing\n",
        "#             [64, 256, 4, 1, 2],   # subject 18 left for testing\n",
        "#             [64, 256, 4, 1, 2],   # subject 19 left for testing\n",
        "#             [128, 256, 4, 1, 2],   # subject 21 left for testing\n",
        "#             [64, 256, 4, 1, 2]]   # subject 22 left for testing\n",
        "\n",
        "# # Left & right thigh\n",
        "# TUNED_HP = [[0, 0, 0, 0, 0],      # subject 1 <--- removed due to only 5 IMUs\n",
        "#             [128, 256, 4, 1, 2],   # subject 2 left for testing\n",
        "#             [64, 256, 4, 1, 2],   # subject 3 left for testing\n",
        "#             [64, 256, 4, 1, 2],   # subject 4 left for testing\n",
        "#             [64, 256, 4, 1, 2],   # subject 5 left for testing\n",
        "#             [64, 256, 4, 1, 2],   # subject 6 left for testing\n",
        "#             [128, 256, 4, 1, 2],   # subject 7 left for testing\n",
        "#             [64, 256, 4, 1, 2],   # subject 8 left for testing\n",
        "#             [64, 256, 4, 1, 2],   # subject 9 left for testing\n",
        "#             [64, 256, 4, 1, 2],   # subject 10 left for testing\n",
        "#             [128, 256, 4, 1, 2],   # subject 11 left for testing\n",
        "#             [64, 256, 4, 1, 2],   # subject 12 left for testing\n",
        "#             [64, 256, 4, 1, 2],   # subject 14 left for testing\n",
        "#             [64, 256, 4, 1, 2],   # subject 15 left for testing\n",
        "#             [128, 256, 4, 1, 2],   # subject 16 left for testing\n",
        "#             [128, 256, 4, 1, 2],  # subject 17 left for testing\n",
        "#             [64, 256, 4, 1, 2],   # subject 18 left for testing\n",
        "#             [64, 256, 4, 1, 2],   # subject 19 left for testing\n",
        "#             [128, 256, 4, 1, 2],   # subject 21 left for testing\n",
        "#             [128, 256, 4, 1, 2]]   # subject 22 left for testing\n",
        "\n",
        "# # Chest & right thigh\n",
        "# TUNED_HP = [[0, 0, 0, 0, 0],      # subject 1 <--- removed due to only 5 IMUs\n",
        "#             [128, 256, 4, 1, 2],   # subject 2 left for testing\n",
        "#             [64, 256, 4, 1, 2],   # subject 3 left for testing\n",
        "#             [32, 256, 4, 1, 2],   # subject 4 left for testing\n",
        "#             [64, 256, 4, 1, 2],   # subject 5 left for testing\n",
        "#             [64, 256, 4, 1, 2],   # subject 6 left for testing\n",
        "#             [64, 256, 4, 1, 2],   # subject 7 left for testing\n",
        "#             [64, 256, 4, 1, 2],   # subject 8 left for testing\n",
        "#             [128, 256, 4, 1, 2],   # subject 9 left for testing\n",
        "#             [128, 256, 4, 1, 2],   # subject 10 left for testing\n",
        "#             [128, 256, 4, 1, 2],   # subject 11 left for testing\n",
        "#             [64, 256, 4, 1, 2],   # subject 12 left for testing\n",
        "#             [64, 256, 4, 1, 2],   # subject 14 left for testing\n",
        "#             [128, 256, 4, 1, 2],   # subject 15 left for testing\n",
        "#             [128, 256, 4, 1, 2],   # subject 16 left for testing\n",
        "#             [128, 256, 4, 1, 2],  # subject 17 left for testing\n",
        "#             [32, 256, 4, 1, 2],   # subject 18 left for testing\n",
        "#             [64, 256, 4, 1, 2],   # subject 19 left for testing\n",
        "#             [128, 256, 4, 1, 2],   # subject 21 left for testing\n",
        "#             [128, 256, 4, 1, 2]]   # subject 22 left for testing\n",
        "\n",
        "# # Right thigh & shank\n",
        "# TUNED_HP = [[0, 0, 0, 0, 0],      # subject 1 <--- removed due to only 5 IMUs\n",
        "#             [128, 256, 4, 1, 2],   # subject 2 left for testing\n",
        "#             [128, 256, 4, 1, 2],   # subject 3 left for testing\n",
        "#             [64, 256, 4, 1, 2],   # subject 4 left for testing\n",
        "#             [128, 256, 4, 1, 2],   # subject 5 left for testing\n",
        "#             [128, 256, 4, 1, 2],   # subject 6 left for testing\n",
        "#             [64, 256, 4, 1, 2],   # subject 7 left for testing\n",
        "#             [128, 256, 4, 1, 2],   # subject 8 left for testing\n",
        "#             [64, 256, 4, 1, 2],   # subject 9 left for testing\n",
        "#             [64, 256, 4, 1, 2],   # subject 10 left for testing\n",
        "#             [64, 256, 4, 1, 2],   # subject 11 left for testing\n",
        "#             [64, 256, 4, 1, 2],   # subject 12 left for testing\n",
        "#             [64, 256, 4, 1, 2],   # subject 14 left for testing\n",
        "#             [64, 256, 4, 1, 2],   # subject 15 left for testing\n",
        "#             [32, 256, 4, 1, 2],   # subject 16 left for testing\n",
        "#             [128, 256, 4, 1, 2],  # subject 17 left for testing\n",
        "#             [64, 256, 4, 1, 2],   # subject 18 left for testing\n",
        "#             [128, 256, 4, 1, 2],   # subject 19 left for testing\n",
        "#             [64, 256, 4, 1, 2],   # subject 21 left for testing\n",
        "#             [128, 256, 4, 1, 2]]   # subject 22 left for testing\n",
        "\n",
        "# # Right thigh & wrist\n",
        "# TUNED_HP = [[0, 0, 0, 0, 0],      # subject 1 <--- removed due to only 5 IMUs\n",
        "#             [32, 128, 4, 1, 2],   # subject 2 left for testing\n",
        "#             [32, 256, 4, 1, 2],   # subject 3 left for testing\n",
        "#             [64, 256, 4, 1, 2],   # subject 4 left for testing\n",
        "#             [64, 256, 4, 1, 2],   # subject 5 left for testing\n",
        "#             [32, 256, 4, 1, 2],   # subject 6 left for testing\n",
        "#             [32, 256, 4, 1, 2],   # subject 7 left for testing\n",
        "#             [64, 256, 4, 1, 2],   # subject 8 left for testing\n",
        "#             [32, 128, 4, 1, 2],   # subject 9 left for testing\n",
        "#             [32, 256, 4, 1, 2],   # subject 10 left for testing\n",
        "#             [32, 256, 4, 1, 2],   # subject 11 left for testing\n",
        "#             [32, 256, 4, 1, 2],   # subject 12 left for testing\n",
        "#             [32, 256, 4, 1, 2],   # subject 14 left for testing\n",
        "#             [32, 128, 4, 1, 2],   # subject 15 left for testing\n",
        "#             [32, 256, 4, 1, 2],   # subject 16 left for testing\n",
        "#             [32, 128, 4, 1, 2],   # subject 17 left for testing\n",
        "#             [32, 256, 4, 1, 2],   # subject 18 left for testing\n",
        "#             [32, 256, 4, 1, 2],   # subject 19 left for testing\n",
        "#             [32, 128, 4, 1, 2],   # subject 21 left for testing\n",
        "#             [32, 256, 4, 1, 2]]   # subject 22 left for testing\n",
        "\n",
        "# Id for tuning parameters\n",
        "ID_BATCH_SIZE = 0\n",
        "ID_NUM_OUT = 1\n",
        "ID_KERNEL_SIZE = 2\n",
        "ID_STRIDE = 3\n",
        "ID_POOL_SIZE = 4"
      ],
      "metadata": {
        "id": "fW7tUxw5KrHh"
      },
      "execution_count": null,
      "outputs": []
    },
    {
      "cell_type": "markdown",
      "source": [
        "#Utils"
      ],
      "metadata": {
        "id": "cDjnDJ6_K0Xq"
      }
    },
    {
      "cell_type": "markdown",
      "source": [
        "Pre-processing"
      ],
      "metadata": {
        "id": "Z8bQcwcKK2gJ"
      }
    },
    {
      "cell_type": "code",
      "source": [
        "# all helper function here\n",
        "# helper functions\n",
        "def mkfolder(pth):\n",
        "  if not os.path.exists(pth):\n",
        "    os.mkdir(pth)\n",
        "\n",
        "def read(pth):\n",
        "  return pd.read_csv(pth)\n",
        "\n",
        "# Load and re-format the data file\n",
        "def load_df(pth):\n",
        "  dtframe = read(pth)\n",
        "  dtframe = dtframe.iloc[:, 3:] # remove the first 3 columns\n",
        "\n",
        "  # Re-formatting the column's names\n",
        "  # e.g., Pevist Accelerometer X, LeftFoot Gyroscope Z, etc.\n",
        "  names = list(dtframe.columns)\n",
        "  names = [name.split('.')[0] for name in names]\n",
        "  names_2 = dtframe.iloc[0, :]\n",
        "  names_3 = dtframe.iloc[1, :]\n",
        "\n",
        "  for i in range(len(names)):\n",
        "    names[i] = names[i]+' '+names_2[i]+' '+names_3[i]\n",
        "\n",
        "  dtframe = dtframe.iloc[2:, :] # remove the first 2 rows\n",
        "  dtframe.columns = names # update new column's names\n",
        "\n",
        "  return dtframe\n",
        "\n",
        "def slice_df(dtframe):\n",
        "  cols = sorted(dtframe.columns)\n",
        "\n",
        "  req_cols = [col for col in cols if col.split(' ')[0] in CONSIDERED_IMU_POSITION] # only keep data from considered sensors (may not be all 10), e.g., chest, pelvis, etc.\n",
        "  req_cols = [col for col in req_cols if col.split(' ')[1] not in NOT_CONSIDERED_INFO] # not use information from orientation, magnetometer or time\n",
        "\n",
        "  dtframe = dtframe.loc[:, req_cols]\n",
        "\n",
        "  return dtframe\n",
        "\n",
        "# One hot encoding\n",
        "def one_hot_encoding(label, num_clasess):\n",
        "  temp = np.zeros(num_clasess)\n",
        "  temp[label] = 1\n",
        "\n",
        "  return temp\n",
        "\n",
        "# One hot decoding\n",
        "def one_hot_decoding(num):\n",
        "  if num.shape[0] > 0:\n",
        "    temp = np.array([np.where(row == 1) for row in num])\n",
        "  else:\n",
        "    temp = np.argwhere(num == 1)\n",
        "\n",
        "  return temp\n",
        "\n",
        "# Normalize data to have the same sample length for training the network\n",
        "def normLength(arr, maxlength):\n",
        "  new_arr = np.zeros((maxlength, arr.shape[-1]))\n",
        "  for i in range(arr.shape[-1]):\n",
        "    a = arr[:, i]\n",
        "    k = a.shape[0]\n",
        "    y = np.interp(np.linspace(0, 1, maxlength), np.linspace(0, 1, k), a)\n",
        "    new_arr[:, i] = y\n",
        "  return new_arr\n",
        "\n",
        "# Obtain cluster label from the previous clustering analysis\n",
        "def get_cluster_label(ex_code):\n",
        "  cluster_found = False\n",
        "  cluster_id = 0\n",
        "\n",
        "  while not cluster_found:\n",
        "    if ex_code in CLUSTER[cluster_id]:\n",
        "      cluster_found = True\n",
        "    else:\n",
        "      cluster_id += 1 # increase the id\n",
        "\n",
        "  return cluster_id\n"
      ],
      "metadata": {
        "id": "vw-O_cc1K07p"
      },
      "execution_count": null,
      "outputs": []
    },
    {
      "cell_type": "markdown",
      "source": [
        "Dataset handler"
      ],
      "metadata": {
        "id": "-wfUFbMRK76J"
      }
    },
    {
      "cell_type": "code",
      "source": [
        "class MyDataset(Dataset):\n",
        "    def __init__(self, list_of_samples, to_size, num_classes):\n",
        "      self.to_size = to_size\n",
        "\n",
        "      list_of_samples = [normLength(sample, NORM_SAMPLE_LENGTH).T for sample in list_of_samples]\n",
        "\n",
        "      self.X = [sample[:ID_EXERCISE_LABEL, :] for sample in list_of_samples] # <-- take only 60 columns of data\n",
        "      \n",
        "      if num_classes < 37:\n",
        "        self.Y = [one_hot_encoding(int(sample[ID_CLUSTER_LABEL, :][0]), num_classes) for sample in list_of_samples]\n",
        "      else:\n",
        "        self.Y = [one_hot_encoding(int(sample[ID_EXERCISE_LABEL, :][0]), num_classes) for sample in list_of_samples]\n",
        "\n",
        "    def __len__(self):\n",
        "      return len(self.Y)\n",
        "\n",
        "    def __getitem__(self, idx):\n",
        "      x = torch.from_numpy(self.X[idx]).float()\n",
        "      y = self.Y[idx]\n",
        "      # y = int(self.Y[0])\n",
        "      # y = np.array(y)\n",
        "      if device == 'cuda':\n",
        "        x = x.to(device)\n",
        "        y = torch.from_numpy(y)\n",
        "        y = y.to(device)\n",
        "      return x, y"
      ],
      "metadata": {
        "id": "0LS2gJAHK81B"
      },
      "execution_count": null,
      "outputs": []
    },
    {
      "cell_type": "markdown",
      "source": [
        "Model"
      ],
      "metadata": {
        "id": "Ayp5FbtzLDT5"
      }
    },
    {
      "cell_type": "code",
      "source": [
        "class CNN_Alter_Block(nn.Module):\n",
        "    def __init__(self, num_in, num_out, kernel_size, stride, pool_size, num_classes):\n",
        "        super(CNN_Alter_Block, self).__init__()\n",
        "        self.conv1    = nn.Conv1d(num_in, num_out, kernel_size, stride)      # input paramters\n",
        "        self.relu1    = nn.ReLU()\n",
        "        self.bnorm    = nn.BatchNorm1d(num_out)\n",
        "        self.pooling  = nn.MaxPool1d((pool_size))\n",
        "\n",
        "        self.flatten  = nn.Flatten()\n",
        "        self.dropout  = nn.Dropout(p = 0.5)\n",
        "        self.fcl      = nn.LazyLinear(out_features = num_classes)\n",
        "        self.sfmx     = nn.Softmax(dim=1)\n",
        "\n",
        "    def forward(self, x):\n",
        "        # x = x.cuda()\n",
        "        x = self.conv1(x)\n",
        "        x = self.relu1(x)\n",
        "        x = self.bnorm(x)\n",
        "        x = self.pooling(x)\n",
        "\n",
        "        x = self.flatten(x)\n",
        "        x = self.dropout(x)\n",
        "        x = self.fcl(x)\n",
        "        x = self.sfmx(x)\n",
        "        return x"
      ],
      "metadata": {
        "id": "fS57FzjiLDpB"
      },
      "execution_count": null,
      "outputs": []
    },
    {
      "cell_type": "markdown",
      "source": [
        "Evaluate prediction"
      ],
      "metadata": {
        "id": "TN3QoKDcLFyx"
      }
    },
    {
      "cell_type": "code",
      "source": [
        "# ---> Remember to check one more time before running the loop\n",
        "def predict(some_tensor, labs, num_classes):\n",
        "  some_tensor = some_tensor.cpu().detach().numpy()\n",
        "  labs        = labs.cpu().detach().numpy()\n",
        "\n",
        "  cm = np.zeros([num_classes, num_classes]) # for storing confusion matrix\n",
        "\n",
        "  y_truth = []\n",
        "  y_pred = []\n",
        "\n",
        "  count = 0 # for average accuracy\n",
        "\n",
        "  for i in range(some_tensor.shape[0]):\n",
        "    temp_pred = np.argmax(some_tensor[i])\n",
        "    temp_truth = np.argmax(labs[i])\n",
        "\n",
        "    # Update confusion matrix\n",
        "    cm[temp_truth, temp_pred] = cm[temp_truth, temp_pred] + 1\n",
        "\n",
        "    # print('Prediction = ' + str(temp_pred) + ' - ' + 'Truth = ' + str(temp_truth))\n",
        "\n",
        "    # Add truth and pred. values\n",
        "    y_truth.append(temp_truth)\n",
        "    y_pred.append(temp_pred)\n",
        "\n",
        "    # Update accuracy\n",
        "    if temp_pred == temp_truth:\n",
        "      count = count + 1\n",
        "    else:\n",
        "      pass # do nothing\n",
        "  \n",
        "  return count, cm, y_truth, y_pred"
      ],
      "metadata": {
        "id": "19F4S4MwLGyp"
      },
      "execution_count": null,
      "outputs": []
    },
    {
      "cell_type": "markdown",
      "source": [
        "Model loop"
      ],
      "metadata": {
        "id": "2ODVyUteLI7S"
      }
    },
    {
      "cell_type": "code",
      "source": [
        "val_acc, best_val_loss = 0, 1.0\n",
        "\n",
        "# --- Training --- #\n",
        "def train_loop(dataloader, model, loss_fn, optimizer, num_classes):\n",
        "    global train_mode\n",
        "    train_mode = True\n",
        "\n",
        "    size        = len(dataloader.dataset)\n",
        "    num_batches = len(dataloader)\n",
        "    train_loss, correct, sched_factor = 0, 0, 0\n",
        "\n",
        "    cm = np.zeros([num_classes, num_classes]) # for storing confusion matrix\n",
        "\n",
        "    y_truth = []\n",
        "    y_pred = []\n",
        "\n",
        "    for batch, (X, y) in enumerate(dataloader):\n",
        "        # print(X)\n",
        "        # Compute prediction and loss\n",
        "        pred = model(X)\n",
        "        # print(pred)\n",
        "        # print(predict(pred, y))\n",
        "        # print('----------------------')\n",
        "        # print(pred)\n",
        "        # print(y)\n",
        "        # break\n",
        "        y = y.type(torch.FloatTensor)\n",
        "        if device == 'cuda': y = y.cuda()\n",
        "\n",
        "        loss = loss_fn(pred, y)\n",
        "\n",
        "        # Backpropagation\n",
        "        optimizer.zero_grad()\n",
        "        loss.backward()\n",
        "        optimizer.step()\n",
        "\n",
        "        if batch % 20 == 0:\n",
        "            loss, current = loss.item(), batch * len(X)\n",
        "            # print(f\"loss: {loss:>7f}  [{current:>5d}/{size:>5d}]\")\n",
        "        \n",
        "        temp_correct, temp_cm, temp_y_truth, temp_y_pred = predict(pred, y, num_classes)\n",
        "        correct = correct + temp_correct \n",
        "        cm = cm + temp_cm\n",
        "        y_truth = y_truth + temp_y_truth\n",
        "        y_pred = y_pred + temp_y_pred\n",
        "        train_loss  += loss_fn(pred, y).item()\n",
        "\n",
        "    train_loss /= num_batches\n",
        "    train_losses.append(train_loss)\n",
        "    correct /= size\n",
        "\n",
        "    scheduler.step(train_loss)\n",
        "\n",
        "    # print(f\"Train Error: \\n Accuracy: {(100*correct):>0.1f}%, Avg loss: {train_loss:>8f} \\n\")\n",
        "\n",
        "    return correct, cm, y_truth, y_pred\n",
        "\n",
        "# --- Testing --- #\n",
        "def test_loop(dataloader, model, loss_fn, num_classes):\n",
        "    global train_mode\n",
        "    train_mode = False\n",
        "\n",
        "    size        = len(dataloader.dataset)\n",
        "    num_batches = len(dataloader)\n",
        "    test_loss, correct, size = 0, 0, 0\n",
        "\n",
        "    cm = np.zeros([num_classes, num_classes]) # for storing confusion matrix\n",
        "\n",
        "    y_truth = []\n",
        "    y_pred = []\n",
        "\n",
        "    with torch.no_grad():\n",
        "        for X, y in dataloader:\n",
        "            pred = model(X)\n",
        "            # pred = predict(pred, y)\n",
        "            y = y.type(torch.FloatTensor)\n",
        "            if device == 'cuda': y = y.cuda()\n",
        "            test_loss += loss_fn(pred, y).item()\n",
        "            # correct += (pred.argmax(1) == y).type(torch.float).sum().item() # comment out\n",
        "\n",
        "            temp_correct, temp_cm, temp_y_truth, temp_y_pred = predict(pred, y, num_classes)\n",
        "            correct = correct + temp_correct\n",
        "            cm = cm + temp_cm\n",
        "            y_truth = y_truth + temp_y_truth\n",
        "            y_pred = y_pred + temp_y_pred\n",
        "            size    += y.shape[0]\n",
        "\n",
        "    test_loss /= num_batches\n",
        "    correct /= size\n",
        "    # print(f\"Test Error: \\n Accuracy: {(100*correct):>0.1f}%, Avg loss: {test_loss:>8f} \\n\")\n",
        "\n",
        "    return correct, cm, y_truth, y_pred"
      ],
      "metadata": {
        "id": "ej343gtKLJdJ"
      },
      "execution_count": null,
      "outputs": []
    },
    {
      "cell_type": "markdown",
      "source": [
        "LOSOCV"
      ],
      "metadata": {
        "id": "E6c2HYkPLLFy"
      }
    },
    {
      "cell_type": "code",
      "source": [
        "def losocv_split_train_list(all_subject_id, test_subject):  \n",
        "  train_list = [m for m in all_subject_id if m != test_subject]\n",
        "\n",
        "  return train_list"
      ],
      "metadata": {
        "id": "XB4zyX_3LLpR"
      },
      "execution_count": null,
      "outputs": []
    },
    {
      "cell_type": "markdown",
      "source": [
        "#Subjects and exercises"
      ],
      "metadata": {
        "id": "OfkdiuJkLPpJ"
      }
    },
    {
      "cell_type": "code",
      "source": [
        "root_path = 'drive/MyDrive/mbl/parsed_h5_csv/'\n",
        "subs = sorted(list(os.listdir(root_path)))\n",
        "# subs = subs[:-1] # remove 'merged' # we don't have 'merged' in this folder"
      ],
      "metadata": {
        "id": "VUWNGe1kLROJ"
      },
      "execution_count": null,
      "outputs": []
    },
    {
      "cell_type": "code",
      "source": [
        "subs"
      ],
      "metadata": {
        "colab": {
          "base_uri": "https://localhost:8080/"
        },
        "id": "YmC2nQfWLaV5",
        "outputId": "aeb83600-3f70-480f-c2dd-f783e45409ad"
      },
      "execution_count": null,
      "outputs": [
        {
          "output_type": "execute_result",
          "data": {
            "text/plain": [
              "['SUB01',\n",
              " 'SUB02',\n",
              " 'SUB03',\n",
              " 'SUB04',\n",
              " 'SUB05',\n",
              " 'SUB06',\n",
              " 'SUB07',\n",
              " 'SUB08',\n",
              " 'SUB09',\n",
              " 'SUB10',\n",
              " 'SUB11',\n",
              " 'SUB12',\n",
              " 'SUB14',\n",
              " 'SUB15',\n",
              " 'SUB16',\n",
              " 'SUB17',\n",
              " 'SUB18',\n",
              " 'SUB19',\n",
              " 'SUB21',\n",
              " 'SUB22']"
            ]
          },
          "metadata": {},
          "execution_count": 418
        }
      ]
    },
    {
      "cell_type": "code",
      "source": [
        "# total should be 20\n",
        "num_subject = len(subs)\n",
        "num_subject"
      ],
      "metadata": {
        "colab": {
          "base_uri": "https://localhost:8080/"
        },
        "id": "6oxkfC7lLyTJ",
        "outputId": "825f1826-503c-4450-e7c2-190c70739cf0"
      },
      "execution_count": null,
      "outputs": [
        {
          "output_type": "execute_result",
          "data": {
            "text/plain": [
              "20"
            ]
          },
          "metadata": {},
          "execution_count": 419
        }
      ]
    },
    {
      "cell_type": "markdown",
      "source": [
        "Obtain exercises"
      ],
      "metadata": {
        "id": "padh1FR8L0NK"
      }
    },
    {
      "cell_type": "code",
      "source": [
        "exercises = [sorted(os.listdir(root_path+sub)) for sub in subs]\n",
        "\n",
        "# Get types of exercises (i.e., physical activities)\n",
        "exercise_types = []\n",
        "for ex in exercises:\n",
        "  exercise_types.extend(ex)"
      ],
      "metadata": {
        "id": "Xg0Ng4HkL1Pm"
      },
      "execution_count": null,
      "outputs": []
    },
    {
      "cell_type": "code",
      "source": [
        "for ex in exercises:\n",
        "  print(len(ex), ex)"
      ],
      "metadata": {
        "colab": {
          "base_uri": "https://localhost:8080/"
        },
        "id": "SgLNHYDcL6VJ",
        "outputId": "a7d4357e-bcbe-402b-bef4-b12c73c18087"
      },
      "execution_count": null,
      "outputs": [
        {
          "output_type": "stream",
          "name": "stdout",
          "text": [
            "14 ['CMJDL', 'DropJumpDL', 'DropLandDL', 'HeelRaise', 'Lunge', 'MaxJump', 'Run', 'SqDL', 'SqHalfDL', 'StepDnH', 'StepDnL', 'StepUpH', 'StepUpL', 'Walk']\n",
            "37 ['BulgSq', 'CMJDL', 'CMJSL', 'DeclineSq', 'DropJumpDL', 'DropJumpSL', 'DropLandDL', 'DropLandSL', 'FwHop', 'FwHopFast', 'FwJump', 'FwJumpFast', 'HeelRaise', 'LatHop', 'LatHopFast', 'LatJump', 'LatJumpFast', 'Lunge', 'MaxHop', 'MaxJump', 'Pose', 'Run', 'RunCut', 'RunDec', 'SpainSq', 'SplitJump', 'SportJump', 'SqDL', 'SqHalfDL', 'SqHalfSL', 'SqSL', 'StepDnH', 'StepDnL', 'StepUpH', 'StepUpL', 'SumoSq', 'Walk']\n",
            "37 ['BulgSq', 'CMJDL', 'CMJSL', 'DeclineSq', 'DropJumpDL', 'DropJumpSL', 'DropLandDL', 'DropLandSL', 'FwHop', 'FwHopFast', 'FwJump', 'FwJumpFast', 'HeelRaise', 'LatHop', 'LatHopFast', 'LatJump', 'LatJumpFast', 'Lunge', 'MaxHop', 'MaxJump', 'Pose', 'Run', 'RunCut', 'RunDec', 'SpainSq', 'SplitJump', 'SportJump', 'SqDL', 'SqHalfDL', 'SqHalfSL', 'SqSL', 'StepDnH', 'StepDnL', 'StepUpH', 'StepUpL', 'SumoSq', 'Walk']\n",
            "37 ['BulgSq', 'CMJDL', 'CMJSL', 'DeclineSq', 'DropJumpDL', 'DropJumpSL', 'DropLandDL', 'DropLandSL', 'FwHop', 'FwHopFast', 'FwJump', 'FwJumpFast', 'HeelRaise', 'LatHop', 'LatHopFast', 'LatJump', 'LatJumpFast', 'Lunge', 'MaxHop', 'MaxJump', 'Pose', 'Run', 'RunCut', 'RunDec', 'SpainSq', 'SplitJump', 'SportJump', 'SqDL', 'SqHalfDL', 'SqHalfSL', 'SqSL', 'StepDnH', 'StepDnL', 'StepUpH', 'StepUpL', 'SumoSq', 'Walk']\n",
            "37 ['BulgSq', 'CMJDL', 'CMJSL', 'DeclineSq', 'DropJumpDL', 'DropJumpSL', 'DropLandDL', 'DropLandSL', 'FwHop', 'FwHopFast', 'FwJump', 'FwJumpFast', 'HeelRaise', 'LatHop', 'LatHopFast', 'LatJump', 'LatJumpFast', 'Lunge', 'MaxHop', 'MaxJump', 'Pose', 'Run', 'RunCut', 'RunDec', 'SpainSq', 'SplitJump', 'SportJump', 'SqDL', 'SqHalfDL', 'SqHalfSL', 'SqSL', 'StepDnH', 'StepDnL', 'StepUpH', 'StepUpL', 'SumoSq', 'Walk']\n",
            "37 ['BulgSq', 'CMJDL', 'CMJSL', 'DeclineSq', 'DropJumpDL', 'DropJumpSL', 'DropLandDL', 'DropLandSL', 'FwHop', 'FwHopFast', 'FwJump', 'FwJumpFast', 'HeelRaise', 'LatHop', 'LatHopFast', 'LatJump', 'LatJumpFast', 'Lunge', 'MaxHop', 'MaxJump', 'Pose', 'Run', 'RunCut', 'RunDec', 'SpainSq', 'SplitJump', 'SportJump', 'SqDL', 'SqHalfDL', 'SqHalfSL', 'SqSL', 'StepDnH', 'StepDnL', 'StepUpH', 'StepUpL', 'SumoSq', 'Walk']\n",
            "37 ['BulgSq', 'CMJDL', 'CMJSL', 'DeclineSq', 'DropJumpDL', 'DropJumpSL', 'DropLandDL', 'DropLandSL', 'FwHop', 'FwHopFast', 'FwJump', 'FwJumpFast', 'HeelRaise', 'LatHop', 'LatHopFast', 'LatJump', 'LatJumpFast', 'Lunge', 'MaxHop', 'MaxJump', 'Pose', 'Run', 'RunCut', 'RunDec', 'SpainSq', 'SplitJump', 'SportJump', 'SqDL', 'SqHalfDL', 'SqHalfSL', 'SqSL', 'StepDnH', 'StepDnL', 'StepUpH', 'StepUpL', 'SumoSq', 'Walk']\n",
            "37 ['BulgSq', 'CMJDL', 'CMJSL', 'DeclineSq', 'DropJumpDL', 'DropJumpSL', 'DropLandDL', 'DropLandSL', 'FwHop', 'FwHopFast', 'FwJump', 'FwJumpFast', 'HeelRaise', 'LatHop', 'LatHopFast', 'LatJump', 'LatJumpFast', 'Lunge', 'MaxHop', 'MaxJump', 'Pose', 'Run', 'RunCut', 'RunDec', 'SpainSq', 'SplitJump', 'SportJump', 'SqDL', 'SqHalfDL', 'SqHalfSL', 'SqSL', 'StepDnH', 'StepDnL', 'StepUpH', 'StepUpL', 'SumoSq', 'Walk']\n",
            "36 ['BulgSq', 'CMJDL', 'CMJSL', 'DeclineSq', 'DropJumpDL', 'DropJumpSL', 'DropLandDL', 'DropLandSL', 'FwHop', 'FwHopFast', 'FwJump', 'HeelRaise', 'LatHop', 'LatHopFast', 'LatJump', 'LatJumpFast', 'Lunge', 'MaxHop', 'MaxJump', 'Pose', 'Run', 'RunCut', 'RunDec', 'SpainSq', 'SplitJump', 'SportJump', 'SqDL', 'SqHalfDL', 'SqHalfSL', 'SqSL', 'StepDnH', 'StepDnL', 'StepUpH', 'StepUpL', 'SumoSq', 'Walk']\n",
            "36 ['BulgSq', 'CMJDL', 'CMJSL', 'DeclineSq', 'DropJumpDL', 'DropJumpSL', 'DropLandDL', 'DropLandSL', 'FwHop', 'FwHopFast', 'FwJump', 'FwJumpFast', 'HeelRaise', 'LatHop', 'LatHopFast', 'LatJump', 'LatJumpFast', 'Lunge', 'MaxHop', 'MaxJump', 'Pose', 'Run', 'RunCut', 'RunDec', 'SplitJump', 'SportJump', 'SqDL', 'SqHalfDL', 'SqHalfSL', 'SqSL', 'StepDnH', 'StepDnL', 'StepUpH', 'StepUpL', 'SumoSq', 'Walk']\n",
            "34 ['BulgSq', 'CMJDL', 'CMJSL', 'DeclineSq', 'DropJumpSL', 'DropLandDL', 'DropLandSL', 'FwHop', 'FwHopFast', 'FwJump', 'FwJumpFast', 'HeelRaise', 'LatHop', 'LatHopFast', 'LatJump', 'LatJumpFast', 'Lunge', 'MaxHop', 'MaxJump', 'Run', 'RunCut', 'RunDec', 'SpainSq', 'SplitJump', 'SportJump', 'SqDL', 'SqHalfDL', 'SqHalfSL', 'SqSL', 'StepDnL', 'StepUpH', 'StepUpL', 'SumoSq', 'Walk']\n",
            "37 ['BulgSq', 'CMJDL', 'CMJSL', 'DeclineSq', 'DropJumpDL', 'DropJumpSL', 'DropLandDL', 'DropLandSL', 'FwHop', 'FwHopFast', 'FwJump', 'FwJumpFast', 'HeelRaise', 'LatHop', 'LatHopFast', 'LatJump', 'LatJumpFast', 'Lunge', 'MaxHop', 'MaxJump', 'Pose', 'Run', 'RunCut', 'RunDec', 'SpainSq', 'SplitJump', 'SportJump', 'SqDL', 'SqHalfDL', 'SqHalfSL', 'SqSL', 'StepDnH', 'StepDnL', 'StepUpH', 'StepUpL', 'SumoSq', 'Walk']\n",
            "36 ['BulgSq', 'CMJDL', 'CMJSL', 'DeclineSq', 'DropJumpDL', 'DropJumpSL', 'DropLandDL', 'DropLandSL', 'FwHop', 'FwHopFast', 'FwJump', 'FwJumpFast', 'HeelRaise', 'LatHop', 'LatHopFast', 'LatJump', 'Lunge', 'MaxHop', 'MaxJump', 'Pose', 'Run', 'RunCut', 'RunDec', 'SpainSq', 'SplitJump', 'SportJump', 'SqDL', 'SqHalfDL', 'SqHalfSL', 'SqSL', 'StepDnH', 'StepDnL', 'StepUpH', 'StepUpL', 'SumoSq', 'Walk']\n",
            "36 ['BulgSq', 'CMJDL', 'CMJSL', 'DeclineSq', 'DropJumpDL', 'DropJumpSL', 'DropLandDL', 'DropLandSL', 'FwHop', 'FwHopFast', 'FwJump', 'FwJumpFast', 'HeelRaise', 'LatHop', 'LatHopFast', 'LatJump', 'LatJumpFast', 'Lunge', 'MaxHop', 'MaxJump', 'Pose', 'Run', 'RunCut', 'RunDec', 'SpainSq', 'SplitJump', 'SportJump', 'SqDL', 'SqHalfDL', 'SqHalfSL', 'SqSL', 'StepDnH', 'StepUpH', 'StepUpL', 'SumoSq', 'Walk']\n",
            "36 ['BulgSq', 'CMJDL', 'CMJSL', 'DeclineSq', 'DropJumpDL', 'DropJumpSL', 'DropLandDL', 'DropLandSL', 'FwHop', 'FwHopFast', 'FwJump', 'FwJumpFast', 'HeelRaise', 'LatHop', 'LatHopFast', 'LatJump', 'LatJumpFast', 'Lunge', 'MaxHop', 'MaxJump', 'Pose', 'Run', 'RunCut', 'RunDec', 'SpainSq', 'SplitJump', 'SportJump', 'SqDL', 'SqHalfDL', 'SqHalfSL', 'SqSL', 'StepDnL', 'StepUpH', 'StepUpL', 'SumoSq', 'Walk']\n",
            "37 ['BulgSq', 'CMJDL', 'CMJSL', 'DeclineSq', 'DropJumpDL', 'DropJumpSL', 'DropLandDL', 'DropLandSL', 'FwHop', 'FwHopFast', 'FwJump', 'FwJumpFast', 'HeelRaise', 'LatHop', 'LatHopFast', 'LatJump', 'LatJumpFast', 'Lunge', 'MaxHop', 'MaxJump', 'Pose', 'Run', 'RunCut', 'RunDec', 'SpainSq', 'SplitJump', 'SportJump', 'SqDL', 'SqHalfDL', 'SqHalfSL', 'SqSL', 'StepDnH', 'StepDnL', 'StepUpH', 'StepUpL', 'SumoSq', 'Walk']\n",
            "37 ['BulgSq', 'CMJDL', 'CMJSL', 'DeclineSq', 'DropJumpDL', 'DropJumpSL', 'DropLandDL', 'DropLandSL', 'FwHop', 'FwHopFast', 'FwJump', 'FwJumpFast', 'HeelRaise', 'LatHop', 'LatHopFast', 'LatJump', 'LatJumpFast', 'Lunge', 'MaxHop', 'MaxJump', 'Pose', 'Run', 'RunCut', 'RunDec', 'SpainSq', 'SplitJump', 'SportJump', 'SqDL', 'SqHalfDL', 'SqHalfSL', 'SqSL', 'StepDnH', 'StepDnL', 'StepUpH', 'StepUpL', 'SumoSq', 'Walk']\n",
            "37 ['BulgSq', 'CMJDL', 'CMJSL', 'DeclineSq', 'DropJumpDL', 'DropJumpSL', 'DropLandDL', 'DropLandSL', 'FwHop', 'FwHopFast', 'FwJump', 'FwJumpFast', 'HeelRaise', 'LatHop', 'LatHopFast', 'LatJump', 'LatJumpFast', 'Lunge', 'MaxHop', 'MaxJump', 'Pose', 'Run', 'RunCut', 'RunDec', 'SpainSq', 'SplitJump', 'SportJump', 'SqDL', 'SqHalfDL', 'SqHalfSL', 'SqSL', 'StepDnH', 'StepDnL', 'StepUpH', 'StepUpL', 'SumoSq', 'Walk']\n",
            "37 ['BulgSq', 'CMJDL', 'CMJSL', 'DeclineSq', 'DropJumpDL', 'DropJumpSL', 'DropLandDL', 'DropLandSL', 'FwHop', 'FwHopFast', 'FwJump', 'FwJumpFast', 'HeelRaise', 'LatHop', 'LatHopFast', 'LatJump', 'LatJumpFast', 'Lunge', 'MaxHop', 'MaxJump', 'Pose', 'Run', 'RunCut', 'RunDec', 'SpainSq', 'SplitJump', 'SportJump', 'SqDL', 'SqHalfDL', 'SqHalfSL', 'SqSL', 'StepDnH', 'StepDnL', 'StepUpH', 'StepUpL', 'SumoSq', 'Walk']\n",
            "37 ['BulgSq', 'CMJDL', 'CMJSL', 'DeclineSq', 'DropJumpDL', 'DropJumpSL', 'DropLandDL', 'DropLandSL', 'FwHop', 'FwHopFast', 'FwJump', 'FwJumpFast', 'HeelRaise', 'LatHop', 'LatHopFast', 'LatJump', 'LatJumpFast', 'Lunge', 'MaxHop', 'MaxJump', 'Pose', 'Run', 'RunCut', 'RunDec', 'SpainSq', 'SplitJump', 'SportJump', 'SqDL', 'SqHalfDL', 'SqHalfSL', 'SqSL', 'StepDnH', 'StepDnL', 'StepUpH', 'StepUpL', 'SumoSq', 'Walk']\n"
          ]
        }
      ]
    },
    {
      "cell_type": "code",
      "source": [
        "exercise_types = np.array(exercise_types)\n",
        "exercise_types, _ = np.unique(exercise_types, return_index=True)\n",
        "exercise_types = exercise_types.tolist()\n",
        "exercise_types"
      ],
      "metadata": {
        "colab": {
          "base_uri": "https://localhost:8080/"
        },
        "id": "nWocpNYwL8IJ",
        "outputId": "87872419-cbf0-482b-b526-07ebb7243e3b"
      },
      "execution_count": null,
      "outputs": [
        {
          "output_type": "execute_result",
          "data": {
            "text/plain": [
              "['BulgSq',\n",
              " 'CMJDL',\n",
              " 'CMJSL',\n",
              " 'DeclineSq',\n",
              " 'DropJumpDL',\n",
              " 'DropJumpSL',\n",
              " 'DropLandDL',\n",
              " 'DropLandSL',\n",
              " 'FwHop',\n",
              " 'FwHopFast',\n",
              " 'FwJump',\n",
              " 'FwJumpFast',\n",
              " 'HeelRaise',\n",
              " 'LatHop',\n",
              " 'LatHopFast',\n",
              " 'LatJump',\n",
              " 'LatJumpFast',\n",
              " 'Lunge',\n",
              " 'MaxHop',\n",
              " 'MaxJump',\n",
              " 'Pose',\n",
              " 'Run',\n",
              " 'RunCut',\n",
              " 'RunDec',\n",
              " 'SpainSq',\n",
              " 'SplitJump',\n",
              " 'SportJump',\n",
              " 'SqDL',\n",
              " 'SqHalfDL',\n",
              " 'SqHalfSL',\n",
              " 'SqSL',\n",
              " 'StepDnH',\n",
              " 'StepDnL',\n",
              " 'StepUpH',\n",
              " 'StepUpL',\n",
              " 'SumoSq',\n",
              " 'Walk']"
            ]
          },
          "metadata": {},
          "execution_count": 422
        }
      ]
    },
    {
      "cell_type": "code",
      "source": [
        "# total should be 37\n",
        "num_exercise = len(exercise_types)\n",
        "num_exercise"
      ],
      "metadata": {
        "colab": {
          "base_uri": "https://localhost:8080/"
        },
        "id": "fXH7f7yOL93J",
        "outputId": "f5237cd5-ed2c-4d00-cde6-4b2ffeabaa22"
      },
      "execution_count": null,
      "outputs": [
        {
          "output_type": "execute_result",
          "data": {
            "text/plain": [
              "37"
            ]
          },
          "metadata": {},
          "execution_count": 423
        }
      ]
    },
    {
      "cell_type": "markdown",
      "source": [
        "Label clusters"
      ],
      "metadata": {
        "id": "zddoGPmAL_cB"
      }
    },
    {
      "cell_type": "code",
      "source": [
        "num_clusters = len(CLUSTER)\n",
        "num_clusters"
      ],
      "metadata": {
        "colab": {
          "base_uri": "https://localhost:8080/"
        },
        "id": "C15_uTBjMAVO",
        "outputId": "203e4acd-6772-4166-8799-83e5f4a8b6ec"
      },
      "execution_count": null,
      "outputs": [
        {
          "output_type": "execute_result",
          "data": {
            "text/plain": [
              "10"
            ]
          },
          "metadata": {},
          "execution_count": 424
        }
      ]
    },
    {
      "cell_type": "markdown",
      "source": [
        "Label exercises"
      ],
      "metadata": {
        "id": "CvLMIaq2MDZC"
      }
    },
    {
      "cell_type": "code",
      "source": [
        "exercise_code = list(range(0, num_exercise))\n",
        "label_code = dict(zip(exercise_types, exercise_code))\n",
        "code_label = dict(zip(exercise_code, exercise_types))"
      ],
      "metadata": {
        "id": "HbxdKUp9MEMo"
      },
      "execution_count": null,
      "outputs": []
    },
    {
      "cell_type": "code",
      "source": [
        "label_code"
      ],
      "metadata": {
        "colab": {
          "base_uri": "https://localhost:8080/"
        },
        "id": "VWWwZh73MFsh",
        "outputId": "2981407b-c2d1-49b8-9bac-c7a63dd2a1b1"
      },
      "execution_count": null,
      "outputs": [
        {
          "output_type": "execute_result",
          "data": {
            "text/plain": [
              "{'BulgSq': 0,\n",
              " 'CMJDL': 1,\n",
              " 'CMJSL': 2,\n",
              " 'DeclineSq': 3,\n",
              " 'DropJumpDL': 4,\n",
              " 'DropJumpSL': 5,\n",
              " 'DropLandDL': 6,\n",
              " 'DropLandSL': 7,\n",
              " 'FwHop': 8,\n",
              " 'FwHopFast': 9,\n",
              " 'FwJump': 10,\n",
              " 'FwJumpFast': 11,\n",
              " 'HeelRaise': 12,\n",
              " 'LatHop': 13,\n",
              " 'LatHopFast': 14,\n",
              " 'LatJump': 15,\n",
              " 'LatJumpFast': 16,\n",
              " 'Lunge': 17,\n",
              " 'MaxHop': 18,\n",
              " 'MaxJump': 19,\n",
              " 'Pose': 20,\n",
              " 'Run': 21,\n",
              " 'RunCut': 22,\n",
              " 'RunDec': 23,\n",
              " 'SpainSq': 24,\n",
              " 'SplitJump': 25,\n",
              " 'SportJump': 26,\n",
              " 'SqDL': 27,\n",
              " 'SqHalfDL': 28,\n",
              " 'SqHalfSL': 29,\n",
              " 'SqSL': 30,\n",
              " 'StepDnH': 31,\n",
              " 'StepDnL': 32,\n",
              " 'StepUpH': 33,\n",
              " 'StepUpL': 34,\n",
              " 'SumoSq': 35,\n",
              " 'Walk': 36}"
            ]
          },
          "metadata": {},
          "execution_count": 426
        }
      ]
    },
    {
      "cell_type": "code",
      "source": [
        "code_label"
      ],
      "metadata": {
        "colab": {
          "base_uri": "https://localhost:8080/"
        },
        "id": "-DiEZU3DMF7Z",
        "outputId": "f59b8938-660c-4107-b47e-7fc104df262a"
      },
      "execution_count": null,
      "outputs": [
        {
          "output_type": "execute_result",
          "data": {
            "text/plain": [
              "{0: 'BulgSq',\n",
              " 1: 'CMJDL',\n",
              " 2: 'CMJSL',\n",
              " 3: 'DeclineSq',\n",
              " 4: 'DropJumpDL',\n",
              " 5: 'DropJumpSL',\n",
              " 6: 'DropLandDL',\n",
              " 7: 'DropLandSL',\n",
              " 8: 'FwHop',\n",
              " 9: 'FwHopFast',\n",
              " 10: 'FwJump',\n",
              " 11: 'FwJumpFast',\n",
              " 12: 'HeelRaise',\n",
              " 13: 'LatHop',\n",
              " 14: 'LatHopFast',\n",
              " 15: 'LatJump',\n",
              " 16: 'LatJumpFast',\n",
              " 17: 'Lunge',\n",
              " 18: 'MaxHop',\n",
              " 19: 'MaxJump',\n",
              " 20: 'Pose',\n",
              " 21: 'Run',\n",
              " 22: 'RunCut',\n",
              " 23: 'RunDec',\n",
              " 24: 'SpainSq',\n",
              " 25: 'SplitJump',\n",
              " 26: 'SportJump',\n",
              " 27: 'SqDL',\n",
              " 28: 'SqHalfDL',\n",
              " 29: 'SqHalfSL',\n",
              " 30: 'SqSL',\n",
              " 31: 'StepDnH',\n",
              " 32: 'StepDnL',\n",
              " 33: 'StepUpH',\n",
              " 34: 'StepUpL',\n",
              " 35: 'SumoSq',\n",
              " 36: 'Walk'}"
            ]
          },
          "metadata": {},
          "execution_count": 427
        }
      ]
    },
    {
      "cell_type": "markdown",
      "source": [
        "Label subjects"
      ],
      "metadata": {
        "id": "kU9nwMdUMuCZ"
      }
    },
    {
      "cell_type": "code",
      "source": [
        "subs_code = list(range(0, num_subject))\n",
        "subject_code = dict(zip(subs, subs_code))\n",
        "code_subject = dict(zip(subs_code, subs))"
      ],
      "metadata": {
        "id": "nI_fy1JjMu0o"
      },
      "execution_count": null,
      "outputs": []
    },
    {
      "cell_type": "code",
      "source": [
        "subject_code"
      ],
      "metadata": {
        "colab": {
          "base_uri": "https://localhost:8080/"
        },
        "id": "CacMTOAxMwKg",
        "outputId": "6bac91cf-d1ca-4aef-f411-4a322c79d955"
      },
      "execution_count": null,
      "outputs": [
        {
          "output_type": "execute_result",
          "data": {
            "text/plain": [
              "{'SUB01': 0,\n",
              " 'SUB02': 1,\n",
              " 'SUB03': 2,\n",
              " 'SUB04': 3,\n",
              " 'SUB05': 4,\n",
              " 'SUB06': 5,\n",
              " 'SUB07': 6,\n",
              " 'SUB08': 7,\n",
              " 'SUB09': 8,\n",
              " 'SUB10': 9,\n",
              " 'SUB11': 10,\n",
              " 'SUB12': 11,\n",
              " 'SUB14': 12,\n",
              " 'SUB15': 13,\n",
              " 'SUB16': 14,\n",
              " 'SUB17': 15,\n",
              " 'SUB18': 16,\n",
              " 'SUB19': 17,\n",
              " 'SUB21': 18,\n",
              " 'SUB22': 19}"
            ]
          },
          "metadata": {},
          "execution_count": 429
        }
      ]
    },
    {
      "cell_type": "code",
      "source": [
        "code_subject"
      ],
      "metadata": {
        "colab": {
          "base_uri": "https://localhost:8080/"
        },
        "id": "jER_MFTTMxj6",
        "outputId": "bd9dc5ef-bec1-4fb8-80ed-c8d7741ffde7"
      },
      "execution_count": null,
      "outputs": [
        {
          "output_type": "execute_result",
          "data": {
            "text/plain": [
              "{0: 'SUB01',\n",
              " 1: 'SUB02',\n",
              " 2: 'SUB03',\n",
              " 3: 'SUB04',\n",
              " 4: 'SUB05',\n",
              " 5: 'SUB06',\n",
              " 6: 'SUB07',\n",
              " 7: 'SUB08',\n",
              " 8: 'SUB09',\n",
              " 9: 'SUB10',\n",
              " 10: 'SUB11',\n",
              " 11: 'SUB12',\n",
              " 12: 'SUB14',\n",
              " 13: 'SUB15',\n",
              " 14: 'SUB16',\n",
              " 15: 'SUB17',\n",
              " 16: 'SUB18',\n",
              " 17: 'SUB19',\n",
              " 18: 'SUB21',\n",
              " 19: 'SUB22'}"
            ]
          },
          "metadata": {},
          "execution_count": 430
        }
      ]
    },
    {
      "cell_type": "markdown",
      "source": [
        "#Collect data samples"
      ],
      "metadata": {
        "id": "T3SkIRDiM0cY"
      }
    },
    {
      "cell_type": "markdown",
      "source": [
        "Collect data"
      ],
      "metadata": {
        "id": "gIkr-g73M2Zw"
      }
    },
    {
      "cell_type": "code",
      "source": [
        "sample_list, file_paths = [], []\n",
        "\n",
        "num_missing_dt = 0 # count number of files with missing data to remove them out\n",
        "num_imu = len(CONSIDERED_IMU_POSITION)\n",
        "num_col_in_dt = num_imu*NUM_SENSOR_INFO*NUM_AX_PER_SENSOR + 3 # exercise label + cluster label + subject label\n",
        "\n",
        "print(\"Number of columns that should be in the dataframe = \" + str(num_col_in_dt))\n",
        "\n",
        "no_of_samples = None\n",
        "\n",
        "# Loop through subjects (removed the first subject due to only 5 IMUs)\n",
        "for subject in tqdm(subs[1:]): \n",
        "  print()\n",
        "  print('Collecting data from subject ' + str(subject) + ' ...')\n",
        "\n",
        "  for ex in exercise_types:\n",
        "    # If the subject perform the task\n",
        "    try:\n",
        "      folder_path = root_path + subject + '/' + ex + '/'\n",
        "      file_names = os.listdir(folder_path) # obtain all parsed data files\n",
        "      no_of_samples = len(file_names) # to display the no. of samples lately\n",
        "\n",
        "      for file_name in file_names:\n",
        "        sample_path = folder_path + file_name\n",
        "        df = load_df(sample_path) # load and re-format the data file\n",
        "        df = slice_df(df) # pick data from considered sensors and remove unnecessary information\n",
        "        df['target'] = label_code[ex] # add output for the data file (i.e., exercise label)\n",
        "        df['cluster'] = get_cluster_label(label_code[ex]) # i.e., cluster label\n",
        "        df['subject_id'] = subject_code[subject] # add subject id for the data (i.e., subject label)\n",
        "\n",
        "        sample_arr = np.array(df).astype(float) # convert to numpy array type\n",
        "\n",
        "        # Check if the data has all considered parts\n",
        "        if sample_arr.shape[1] != num_col_in_dt:\n",
        "          num_missing_dt += 1\n",
        "        else:\n",
        "          sample_list.append(sample_arr)\n",
        "\n",
        "        # break\n",
        "      # print('\\n' + str(no_of_samples) + ' samples collected from ' + ex)\n",
        "      \n",
        "    except:\n",
        "      # print('\\n' + ex + ' was missing')\n",
        "      pass # do nothing\n",
        "\n",
        "  print() # TBD"
      ],
      "metadata": {
        "colab": {
          "base_uri": "https://localhost:8080/"
        },
        "id": "wQ6MzOY-M1sY",
        "outputId": "51d92bc1-35c0-4456-9cc6-d348a3ea626f"
      },
      "execution_count": null,
      "outputs": [
        {
          "output_type": "stream",
          "name": "stdout",
          "text": [
            "Number of columns that should be in the dataframe = 63\n"
          ]
        },
        {
          "output_type": "stream",
          "name": "stderr",
          "text": [
            "\r  0%|          | 0/19 [00:00<?, ?it/s]"
          ]
        },
        {
          "output_type": "stream",
          "name": "stdout",
          "text": [
            "\n",
            "Collecting data from subject SUB02 ...\n"
          ]
        },
        {
          "output_type": "stream",
          "name": "stderr",
          "text": [
            "\r  5%|▌         | 1/19 [00:02<00:46,  2.60s/it]"
          ]
        },
        {
          "output_type": "stream",
          "name": "stdout",
          "text": [
            "\n",
            "\n",
            "Collecting data from subject SUB03 ...\n"
          ]
        },
        {
          "output_type": "stream",
          "name": "stderr",
          "text": [
            "\r 11%|█         | 2/19 [00:05<00:47,  2.77s/it]"
          ]
        },
        {
          "output_type": "stream",
          "name": "stdout",
          "text": [
            "\n",
            "\n",
            "Collecting data from subject SUB04 ...\n"
          ]
        },
        {
          "output_type": "stream",
          "name": "stderr",
          "text": [
            "\r 16%|█▌        | 3/19 [00:08<00:44,  2.79s/it]"
          ]
        },
        {
          "output_type": "stream",
          "name": "stdout",
          "text": [
            "\n",
            "\n",
            "Collecting data from subject SUB05 ...\n"
          ]
        },
        {
          "output_type": "stream",
          "name": "stderr",
          "text": [
            "\r 21%|██        | 4/19 [00:11<00:41,  2.78s/it]"
          ]
        },
        {
          "output_type": "stream",
          "name": "stdout",
          "text": [
            "\n",
            "\n",
            "Collecting data from subject SUB06 ...\n"
          ]
        },
        {
          "output_type": "stream",
          "name": "stderr",
          "text": [
            "\r 26%|██▋       | 5/19 [00:13<00:38,  2.78s/it]"
          ]
        },
        {
          "output_type": "stream",
          "name": "stdout",
          "text": [
            "\n",
            "\n",
            "Collecting data from subject SUB07 ...\n"
          ]
        },
        {
          "output_type": "stream",
          "name": "stderr",
          "text": [
            "\r 32%|███▏      | 6/19 [00:16<00:36,  2.81s/it]"
          ]
        },
        {
          "output_type": "stream",
          "name": "stdout",
          "text": [
            "\n",
            "\n",
            "Collecting data from subject SUB08 ...\n"
          ]
        },
        {
          "output_type": "stream",
          "name": "stderr",
          "text": [
            "\r 37%|███▋      | 7/19 [00:19<00:34,  2.86s/it]"
          ]
        },
        {
          "output_type": "stream",
          "name": "stdout",
          "text": [
            "\n",
            "\n",
            "Collecting data from subject SUB09 ...\n"
          ]
        },
        {
          "output_type": "stream",
          "name": "stderr",
          "text": [
            "\r 42%|████▏     | 8/19 [00:22<00:31,  2.84s/it]"
          ]
        },
        {
          "output_type": "stream",
          "name": "stdout",
          "text": [
            "\n",
            "\n",
            "Collecting data from subject SUB10 ...\n"
          ]
        },
        {
          "output_type": "stream",
          "name": "stderr",
          "text": [
            "\r 47%|████▋     | 9/19 [00:25<00:27,  2.80s/it]"
          ]
        },
        {
          "output_type": "stream",
          "name": "stdout",
          "text": [
            "\n",
            "\n",
            "Collecting data from subject SUB11 ...\n"
          ]
        },
        {
          "output_type": "stream",
          "name": "stderr",
          "text": [
            "\r 53%|█████▎    | 10/19 [00:27<00:25,  2.79s/it]"
          ]
        },
        {
          "output_type": "stream",
          "name": "stdout",
          "text": [
            "\n",
            "\n",
            "Collecting data from subject SUB12 ...\n"
          ]
        },
        {
          "output_type": "stream",
          "name": "stderr",
          "text": [
            "\r 58%|█████▊    | 11/19 [00:30<00:22,  2.77s/it]"
          ]
        },
        {
          "output_type": "stream",
          "name": "stdout",
          "text": [
            "\n",
            "\n",
            "Collecting data from subject SUB14 ...\n"
          ]
        },
        {
          "output_type": "stream",
          "name": "stderr",
          "text": [
            "\r 63%|██████▎   | 12/19 [00:33<00:19,  2.75s/it]"
          ]
        },
        {
          "output_type": "stream",
          "name": "stdout",
          "text": [
            "\n",
            "\n",
            "Collecting data from subject SUB15 ...\n"
          ]
        },
        {
          "output_type": "stream",
          "name": "stderr",
          "text": [
            "\r 68%|██████▊   | 13/19 [00:36<00:16,  2.74s/it]"
          ]
        },
        {
          "output_type": "stream",
          "name": "stdout",
          "text": [
            "\n",
            "\n",
            "Collecting data from subject SUB16 ...\n"
          ]
        },
        {
          "output_type": "stream",
          "name": "stderr",
          "text": [
            "\r 74%|███████▎  | 14/19 [00:38<00:13,  2.71s/it]"
          ]
        },
        {
          "output_type": "stream",
          "name": "stdout",
          "text": [
            "\n",
            "\n",
            "Collecting data from subject SUB17 ...\n"
          ]
        },
        {
          "output_type": "stream",
          "name": "stderr",
          "text": [
            "\r 79%|███████▉  | 15/19 [00:41<00:11,  2.81s/it]"
          ]
        },
        {
          "output_type": "stream",
          "name": "stdout",
          "text": [
            "\n",
            "\n",
            "Collecting data from subject SUB18 ...\n"
          ]
        },
        {
          "output_type": "stream",
          "name": "stderr",
          "text": [
            "\r 84%|████████▍ | 16/19 [00:45<00:08,  2.95s/it]"
          ]
        },
        {
          "output_type": "stream",
          "name": "stdout",
          "text": [
            "\n",
            "\n",
            "Collecting data from subject SUB19 ...\n"
          ]
        },
        {
          "output_type": "stream",
          "name": "stderr",
          "text": [
            "\r 89%|████████▉ | 17/19 [00:47<00:05,  2.92s/it]"
          ]
        },
        {
          "output_type": "stream",
          "name": "stdout",
          "text": [
            "\n",
            "\n",
            "Collecting data from subject SUB21 ...\n"
          ]
        },
        {
          "output_type": "stream",
          "name": "stderr",
          "text": [
            "\r 95%|█████████▍| 18/19 [00:50<00:02,  2.93s/it]"
          ]
        },
        {
          "output_type": "stream",
          "name": "stdout",
          "text": [
            "\n",
            "\n",
            "Collecting data from subject SUB22 ...\n"
          ]
        },
        {
          "output_type": "stream",
          "name": "stderr",
          "text": [
            "100%|██████████| 19/19 [00:53<00:00,  2.83s/it]"
          ]
        },
        {
          "output_type": "stream",
          "name": "stdout",
          "text": [
            "\n"
          ]
        },
        {
          "output_type": "stream",
          "name": "stderr",
          "text": [
            "\n"
          ]
        }
      ]
    },
    {
      "cell_type": "code",
      "source": [
        "len(sample_list)"
      ],
      "metadata": {
        "colab": {
          "base_uri": "https://localhost:8080/"
        },
        "id": "wMi8tiEEM6XB",
        "outputId": "ebd61bca-b5c8-4ace-83bf-ccfc9e2c8201"
      },
      "execution_count": null,
      "outputs": [
        {
          "output_type": "execute_result",
          "data": {
            "text/plain": [
              "3212"
            ]
          },
          "metadata": {},
          "execution_count": 432
        }
      ]
    },
    {
      "cell_type": "code",
      "source": [
        "sample_list[0].shape"
      ],
      "metadata": {
        "colab": {
          "base_uri": "https://localhost:8080/"
        },
        "id": "XgV_V2UVhIsT",
        "outputId": "133f0859-8932-48b8-dd8f-8265483521c0"
      },
      "execution_count": null,
      "outputs": [
        {
          "output_type": "execute_result",
          "data": {
            "text/plain": [
              "(197, 63)"
            ]
          },
          "metadata": {},
          "execution_count": 433
        }
      ]
    },
    {
      "cell_type": "markdown",
      "source": [
        "Store the data file for next use"
      ],
      "metadata": {
        "id": "9JKouQ3xM6t5"
      }
    },
    {
      "cell_type": "code",
      "source": [
        "# Store accuracy\n",
        "with open('data_sample_list_right_wrist.npy', 'wb') as f:\n",
        "# with open('data_sample_list.npy', 'wb') as f:\n",
        "  np.save(f, np.array(sample_list, dtype = object))"
      ],
      "metadata": {
        "id": "wxLU86hpNvNB"
      },
      "execution_count": null,
      "outputs": []
    },
    {
      "cell_type": "markdown",
      "source": [
        "Load the stored data file"
      ],
      "metadata": {
        "id": "xeruIw_GNw6B"
      }
    },
    {
      "cell_type": "code",
      "source": [
        "with open('data_sample_list.npy', 'rb') as f:\n",
        "  sample_list = np.load(f, allow_pickle=True)\n",
        "sample_list = sample_list.tolist()"
      ],
      "metadata": {
        "id": "QDyXU1F8Nz8g"
      },
      "execution_count": null,
      "outputs": []
    },
    {
      "cell_type": "code",
      "source": [
        "len(sample_list)"
      ],
      "metadata": {
        "colab": {
          "base_uri": "https://localhost:8080/"
        },
        "id": "SBgkJiJkhEHD",
        "outputId": "95355936-5c68-4ea9-c35c-4ad8ebb78058"
      },
      "execution_count": null,
      "outputs": [
        {
          "output_type": "execute_result",
          "data": {
            "text/plain": [
              "3212"
            ]
          },
          "metadata": {},
          "execution_count": 28
        }
      ]
    },
    {
      "cell_type": "markdown",
      "source": [
        "#Data preprocessing "
      ],
      "metadata": {
        "id": "okyE_iKaN7rv"
      }
    },
    {
      "cell_type": "markdown",
      "source": [
        "Downsampling"
      ],
      "metadata": {
        "id": "MOw0vmLvh0-j"
      }
    },
    {
      "cell_type": "code",
      "source": [
        "# Downsample the signal\n",
        "def downsample_a_signal(signal, factor):\n",
        "  # Init\n",
        "  temp_id = 0\n",
        "  d_signal = [] # init, including the 1st sample\n",
        "  d_t = []\n",
        "\n",
        "  # if (signal.shape[0] % 2) == 0:\n",
        "  #   d_signal_length = int(np.floor((signal.shape[0] - 1)/factor))\n",
        "  # else:\n",
        "  #   d_signal_length = int(np.floor((signal.shape[0] - 1)/factor)) + 1\n",
        "\n",
        "  # # d_signal_length = int(np.floor((signal.shape[0] - 1)/factor))\n",
        "  # # print(str(d_signal_length) + '-' + str(len(signal)))\n",
        "\n",
        "  # # Sample every \"factor\" points\n",
        "  # for i in range(d_signal_length):\n",
        "  #   d_signal.append(signal[temp_id])\n",
        "  #   d_t.append(temp_id)\n",
        "  #   temp_id += factor\n",
        "\n",
        "  d_signal_length = signal.shape[0]\n",
        "\n",
        "  while temp_id < d_signal_length:\n",
        "    d_signal.append(signal[temp_id])\n",
        "    d_t.append(temp_id)\n",
        "    temp_id += factor\n",
        "\n",
        "  return d_signal, d_t\n",
        "\n",
        "def downsample_a_sample(arr, factor):\n",
        "  # if (arr.shape[0] % 2) == 0:\n",
        "  #   ds_arr = np.zeros((int(np.floor((arr.shape[0] - 1)/factor)), arr.shape[1]))\n",
        "  # else:\n",
        "  #   ds_arr = np.zeros((int(np.floor((arr.shape[0] - 1)/factor) + 1), arr.shape[1]))\n",
        "\n",
        "  # # ds_arr = np.zeros((int(np.floor((arr.shape[0] - 1)/factor)), arr.shape[1]))\n",
        "\n",
        "  # for i in range(arr.shape[1]):\n",
        "  #   d_signal, _ = downsample_a_signal(arr[:, i], factor)\n",
        "  #   ds_arr[:, i] = d_signal\n",
        "\n",
        "  ds_arr = []\n",
        "\n",
        "  for i in range(arr.shape[1]):\n",
        "    d_signal, _ = downsample_a_signal(arr[:, i], factor)\n",
        "    ds_arr.append(d_signal)\n",
        "\n",
        "  ds_arr = np.array(ds_arr)\n",
        "  ds_arr = ds_arr.T\n",
        "\n",
        "  return ds_arr"
      ],
      "metadata": {
        "id": "YwaHZwAeh237"
      },
      "execution_count": null,
      "outputs": []
    },
    {
      "cell_type": "code",
      "source": [
        "DOWNSAMPLE_FACTOR = 20\n",
        "\n",
        "# Init the storage for downsampled signal\n",
        "ds_sample_list = []\n",
        "\n",
        "for t_sample in tqdm(sample_list):\n",
        "  t_ds_sample = downsample_a_sample(t_sample, DOWNSAMPLE_FACTOR)\n",
        "  ds_sample_list.append(t_ds_sample)\n",
        "  # print('---')"
      ],
      "metadata": {
        "colab": {
          "base_uri": "https://localhost:8080/"
        },
        "id": "F38lHIo4hXjt",
        "outputId": "dabf1832-fb22-4bfa-e1e3-62d4ae35a792"
      },
      "execution_count": null,
      "outputs": [
        {
          "output_type": "stream",
          "name": "stderr",
          "text": [
            "100%|██████████| 3212/3212 [00:00<00:00, 5815.80it/s]\n"
          ]
        }
      ]
    },
    {
      "cell_type": "code",
      "source": [
        "# Get the label (i.e., exercise type of a sample)\n",
        "print(len(ds_sample_list))\n",
        "print(ds_sample_list[6][0, -1])\n",
        "print(ds_sample_list[6].shape)"
      ],
      "metadata": {
        "colab": {
          "base_uri": "https://localhost:8080/"
        },
        "id": "ZM-wY6y6iswH",
        "outputId": "3e0ce476-e5c8-41f2-f3d7-8a86508a3798"
      },
      "execution_count": null,
      "outputs": [
        {
          "output_type": "stream",
          "name": "stdout",
          "text": [
            "3212\n",
            "1.0\n",
            "(13, 63)\n"
          ]
        }
      ]
    },
    {
      "cell_type": "markdown",
      "source": [
        "Compare raw with downsampled signal"
      ],
      "metadata": {
        "id": "2KWYZzoe3jnh"
      }
    },
    {
      "cell_type": "code",
      "source": [
        "fig, ax = plt.subplots(figsize=(7,5), dpi=100)\n",
        "selected_exercise = exercise_types[9]\n",
        "\n",
        "for i in range(len(sample_list)):\n",
        "  if sample_list[i][0, ID_EXERCISE_LABEL] == label_code[selected_exercise]:\n",
        "    raw_signal_t = sample_list[i][:, 15]\n",
        "    ds_signal_t, d_t = downsample_a_signal(raw_signal_t, DOWNSAMPLE_FACTOR)\n",
        "    break\n",
        "\n",
        "ax.plot(raw_signal_t, linewidth = 1, color = 'b', label = 'Raw 100 Hz')\n",
        "ax.plot(d_t, ds_signal_t, linewidth = 1, linestyle = '-', color = 'r', label = 'Downsampled ' + str(int(100/DOWNSAMPLE_FACTOR)) + ' Hz')\n",
        "ax.scatter(d_t, ds_signal_t, color = 'r')\n",
        "\n",
        "print(len(raw_signal_t))\n",
        "print(len(ds_signal_t))\n",
        "    \n",
        "ax.set_xlim([0, len(raw_signal_t)-1])\n",
        "ax.set_xlabel('Time Step')\n",
        "ax.set_ylabel('Acceleration (m/s^2)')\n",
        "ax.set_title(selected_exercise + ' Exercise')\n",
        "plt.legend()"
      ],
      "metadata": {
        "colab": {
          "base_uri": "https://localhost:8080/",
          "height": 532
        },
        "id": "o5FAzEOu3nPf",
        "outputId": "6fc8252c-12e6-459c-d5c5-1b590abb1456"
      },
      "execution_count": null,
      "outputs": [
        {
          "output_type": "stream",
          "name": "stdout",
          "text": [
            "23\n",
            "2\n"
          ]
        },
        {
          "output_type": "execute_result",
          "data": {
            "text/plain": [
              "<matplotlib.legend.Legend at 0x7f0e1304abb0>"
            ]
          },
          "metadata": {},
          "execution_count": 541
        },
        {
          "output_type": "display_data",
          "data": {
            "text/plain": [
              "<Figure size 700x500 with 1 Axes>"
            ],
            "image/png": "[encoded data removed]"
          },
          "metadata": {
            "needs_background": "light"
          }
        }
      ]
    },
    {
      "cell_type": "code",
      "source": [
        "fig, ax = plt.subplots(figsize=(7,5), dpi=100)\n",
        "\n",
        "for i in range(len(sample_list)):\n",
        "  if sample_list[i][0, ID_EXERCISE_LABEL] == label_code[selected_exercise]:\n",
        "    # ax.plot(sample_list[i][:, 18], linewidth = 0.4, color = '0.8')\n",
        "    ax.plot(sample_list[i][:, 18], linewidth = 0.4)\n",
        "    \n",
        "# ax.set_xlim([0, len(raw_signal_t)-1])\n",
        "ax.set_xlabel('Time Step')\n",
        "ax.set_ylabel('Acceleration (m/s^2)')\n",
        "ax.set_title(selected_exercise + ' Exercise')"
      ],
      "metadata": {
        "colab": {
          "base_uri": "https://localhost:8080/",
          "height": 497
        },
        "id": "vJhsHwTa2nOf",
        "outputId": "ebe7c73f-e1b9-4d39-8f21-61f32f24a05b"
      },
      "execution_count": null,
      "outputs": [
        {
          "output_type": "execute_result",
          "data": {
            "text/plain": [
              "Text(0.5, 1.0, 'FwHopFast Exercise')"
            ]
          },
          "metadata": {},
          "execution_count": 542
        },
        {
          "output_type": "display_data",
          "data": {
            "text/plain": [
              "<Figure size 700x500 with 1 Axes>"
            ],
            "image/png": "[encoded data removed]"
          },
          "metadata": {
            "needs_background": "light"
          }
        }
      ]
    },
    {
      "cell_type": "markdown",
      "source": [
        "Visualization"
      ],
      "metadata": {
        "id": "5dWjjvZKhzv0"
      }
    },
    {
      "cell_type": "code",
      "source": [
        "# --- Normalize samples (to 100) --- #\n",
        "norm_sample_list = []\n",
        "\n",
        "for t_sample in tqdm(ds_sample_list):\n",
        "  t_norm_sample = normLength(t_sample, NORM_SAMPLE_LENGTH)\n",
        "  norm_sample_list.append(t_norm_sample)"
      ],
      "metadata": {
        "id": "9o2-TfsqN9ng",
        "colab": {
          "base_uri": "https://localhost:8080/"
        },
        "outputId": "80cfeae5-fe4a-46b4-f5b2-6b616165a1dc"
      },
      "execution_count": null,
      "outputs": [
        {
          "output_type": "stream",
          "name": "stderr",
          "text": [
            "100%|██████████| 3212/3212 [00:11<00:00, 268.17it/s]\n"
          ]
        }
      ]
    },
    {
      "cell_type": "code",
      "source": [
        "# Get the label (i.e., exercise type of a sample)\n",
        "print(len(norm_sample_list))\n",
        "print(norm_sample_list[300][0, -1])\n",
        "print(norm_sample_list[300].shape)"
      ],
      "metadata": {
        "id": "A_7Afr9fjOa6",
        "colab": {
          "base_uri": "https://localhost:8080/"
        },
        "outputId": "6759e2e4-1bc1-4d03-a768-8318c41197e3"
      },
      "execution_count": null,
      "outputs": [
        {
          "output_type": "stream",
          "name": "stdout",
          "text": [
            "3212\n",
            "2.0\n",
            "(100, 63)\n"
          ]
        }
      ]
    },
    {
      "cell_type": "code",
      "source": [
        "# --- Frame data --- #\n",
        "dt_frame = []\n",
        "ex_label = []\n",
        "num_samples = len(norm_sample_list)\n",
        "\n",
        "for i in range(num_samples):\n",
        "  dt_frame.append(norm_sample_list[i][:, 0:60].flatten('F'))\n",
        "  ex_label.append(norm_sample_list[i][0, ID_EXERCISE_LABEL])\n",
        "\n",
        "dt_frame = np.array(dt_frame)\n",
        "ex_label = np.array(ex_label)"
      ],
      "metadata": {
        "id": "ZspQN7hSjY2L"
      },
      "execution_count": null,
      "outputs": []
    },
    {
      "cell_type": "code",
      "source": [
        "dt_frame.shape"
      ],
      "metadata": {
        "id": "h_aMayfXjeT7",
        "colab": {
          "base_uri": "https://localhost:8080/"
        },
        "outputId": "f9376e2d-fb37-4a97-d626-a0b5a3035819"
      },
      "execution_count": null,
      "outputs": [
        {
          "output_type": "execute_result",
          "data": {
            "text/plain": [
              "(3212, 6000)"
            ]
          },
          "metadata": {},
          "execution_count": 546
        }
      ]
    },
    {
      "cell_type": "code",
      "source": [
        "np.unique(ex_label)"
      ],
      "metadata": {
        "id": "2KR6EdfvlYwq",
        "colab": {
          "base_uri": "https://localhost:8080/"
        },
        "outputId": "237aa384-38a7-46f0-ac05-f93c4dae91e8"
      },
      "execution_count": null,
      "outputs": [
        {
          "output_type": "execute_result",
          "data": {
            "text/plain": [
              "array([ 0.,  1.,  2.,  3.,  4.,  5.,  6.,  7.,  8.,  9., 10., 11., 12.,\n",
              "       13., 14., 15., 16., 17., 18., 19., 20., 21., 22., 23., 24., 25.,\n",
              "       26., 27., 28., 29., 30., 31., 32., 33., 34., 35., 36.])"
            ]
          },
          "metadata": {},
          "execution_count": 547
        }
      ]
    },
    {
      "cell_type": "code",
      "source": [
        "# --- Plot --- #\n",
        "# visualize a specific task\n",
        "fig, ax = plt.subplots(figsize=(20,3), dpi=100)\n",
        "# fig, ax = plt.subplots(figsize=(7,5), dpi=100)\n",
        "selected_exercise = exercise_types[9]\n",
        "temp_no_samples = 0\n",
        "\n",
        "ex_all_reps_line = []\n",
        "for i in range(num_samples):\n",
        "  if ex_label[i] == label_code[selected_exercise]:\n",
        "    ax.plot(dt_frame[i, :], linewidth = 0.4, color = '0.8')\n",
        "    ex_all_reps_line.append(dt_frame[i, :])\n",
        "    temp_no_samples += 1\n",
        "\n",
        "ax.set_xlim([0, 6000])\n",
        "ax.set_xlabel('Time Step')\n",
        "ax.set_ylabel('Undefined Unit')\n",
        "ax.set_title(selected_exercise + ' Exercise')\n",
        "\n",
        "ex_all_reps_line = np.array(ex_all_reps_line)\n",
        "ex_avg_line = np.mean(ex_all_reps_line, axis = 0)\n",
        "ax.plot(ex_avg_line, 'r', linewidth = 1.2)\n",
        "bound = np.max(np.abs(ex_avg_line))\n",
        "# ax.set_ylim([-2*bound, 2*bound])\n",
        "ax.set_ylim([-200, 200])\n",
        "\n",
        "# Segment different sensor positions\n",
        "for i in range(len(CONSIDERED_IMU_POSITION)):\n",
        "  ax.axvline(i*600, linewidth = 0.8, color = 'b')\n",
        "  # ax.annotate(CONSIDERED_IMU_POSITION[i], (i*600 + 300, -1.5*bound), ha = 'center', bbox = dict(boxstyle =\"round\", fc =\"0.95\", ec = '0.8'))\n",
        "  ax.annotate(CONSIDERED_IMU_POSITION[i], (i*600 + 300, -150), ha = 'center', bbox = dict(boxstyle =\"round\", fc =\"0.95\", ec = '0.8'))\n",
        "# Segment different sensor type (i.e., accelerometer and gyroscope)\n",
        "ga_label = ['ax', 'ay', 'az', 'gx', 'gy', 'gz']\n",
        "for i in range(conv_num_in):\n",
        "  ax.axvline(i*100, linewidth = 0.1, color = 'b')\n",
        "  # ax.annotate(ga_label[int(i % len(ga_label))], (i*100 + 50, 1.5*bound), ha = 'center')\n",
        "  ax.annotate(ga_label[int(i % len(ga_label))], (i*100 + 50, 150), ha = 'center')\n",
        "\n",
        "# # The average line only\n",
        "# fig1, ax1 = plt.subplots(figsize=(7,5), dpi=100)\n",
        "# ax1.plot(ex_avg_line, 'r-', linewidth = 1.2)\n",
        "\n",
        "# ax1.set_xlim([0, 6000])\n",
        "# ax1.set_xlabel('Time Step')\n",
        "# ax1.set_ylabel('Undefined Unit')\n",
        "# ax1.set_title(selected_exercise + ' Exercise')\n",
        "# # ax1.set_ylim([-65, 65])\n",
        "\n",
        "plt.show()\n",
        "print(temp_no_samples)"
      ],
      "metadata": {
        "colab": {
          "base_uri": "https://localhost:8080/",
          "height": 346
        },
        "id": "h6_lELBbjkQz",
        "outputId": "754c0c34-f35c-4772-fcb5-09e4b555bcba"
      },
      "execution_count": null,
      "outputs": [
        {
          "output_type": "display_data",
          "data": {
            "text/plain": [
              "<Figure size 2000x300 with 1 Axes>"
            ],
            "image/png": "[encoded data removed]"
          },
          "metadata": {
            "needs_background": "light"
          }
        },
        {
          "output_type": "stream",
          "name": "stdout",
          "text": [
            "170\n"
          ]
        }
      ]
    },
    {
      "cell_type": "markdown",
      "source": [
        "#The loop"
      ],
      "metadata": {
        "id": "o5NjZl03OA-x"
      }
    },
    {
      "cell_type": "markdown",
      "source": [
        "Check device"
      ],
      "metadata": {
        "id": "zh1Z-zkNOF95"
      }
    },
    {
      "cell_type": "code",
      "source": [
        "device = \"cuda\" if torch.cuda.is_available() else \"cpu\"\n",
        "print(f\"Using {device} device\")"
      ],
      "metadata": {
        "colab": {
          "base_uri": "https://localhost:8080/"
        },
        "id": "Au5ckDRPOB54",
        "outputId": "aa611bd9-73b0-4fa0-a129-ea62467c97bd"
      },
      "execution_count": null,
      "outputs": [
        {
          "output_type": "stream",
          "name": "stdout",
          "text": [
            "Using cuda device\n"
          ]
        }
      ]
    },
    {
      "cell_type": "markdown",
      "source": [
        "Performance evaluation *(with tuned hyper-parameters recorded from the tuning)*"
      ],
      "metadata": {
        "id": "iIIoXaReONAJ"
      }
    },
    {
      "cell_type": "code",
      "source": [
        "# Removed subject 1 due to missing IMUs\n",
        "all_subject_id = list(range(1, NUM_SUBJECT))\n",
        "# all_subject_id = list(range(1, 19))\n",
        "\n",
        "# Training/testing accuracy of performance evaluation\n",
        "perf_train_acc = []\n",
        "perf_test_acc = []\n",
        "\n",
        "# Training/testing confusion matrices\n",
        "perf_train_cm = []\n",
        "perf_test_cm = []\n",
        "\n",
        "# Testing prediction performance\n",
        "perf_test_y_pred = []\n",
        "perf_test_y_truth = []\n",
        "\n",
        "# Performance evaluation\n",
        "# for test_subject in all_subject_id[0:1]: # for testing purpose\n",
        "for test_subject in all_subject_id[:]:\n",
        "  print('# Working on test subject ' + str(test_subject))\n",
        "\n",
        "  # --- Divide training/testing data according to LOSOCV --- #\n",
        "  train_list, test_list = [], []\n",
        "\n",
        "  # # UNCOMMENT THIS ONCE FINISHING TESTING \n",
        "  # for sample in ds_sample_list:    \n",
        "  #   if sample[0, ID_SUBJECT_LABEL] != test_subject: # data not from the testing subject\n",
        "  #     train_list.append(sample) \n",
        "  #   else: # data from the testing subject\n",
        "  #     test_list.append(sample)  \n",
        "\n",
        "  for sample in ds_sample_list:    \n",
        "    if sample[0, ID_SUBJECT_LABEL] in [train_subject for train_subject in all_subject_id if train_subject != test_subject]:\n",
        "      train_list.append(sample) \n",
        "    elif sample[0, ID_SUBJECT_LABEL] == test_subject:\n",
        "      test_list.append(sample)  \n",
        "    else: \n",
        "      pass\n",
        "  \n",
        "  print('* training size: ' + str(len(train_list)))\n",
        "  print('* testing size: ' + str(len(test_list)))\n",
        "\n",
        "  # --- Obtain hyper-parameters from the pre-tuning process --- #\n",
        "  print('--- Obtain hyper-parameters')\n",
        "  hp_point = TUNED_HP[test_subject] # get the set of tune hyper-parameters\n",
        "  s_batch_size  = hp_point[ID_BATCH_SIZE]\n",
        "  s_num_out     = hp_point[ID_NUM_OUT]\n",
        "  s_kernel_size = hp_point[ID_KERNEL_SIZE]\n",
        "  s_stride      = hp_point[ID_STRIDE] \n",
        "  s_pool_size   = hp_point[ID_POOL_SIZE]\n",
        "\n",
        "  print(' + batch size = ' + str(s_batch_size))\n",
        "  print(' + conv. num. out = ' + str(s_num_out))\n",
        "  print(' + kernel size = ' + str(s_kernel_size))\n",
        "  print(' + stride length = ' + str(s_stride))\n",
        "  print(' + pool size = ' + str(s_pool_size))\n",
        "\n",
        "  # --- Make dataset --- #\n",
        "  # Normalize\n",
        "  train_data  = MyDataset(train_list, NORM_SAMPLE_LENGTH, num_clusters) # <-- Here to modify the number of classes (i.e., num_clusters or num_exercise)\n",
        "  test_data   = MyDataset(test_list, NORM_SAMPLE_LENGTH, num_clusters) # <-- Here to modify the number of classes (i.e., num_clusters or num_exercise)\n",
        "\n",
        "  # Wrap dataloader   \n",
        "  train_dataloader  = DataLoader(train_data, batch_size = s_batch_size, shuffle=True)\n",
        "  test_dataloader   = DataLoader(test_data, batch_size  = s_batch_size, shuffle=False)\n",
        "\n",
        "  # --- Model and training --- #\n",
        "  # Model\n",
        "  # model = CNN_One_Block(conv_num_in, s_num_out, s_kernel_size, s_stride, s_pool_size)\n",
        "  # model = CNN_Two_Blocks(conv_num_in, s_num_out, s_kernel_size, s_stride, s_pool_size)\n",
        "  # model = CNN_Three_Blocks(conv_num_in, s_num_out, s_kernel_size, s_stride, s_pool_size)\n",
        "  # model = CNN_One_Deep_Block(conv_num_in, s_num_out, s_kernel_size, s_stride, s_pool_size)\n",
        "  # model = CNN_Two_Deep_Blocks(conv_num_in, s_num_out, s_kernel_size, s_stride, s_pool_size)\n",
        "  # model = CNN_Parallel_Blocks(conv_num_in, s_num_out, s_kernel_size, s_stride, s_pool_size)\n",
        "  model = CNN_Alter_Block(conv_num_in, s_num_out, s_kernel_size, s_stride, s_pool_size, num_clusters) # <-- Here to modify the number of classes (i.e., num_clusters or num_exercise)\n",
        "  if device == 'cuda': model = model.cuda()\n",
        "\n",
        "  # for plotting\n",
        "  train_losses, val_losses = [], []\n",
        "\n",
        "  # Initialize the loss function\n",
        "  loss_fn = nn.CrossEntropyLoss()\n",
        "\n",
        "  # Initialize the optimisation function\n",
        "  optimizer = torch.optim.Adam(model.parameters(), lr = LEARNING_RATE, weight_decay = ADAM_WEIGHT_DECAY)\n",
        "\n",
        "  # Scheduler\n",
        "  scheduler = torch.optim.lr_scheduler.ReduceLROnPlateau(optimizer, 'min', factor = LEARNING_RATE_REDUCTION_FACTOR)\n",
        "\n",
        "  print('--- Start the performance evaluation')\n",
        "  for t in range(NUM_EPOCHS):\n",
        "    print(f\"Epoch {t+1}\\n-------------------------------\")\n",
        "    temp_train_acc, temp_train_cm, _, _  = train_loop(train_dataloader, model, loss_fn, optimizer, num_clusters) # <-- Here to modify the number of classes (i.e., num_clusters or num_exercise)\n",
        "    temp_test_acc, temp_test_cm, temp_y_truth, temp_y_pred   = test_loop(test_dataloader, model, loss_fn, num_clusters) # <-- Here to modify the number of classes (i.e., num_clusters or num_exercise)\n",
        "\n",
        "  # Store the training/testing performance\n",
        "  print('*** Training/testing performance')\n",
        "  perf_train_acc.append(temp_train_acc)\n",
        "  perf_test_acc.append(temp_test_acc)\n",
        "  print(perf_train_acc)\n",
        "  print(perf_test_acc)\n",
        "\n",
        "  # Store the confusion matrices\n",
        "  print('*** Confusion matrix')  \n",
        "  perf_train_cm.append(temp_train_cm)\n",
        "  perf_test_cm.append(temp_test_cm)\n",
        "  print('Not displayed but added')\n",
        "  # print(perf_train_cm)\n",
        "  # print(perf_test_cm)\n",
        "\n",
        "  perf_test_y_truth.append(temp_y_truth)\n",
        "  perf_test_y_pred.append(temp_y_pred)\n"
      ],
      "metadata": {
        "colab": {
          "base_uri": "https://localhost:8080/"
        },
        "id": "Tg643gLaOTJW",
        "outputId": "9a3624af-8294-4bde-ae35-a4649667cecf"
      },
      "execution_count": null,
      "outputs": [
        {
          "output_type": "stream",
          "name": "stdout",
          "text": [
            "# Working on test subject 1\n",
            "* training size: 3064\n",
            "* testing size: 148\n",
            "--- Obtain hyper-parameters\n",
            " + batch size = 128\n",
            " + conv. num. out = 256\n",
            " + kernel size = 4\n",
            " + stride length = 1\n",
            " + pool size = 2\n"
          ]
        },
        {
          "output_type": "stream",
          "name": "stderr",
          "text": [
            "/usr/local/lib/python3.8/dist-packages/torch/nn/modules/lazy.py:178: UserWarning: Lazy modules are a new feature under heavy development so changes to the API or functionality can happen at any moment.\n",
            "  warnings.warn('Lazy modules are a new feature under heavy development '\n"
          ]
        },
        {
          "output_type": "stream",
          "name": "stdout",
          "text": [
            "--- Start the performance evaluation\n",
            "Epoch 1\n",
            "-------------------------------\n",
            "Epoch 2\n",
            "-------------------------------\n",
            "Epoch 3\n",
            "-------------------------------\n",
            "Epoch 4\n",
            "-------------------------------\n",
            "Epoch 5\n",
            "-------------------------------\n",
            "Epoch 6\n",
            "-------------------------------\n",
            "Epoch 7\n",
            "-------------------------------\n",
            "Epoch 8\n",
            "-------------------------------\n",
            "Epoch 9\n",
            "-------------------------------\n",
            "Epoch 10\n",
            "-------------------------------\n",
            "Epoch 11\n",
            "-------------------------------\n",
            "Epoch 12\n",
            "-------------------------------\n",
            "Epoch 13\n",
            "-------------------------------\n",
            "Epoch 14\n",
            "-------------------------------\n",
            "Epoch 15\n",
            "-------------------------------\n",
            "Epoch 16\n",
            "-------------------------------\n",
            "Epoch 17\n",
            "-------------------------------\n",
            "Epoch 18\n",
            "-------------------------------\n",
            "Epoch 19\n",
            "-------------------------------\n",
            "Epoch 20\n",
            "-------------------------------\n",
            "Epoch 21\n",
            "-------------------------------\n",
            "Epoch 22\n",
            "-------------------------------\n",
            "Epoch 23\n",
            "-------------------------------\n",
            "Epoch 24\n",
            "-------------------------------\n",
            "Epoch 25\n",
            "-------------------------------\n",
            "Epoch 26\n",
            "-------------------------------\n",
            "Epoch 27\n",
            "-------------------------------\n",
            "Epoch 28\n",
            "-------------------------------\n",
            "Epoch 29\n",
            "-------------------------------\n",
            "Epoch 30\n",
            "-------------------------------\n",
            "*** Training/testing performance\n",
            "[0.9960835509138382]\n",
            "[0.9459459459459459]\n",
            "*** Confusion matrix\n",
            "Not displayed but added\n",
            "# Working on test subject 2\n",
            "* training size: 3048\n",
            "* testing size: 164\n",
            "--- Obtain hyper-parameters\n",
            " + batch size = 128\n",
            " + conv. num. out = 256\n",
            " + kernel size = 4\n",
            " + stride length = 1\n",
            " + pool size = 2\n",
            "--- Start the performance evaluation\n",
            "Epoch 1\n",
            "-------------------------------\n",
            "Epoch 2\n",
            "-------------------------------\n",
            "Epoch 3\n",
            "-------------------------------\n",
            "Epoch 4\n",
            "-------------------------------\n",
            "Epoch 5\n",
            "-------------------------------\n",
            "Epoch 6\n",
            "-------------------------------\n",
            "Epoch 7\n",
            "-------------------------------\n",
            "Epoch 8\n",
            "-------------------------------\n",
            "Epoch 9\n",
            "-------------------------------\n",
            "Epoch 10\n",
            "-------------------------------\n",
            "Epoch 11\n",
            "-------------------------------\n",
            "Epoch 12\n",
            "-------------------------------\n",
            "Epoch 13\n",
            "-------------------------------\n",
            "Epoch 14\n",
            "-------------------------------\n",
            "Epoch 15\n",
            "-------------------------------\n",
            "Epoch 16\n",
            "-------------------------------\n",
            "Epoch 17\n",
            "-------------------------------\n",
            "Epoch 18\n",
            "-------------------------------\n",
            "Epoch 19\n",
            "-------------------------------\n",
            "Epoch 20\n",
            "-------------------------------\n",
            "Epoch 21\n",
            "-------------------------------\n",
            "Epoch 22\n",
            "-------------------------------\n",
            "Epoch 23\n",
            "-------------------------------\n",
            "Epoch 24\n",
            "-------------------------------\n",
            "Epoch 25\n",
            "-------------------------------\n",
            "Epoch 26\n",
            "-------------------------------\n",
            "Epoch 27\n",
            "-------------------------------\n",
            "Epoch 28\n",
            "-------------------------------\n",
            "Epoch 29\n",
            "-------------------------------\n",
            "Epoch 30\n",
            "-------------------------------\n",
            "*** Training/testing performance\n",
            "[0.9960835509138382, 0.9960629921259843]\n",
            "[0.9459459459459459, 0.926829268292683]\n",
            "*** Confusion matrix\n",
            "Not displayed but added\n",
            "# Working on test subject 3\n",
            "* training size: 3048\n",
            "* testing size: 164\n",
            "--- Obtain hyper-parameters\n",
            " + batch size = 32\n",
            " + conv. num. out = 256\n",
            " + kernel size = 4\n",
            " + stride length = 1\n",
            " + pool size = 2\n",
            "--- Start the performance evaluation\n",
            "Epoch 1\n",
            "-------------------------------\n",
            "Epoch 2\n",
            "-------------------------------\n",
            "Epoch 3\n",
            "-------------------------------\n",
            "Epoch 4\n",
            "-------------------------------\n",
            "Epoch 5\n",
            "-------------------------------\n",
            "Epoch 6\n",
            "-------------------------------\n",
            "Epoch 7\n",
            "-------------------------------\n",
            "Epoch 8\n",
            "-------------------------------\n",
            "Epoch 9\n",
            "-------------------------------\n",
            "Epoch 10\n",
            "-------------------------------\n",
            "Epoch 11\n",
            "-------------------------------\n",
            "Epoch 12\n",
            "-------------------------------\n",
            "Epoch 13\n",
            "-------------------------------\n",
            "Epoch 14\n",
            "-------------------------------\n",
            "Epoch 15\n",
            "-------------------------------\n",
            "Epoch 16\n",
            "-------------------------------\n",
            "Epoch 17\n",
            "-------------------------------\n",
            "Epoch 18\n",
            "-------------------------------\n",
            "Epoch 19\n",
            "-------------------------------\n",
            "Epoch 20\n",
            "-------------------------------\n",
            "Epoch 21\n",
            "-------------------------------\n",
            "Epoch 22\n",
            "-------------------------------\n",
            "Epoch 23\n",
            "-------------------------------\n",
            "Epoch 24\n",
            "-------------------------------\n",
            "Epoch 25\n",
            "-------------------------------\n",
            "Epoch 26\n",
            "-------------------------------\n",
            "Epoch 27\n",
            "-------------------------------\n",
            "Epoch 28\n",
            "-------------------------------\n",
            "Epoch 29\n",
            "-------------------------------\n",
            "Epoch 30\n",
            "-------------------------------\n",
            "*** Training/testing performance\n",
            "[0.9960835509138382, 0.9960629921259843, 0.9970472440944882]\n",
            "[0.9459459459459459, 0.926829268292683, 0.9390243902439024]\n",
            "*** Confusion matrix\n",
            "Not displayed but added\n",
            "# Working on test subject 4\n",
            "* training size: 3055\n",
            "* testing size: 157\n",
            "--- Obtain hyper-parameters\n",
            " + batch size = 32\n",
            " + conv. num. out = 256\n",
            " + kernel size = 4\n",
            " + stride length = 1\n",
            " + pool size = 2\n",
            "--- Start the performance evaluation\n",
            "Epoch 1\n",
            "-------------------------------\n",
            "Epoch 2\n",
            "-------------------------------\n",
            "Epoch 3\n",
            "-------------------------------\n",
            "Epoch 4\n",
            "-------------------------------\n",
            "Epoch 5\n",
            "-------------------------------\n",
            "Epoch 6\n",
            "-------------------------------\n",
            "Epoch 7\n",
            "-------------------------------\n",
            "Epoch 8\n",
            "-------------------------------\n",
            "Epoch 9\n",
            "-------------------------------\n",
            "Epoch 10\n",
            "-------------------------------\n",
            "Epoch 11\n",
            "-------------------------------\n",
            "Epoch 12\n",
            "-------------------------------\n",
            "Epoch 13\n",
            "-------------------------------\n",
            "Epoch 14\n",
            "-------------------------------\n",
            "Epoch 15\n",
            "-------------------------------\n",
            "Epoch 16\n",
            "-------------------------------\n",
            "Epoch 17\n",
            "-------------------------------\n",
            "Epoch 18\n",
            "-------------------------------\n",
            "Epoch 19\n",
            "-------------------------------\n",
            "Epoch 20\n",
            "-------------------------------\n",
            "Epoch 21\n",
            "-------------------------------\n",
            "Epoch 22\n",
            "-------------------------------\n",
            "Epoch 23\n",
            "-------------------------------\n",
            "Epoch 24\n",
            "-------------------------------\n",
            "Epoch 25\n",
            "-------------------------------\n",
            "Epoch 26\n",
            "-------------------------------\n",
            "Epoch 27\n",
            "-------------------------------\n",
            "Epoch 28\n",
            "-------------------------------\n",
            "Epoch 29\n",
            "-------------------------------\n",
            "Epoch 30\n",
            "-------------------------------\n",
            "*** Training/testing performance\n",
            "[0.9960835509138382, 0.9960629921259843, 0.9970472440944882, 0.9963993453355156]\n",
            "[0.9459459459459459, 0.926829268292683, 0.9390243902439024, 0.9299363057324841]\n",
            "*** Confusion matrix\n",
            "Not displayed but added\n",
            "# Working on test subject 5\n",
            "* training size: 3047\n",
            "* testing size: 165\n",
            "--- Obtain hyper-parameters\n",
            " + batch size = 128\n",
            " + conv. num. out = 256\n",
            " + kernel size = 4\n",
            " + stride length = 1\n",
            " + pool size = 2\n",
            "--- Start the performance evaluation\n",
            "Epoch 1\n",
            "-------------------------------\n",
            "Epoch 2\n",
            "-------------------------------\n",
            "Epoch 3\n",
            "-------------------------------\n",
            "Epoch 4\n",
            "-------------------------------\n",
            "Epoch 5\n",
            "-------------------------------\n",
            "Epoch 6\n",
            "-------------------------------\n",
            "Epoch 7\n",
            "-------------------------------\n",
            "Epoch 8\n",
            "-------------------------------\n",
            "Epoch 9\n",
            "-------------------------------\n",
            "Epoch 10\n",
            "-------------------------------\n",
            "Epoch 11\n",
            "-------------------------------\n",
            "Epoch 12\n",
            "-------------------------------\n",
            "Epoch 13\n",
            "-------------------------------\n",
            "Epoch 14\n",
            "-------------------------------\n",
            "Epoch 15\n",
            "-------------------------------\n",
            "Epoch 16\n",
            "-------------------------------\n",
            "Epoch 17\n",
            "-------------------------------\n",
            "Epoch 18\n",
            "-------------------------------\n",
            "Epoch 19\n",
            "-------------------------------\n",
            "Epoch 20\n",
            "-------------------------------\n",
            "Epoch 21\n",
            "-------------------------------\n",
            "Epoch 22\n",
            "-------------------------------\n",
            "Epoch 23\n",
            "-------------------------------\n",
            "Epoch 24\n",
            "-------------------------------\n",
            "Epoch 25\n",
            "-------------------------------\n",
            "Epoch 26\n",
            "-------------------------------\n",
            "Epoch 27\n",
            "-------------------------------\n",
            "Epoch 28\n",
            "-------------------------------\n",
            "Epoch 29\n",
            "-------------------------------\n",
            "Epoch 30\n",
            "-------------------------------\n",
            "*** Training/testing performance\n",
            "[0.9960835509138382, 0.9960629921259843, 0.9970472440944882, 0.9963993453355156, 0.9957335083688874]\n",
            "[0.9459459459459459, 0.926829268292683, 0.9390243902439024, 0.9299363057324841, 0.7636363636363637]\n",
            "*** Confusion matrix\n",
            "Not displayed but added\n",
            "# Working on test subject 6\n",
            "* training size: 3046\n",
            "* testing size: 166\n",
            "--- Obtain hyper-parameters\n",
            " + batch size = 128\n",
            " + conv. num. out = 256\n",
            " + kernel size = 4\n",
            " + stride length = 1\n",
            " + pool size = 2\n",
            "--- Start the performance evaluation\n",
            "Epoch 1\n",
            "-------------------------------\n",
            "Epoch 2\n",
            "-------------------------------\n",
            "Epoch 3\n",
            "-------------------------------\n",
            "Epoch 4\n",
            "-------------------------------\n",
            "Epoch 5\n",
            "-------------------------------\n",
            "Epoch 6\n",
            "-------------------------------\n",
            "Epoch 7\n",
            "-------------------------------\n",
            "Epoch 8\n",
            "-------------------------------\n",
            "Epoch 9\n",
            "-------------------------------\n",
            "Epoch 10\n",
            "-------------------------------\n",
            "Epoch 11\n",
            "-------------------------------\n",
            "Epoch 12\n",
            "-------------------------------\n",
            "Epoch 13\n",
            "-------------------------------\n",
            "Epoch 14\n",
            "-------------------------------\n",
            "Epoch 15\n",
            "-------------------------------\n",
            "Epoch 16\n",
            "-------------------------------\n",
            "Epoch 17\n",
            "-------------------------------\n",
            "Epoch 18\n",
            "-------------------------------\n",
            "Epoch 19\n",
            "-------------------------------\n",
            "Epoch 20\n",
            "-------------------------------\n",
            "Epoch 21\n",
            "-------------------------------\n",
            "Epoch 22\n",
            "-------------------------------\n",
            "Epoch 23\n",
            "-------------------------------\n",
            "Epoch 24\n",
            "-------------------------------\n",
            "Epoch 25\n",
            "-------------------------------\n",
            "Epoch 26\n",
            "-------------------------------\n",
            "Epoch 27\n",
            "-------------------------------\n",
            "Epoch 28\n",
            "-------------------------------\n",
            "Epoch 29\n",
            "-------------------------------\n",
            "Epoch 30\n",
            "-------------------------------\n",
            "*** Training/testing performance\n",
            "[0.9960835509138382, 0.9960629921259843, 0.9970472440944882, 0.9963993453355156, 0.9957335083688874, 0.9954038082731451]\n",
            "[0.9459459459459459, 0.926829268292683, 0.9390243902439024, 0.9299363057324841, 0.7636363636363637, 0.9578313253012049]\n",
            "*** Confusion matrix\n",
            "Not displayed but added\n",
            "# Working on test subject 7\n",
            "* training size: 3043\n",
            "* testing size: 169\n",
            "--- Obtain hyper-parameters\n",
            " + batch size = 128\n",
            " + conv. num. out = 256\n",
            " + kernel size = 4\n",
            " + stride length = 1\n",
            " + pool size = 2\n",
            "--- Start the performance evaluation\n",
            "Epoch 1\n",
            "-------------------------------\n",
            "Epoch 2\n",
            "-------------------------------\n",
            "Epoch 3\n",
            "-------------------------------\n",
            "Epoch 4\n",
            "-------------------------------\n",
            "Epoch 5\n",
            "-------------------------------\n",
            "Epoch 6\n",
            "-------------------------------\n",
            "Epoch 7\n",
            "-------------------------------\n",
            "Epoch 8\n",
            "-------------------------------\n",
            "Epoch 9\n",
            "-------------------------------\n",
            "Epoch 10\n",
            "-------------------------------\n",
            "Epoch 11\n",
            "-------------------------------\n",
            "Epoch 12\n",
            "-------------------------------\n",
            "Epoch 13\n",
            "-------------------------------\n",
            "Epoch 14\n",
            "-------------------------------\n",
            "Epoch 15\n",
            "-------------------------------\n",
            "Epoch 16\n",
            "-------------------------------\n",
            "Epoch 17\n",
            "-------------------------------\n",
            "Epoch 18\n",
            "-------------------------------\n",
            "Epoch 19\n",
            "-------------------------------\n",
            "Epoch 20\n",
            "-------------------------------\n",
            "Epoch 21\n",
            "-------------------------------\n",
            "Epoch 22\n",
            "-------------------------------\n",
            "Epoch 23\n",
            "-------------------------------\n",
            "Epoch 24\n",
            "-------------------------------\n",
            "Epoch 25\n",
            "-------------------------------\n",
            "Epoch 26\n",
            "-------------------------------\n",
            "Epoch 27\n",
            "-------------------------------\n",
            "Epoch 28\n",
            "-------------------------------\n",
            "Epoch 29\n",
            "-------------------------------\n",
            "Epoch 30\n",
            "-------------------------------\n",
            "*** Training/testing performance\n",
            "[0.9960835509138382, 0.9960629921259843, 0.9970472440944882, 0.9963993453355156, 0.9957335083688874, 0.9954038082731451, 0.9967137693066053]\n",
            "[0.9459459459459459, 0.926829268292683, 0.9390243902439024, 0.9299363057324841, 0.7636363636363637, 0.9578313253012049, 0.9644970414201184]\n",
            "*** Confusion matrix\n",
            "Not displayed but added\n",
            "# Working on test subject 8\n",
            "* training size: 3056\n",
            "* testing size: 156\n",
            "--- Obtain hyper-parameters\n",
            " + batch size = 32\n",
            " + conv. num. out = 256\n",
            " + kernel size = 4\n",
            " + stride length = 1\n",
            " + pool size = 2\n",
            "--- Start the performance evaluation\n",
            "Epoch 1\n",
            "-------------------------------\n",
            "Epoch 2\n",
            "-------------------------------\n",
            "Epoch 3\n",
            "-------------------------------\n",
            "Epoch 4\n",
            "-------------------------------\n",
            "Epoch 5\n",
            "-------------------------------\n",
            "Epoch 6\n",
            "-------------------------------\n",
            "Epoch 7\n",
            "-------------------------------\n",
            "Epoch 8\n",
            "-------------------------------\n",
            "Epoch 9\n",
            "-------------------------------\n",
            "Epoch 10\n",
            "-------------------------------\n",
            "Epoch 11\n",
            "-------------------------------\n",
            "Epoch 12\n",
            "-------------------------------\n",
            "Epoch 13\n",
            "-------------------------------\n",
            "Epoch 14\n",
            "-------------------------------\n",
            "Epoch 15\n",
            "-------------------------------\n",
            "Epoch 16\n",
            "-------------------------------\n",
            "Epoch 17\n",
            "-------------------------------\n",
            "Epoch 18\n",
            "-------------------------------\n",
            "Epoch 19\n",
            "-------------------------------\n",
            "Epoch 20\n",
            "-------------------------------\n",
            "Epoch 21\n",
            "-------------------------------\n",
            "Epoch 22\n",
            "-------------------------------\n",
            "Epoch 23\n",
            "-------------------------------\n",
            "Epoch 24\n",
            "-------------------------------\n",
            "Epoch 25\n",
            "-------------------------------\n",
            "Epoch 26\n",
            "-------------------------------\n",
            "Epoch 27\n",
            "-------------------------------\n",
            "Epoch 28\n",
            "-------------------------------\n",
            "Epoch 29\n",
            "-------------------------------\n",
            "Epoch 30\n",
            "-------------------------------\n",
            "*** Training/testing performance\n",
            "[0.9960835509138382, 0.9960629921259843, 0.9970472440944882, 0.9963993453355156, 0.9957335083688874, 0.9954038082731451, 0.9967137693066053, 0.9973821989528796]\n",
            "[0.9459459459459459, 0.926829268292683, 0.9390243902439024, 0.9299363057324841, 0.7636363636363637, 0.9578313253012049, 0.9644970414201184, 0.8717948717948718]\n",
            "*** Confusion matrix\n",
            "Not displayed but added\n",
            "# Working on test subject 9\n",
            "* training size: 3058\n",
            "* testing size: 154\n",
            "--- Obtain hyper-parameters\n",
            " + batch size = 128\n",
            " + conv. num. out = 256\n",
            " + kernel size = 4\n",
            " + stride length = 1\n",
            " + pool size = 2\n",
            "--- Start the performance evaluation\n",
            "Epoch 1\n",
            "-------------------------------\n",
            "Epoch 2\n",
            "-------------------------------\n",
            "Epoch 3\n",
            "-------------------------------\n",
            "Epoch 4\n",
            "-------------------------------\n",
            "Epoch 5\n",
            "-------------------------------\n",
            "Epoch 6\n",
            "-------------------------------\n",
            "Epoch 7\n",
            "-------------------------------\n",
            "Epoch 8\n",
            "-------------------------------\n",
            "Epoch 9\n",
            "-------------------------------\n",
            "Epoch 10\n",
            "-------------------------------\n",
            "Epoch 11\n",
            "-------------------------------\n",
            "Epoch 12\n",
            "-------------------------------\n",
            "Epoch 13\n",
            "-------------------------------\n",
            "Epoch 14\n",
            "-------------------------------\n",
            "Epoch 15\n",
            "-------------------------------\n",
            "Epoch 16\n",
            "-------------------------------\n",
            "Epoch 17\n",
            "-------------------------------\n",
            "Epoch 18\n",
            "-------------------------------\n",
            "Epoch 19\n",
            "-------------------------------\n",
            "Epoch 20\n",
            "-------------------------------\n",
            "Epoch 21\n",
            "-------------------------------\n",
            "Epoch 22\n",
            "-------------------------------\n",
            "Epoch 23\n",
            "-------------------------------\n",
            "Epoch 24\n",
            "-------------------------------\n",
            "Epoch 25\n",
            "-------------------------------\n",
            "Epoch 26\n",
            "-------------------------------\n",
            "Epoch 27\n",
            "-------------------------------\n",
            "Epoch 28\n",
            "-------------------------------\n",
            "Epoch 29\n",
            "-------------------------------\n",
            "Epoch 30\n",
            "-------------------------------\n",
            "*** Training/testing performance\n",
            "[0.9960835509138382, 0.9960629921259843, 0.9970472440944882, 0.9963993453355156, 0.9957335083688874, 0.9954038082731451, 0.9967137693066053, 0.9973821989528796, 0.9957488554610857]\n",
            "[0.9459459459459459, 0.926829268292683, 0.9390243902439024, 0.9299363057324841, 0.7636363636363637, 0.9578313253012049, 0.9644970414201184, 0.8717948717948718, 0.9090909090909091]\n",
            "*** Confusion matrix\n",
            "Not displayed but added\n",
            "# Working on test subject 10\n",
            "* training size: 3046\n",
            "* testing size: 166\n",
            "--- Obtain hyper-parameters\n",
            " + batch size = 128\n",
            " + conv. num. out = 256\n",
            " + kernel size = 4\n",
            " + stride length = 1\n",
            " + pool size = 2\n",
            "--- Start the performance evaluation\n",
            "Epoch 1\n",
            "-------------------------------\n",
            "Epoch 2\n",
            "-------------------------------\n",
            "Epoch 3\n",
            "-------------------------------\n",
            "Epoch 4\n",
            "-------------------------------\n",
            "Epoch 5\n",
            "-------------------------------\n",
            "Epoch 6\n",
            "-------------------------------\n",
            "Epoch 7\n",
            "-------------------------------\n",
            "Epoch 8\n",
            "-------------------------------\n",
            "Epoch 9\n",
            "-------------------------------\n",
            "Epoch 10\n",
            "-------------------------------\n",
            "Epoch 11\n",
            "-------------------------------\n",
            "Epoch 12\n",
            "-------------------------------\n",
            "Epoch 13\n",
            "-------------------------------\n",
            "Epoch 14\n",
            "-------------------------------\n",
            "Epoch 15\n",
            "-------------------------------\n",
            "Epoch 16\n",
            "-------------------------------\n",
            "Epoch 17\n",
            "-------------------------------\n",
            "Epoch 18\n",
            "-------------------------------\n",
            "Epoch 19\n",
            "-------------------------------\n",
            "Epoch 20\n",
            "-------------------------------\n",
            "Epoch 21\n",
            "-------------------------------\n",
            "Epoch 22\n",
            "-------------------------------\n",
            "Epoch 23\n",
            "-------------------------------\n",
            "Epoch 24\n",
            "-------------------------------\n",
            "Epoch 25\n",
            "-------------------------------\n",
            "Epoch 26\n",
            "-------------------------------\n",
            "Epoch 27\n",
            "-------------------------------\n",
            "Epoch 28\n",
            "-------------------------------\n",
            "Epoch 29\n",
            "-------------------------------\n",
            "Epoch 30\n",
            "-------------------------------\n",
            "*** Training/testing performance\n",
            "[0.9960835509138382, 0.9960629921259843, 0.9970472440944882, 0.9963993453355156, 0.9957335083688874, 0.9954038082731451, 0.9967137693066053, 0.9973821989528796, 0.9957488554610857, 0.9967170059093894]\n",
            "[0.9459459459459459, 0.926829268292683, 0.9390243902439024, 0.9299363057324841, 0.7636363636363637, 0.9578313253012049, 0.9644970414201184, 0.8717948717948718, 0.9090909090909091, 0.8192771084337349]\n",
            "*** Confusion matrix\n",
            "Not displayed but added\n",
            "# Working on test subject 11\n",
            "* training size: 3052\n",
            "* testing size: 160\n",
            "--- Obtain hyper-parameters\n",
            " + batch size = 64\n",
            " + conv. num. out = 256\n",
            " + kernel size = 4\n",
            " + stride length = 1\n",
            " + pool size = 2\n",
            "--- Start the performance evaluation\n",
            "Epoch 1\n",
            "-------------------------------\n",
            "Epoch 2\n",
            "-------------------------------\n",
            "Epoch 3\n",
            "-------------------------------\n",
            "Epoch 4\n",
            "-------------------------------\n",
            "Epoch 5\n",
            "-------------------------------\n",
            "Epoch 6\n",
            "-------------------------------\n",
            "Epoch 7\n",
            "-------------------------------\n",
            "Epoch 8\n",
            "-------------------------------\n",
            "Epoch 9\n",
            "-------------------------------\n",
            "Epoch 10\n",
            "-------------------------------\n",
            "Epoch 11\n",
            "-------------------------------\n",
            "Epoch 12\n",
            "-------------------------------\n",
            "Epoch 13\n",
            "-------------------------------\n",
            "Epoch 14\n",
            "-------------------------------\n",
            "Epoch 15\n",
            "-------------------------------\n",
            "Epoch 16\n",
            "-------------------------------\n",
            "Epoch 17\n",
            "-------------------------------\n",
            "Epoch 18\n",
            "-------------------------------\n",
            "Epoch 19\n",
            "-------------------------------\n",
            "Epoch 20\n",
            "-------------------------------\n",
            "Epoch 21\n",
            "-------------------------------\n",
            "Epoch 22\n",
            "-------------------------------\n",
            "Epoch 23\n",
            "-------------------------------\n",
            "Epoch 24\n",
            "-------------------------------\n",
            "Epoch 25\n",
            "-------------------------------\n",
            "Epoch 26\n",
            "-------------------------------\n",
            "Epoch 27\n",
            "-------------------------------\n",
            "Epoch 28\n",
            "-------------------------------\n",
            "Epoch 29\n",
            "-------------------------------\n",
            "Epoch 30\n",
            "-------------------------------\n",
            "*** Training/testing performance\n",
            "[0.9960835509138382, 0.9960629921259843, 0.9970472440944882, 0.9963993453355156, 0.9957335083688874, 0.9954038082731451, 0.9967137693066053, 0.9973821989528796, 0.9957488554610857, 0.9967170059093894, 0.9963958060288336]\n",
            "[0.9459459459459459, 0.926829268292683, 0.9390243902439024, 0.9299363057324841, 0.7636363636363637, 0.9578313253012049, 0.9644970414201184, 0.8717948717948718, 0.9090909090909091, 0.8192771084337349, 0.975]\n",
            "*** Confusion matrix\n",
            "Not displayed but added\n",
            "# Working on test subject 12\n",
            "* training size: 3044\n",
            "* testing size: 168\n",
            "--- Obtain hyper-parameters\n",
            " + batch size = 128\n",
            " + conv. num. out = 256\n",
            " + kernel size = 4\n",
            " + stride length = 1\n",
            " + pool size = 2\n",
            "--- Start the performance evaluation\n",
            "Epoch 1\n",
            "-------------------------------\n",
            "Epoch 2\n",
            "-------------------------------\n",
            "Epoch 3\n",
            "-------------------------------\n",
            "Epoch 4\n",
            "-------------------------------\n",
            "Epoch 5\n",
            "-------------------------------\n",
            "Epoch 6\n",
            "-------------------------------\n",
            "Epoch 7\n",
            "-------------------------------\n",
            "Epoch 8\n",
            "-------------------------------\n",
            "Epoch 9\n",
            "-------------------------------\n",
            "Epoch 10\n",
            "-------------------------------\n",
            "Epoch 11\n",
            "-------------------------------\n",
            "Epoch 12\n",
            "-------------------------------\n",
            "Epoch 13\n",
            "-------------------------------\n",
            "Epoch 14\n",
            "-------------------------------\n",
            "Epoch 15\n",
            "-------------------------------\n",
            "Epoch 16\n",
            "-------------------------------\n",
            "Epoch 17\n",
            "-------------------------------\n",
            "Epoch 18\n",
            "-------------------------------\n",
            "Epoch 19\n",
            "-------------------------------\n",
            "Epoch 20\n",
            "-------------------------------\n",
            "Epoch 21\n",
            "-------------------------------\n",
            "Epoch 22\n",
            "-------------------------------\n",
            "Epoch 23\n",
            "-------------------------------\n",
            "Epoch 24\n",
            "-------------------------------\n",
            "Epoch 25\n",
            "-------------------------------\n",
            "Epoch 26\n",
            "-------------------------------\n",
            "Epoch 27\n",
            "-------------------------------\n",
            "Epoch 28\n",
            "-------------------------------\n",
            "Epoch 29\n",
            "-------------------------------\n",
            "Epoch 30\n",
            "-------------------------------\n",
            "*** Training/testing performance\n",
            "[0.9960835509138382, 0.9960629921259843, 0.9970472440944882, 0.9963993453355156, 0.9957335083688874, 0.9954038082731451, 0.9967137693066053, 0.9973821989528796, 0.9957488554610857, 0.9967170059093894, 0.9963958060288336, 0.9967148488830486]\n",
            "[0.9459459459459459, 0.926829268292683, 0.9390243902439024, 0.9299363057324841, 0.7636363636363637, 0.9578313253012049, 0.9644970414201184, 0.8717948717948718, 0.9090909090909091, 0.8192771084337349, 0.975, 0.875]\n",
            "*** Confusion matrix\n",
            "Not displayed but added\n",
            "# Working on test subject 13\n",
            "* training size: 3041\n",
            "* testing size: 171\n",
            "--- Obtain hyper-parameters\n",
            " + batch size = 16\n",
            " + conv. num. out = 128\n",
            " + kernel size = 4\n",
            " + stride length = 1\n",
            " + pool size = 2\n",
            "--- Start the performance evaluation\n",
            "Epoch 1\n",
            "-------------------------------\n",
            "Epoch 2\n",
            "-------------------------------\n",
            "Epoch 3\n",
            "-------------------------------\n",
            "Epoch 4\n",
            "-------------------------------\n",
            "Epoch 5\n",
            "-------------------------------\n",
            "Epoch 6\n",
            "-------------------------------\n",
            "Epoch 7\n",
            "-------------------------------\n",
            "Epoch 8\n",
            "-------------------------------\n",
            "Epoch 9\n",
            "-------------------------------\n",
            "Epoch 10\n",
            "-------------------------------\n",
            "Epoch 11\n",
            "-------------------------------\n",
            "Epoch 12\n",
            "-------------------------------\n",
            "Epoch 13\n",
            "-------------------------------\n",
            "Epoch 14\n",
            "-------------------------------\n",
            "Epoch 15\n",
            "-------------------------------\n",
            "Epoch 16\n",
            "-------------------------------\n",
            "Epoch 17\n",
            "-------------------------------\n",
            "Epoch 18\n",
            "-------------------------------\n",
            "Epoch 19\n",
            "-------------------------------\n",
            "Epoch 20\n",
            "-------------------------------\n",
            "Epoch 21\n",
            "-------------------------------\n",
            "Epoch 22\n",
            "-------------------------------\n",
            "Epoch 23\n",
            "-------------------------------\n",
            "Epoch 24\n",
            "-------------------------------\n",
            "Epoch 25\n",
            "-------------------------------\n",
            "Epoch 26\n",
            "-------------------------------\n",
            "Epoch 27\n",
            "-------------------------------\n",
            "Epoch 28\n",
            "-------------------------------\n",
            "Epoch 29\n",
            "-------------------------------\n",
            "Epoch 30\n",
            "-------------------------------\n",
            "*** Training/testing performance\n",
            "[0.9960835509138382, 0.9960629921259843, 0.9970472440944882, 0.9963993453355156, 0.9957335083688874, 0.9954038082731451, 0.9967137693066053, 0.9973821989528796, 0.9957488554610857, 0.9967170059093894, 0.9963958060288336, 0.9967148488830486, 0.9960539296284117]\n",
            "[0.9459459459459459, 0.926829268292683, 0.9390243902439024, 0.9299363057324841, 0.7636363636363637, 0.9578313253012049, 0.9644970414201184, 0.8717948717948718, 0.9090909090909091, 0.8192771084337349, 0.975, 0.875, 0.8888888888888888]\n",
            "*** Confusion matrix\n",
            "Not displayed but added\n",
            "# Working on test subject 14\n",
            "* training size: 3051\n",
            "* testing size: 161\n",
            "--- Obtain hyper-parameters\n",
            " + batch size = 32\n",
            " + conv. num. out = 256\n",
            " + kernel size = 4\n",
            " + stride length = 1\n",
            " + pool size = 2\n",
            "--- Start the performance evaluation\n",
            "Epoch 1\n",
            "-------------------------------\n",
            "Epoch 2\n",
            "-------------------------------\n",
            "Epoch 3\n",
            "-------------------------------\n",
            "Epoch 4\n",
            "-------------------------------\n",
            "Epoch 5\n",
            "-------------------------------\n",
            "Epoch 6\n",
            "-------------------------------\n",
            "Epoch 7\n",
            "-------------------------------\n",
            "Epoch 8\n",
            "-------------------------------\n",
            "Epoch 9\n",
            "-------------------------------\n",
            "Epoch 10\n",
            "-------------------------------\n",
            "Epoch 11\n",
            "-------------------------------\n",
            "Epoch 12\n",
            "-------------------------------\n",
            "Epoch 13\n",
            "-------------------------------\n",
            "Epoch 14\n",
            "-------------------------------\n",
            "Epoch 15\n",
            "-------------------------------\n",
            "Epoch 16\n",
            "-------------------------------\n",
            "Epoch 17\n",
            "-------------------------------\n",
            "Epoch 18\n",
            "-------------------------------\n",
            "Epoch 19\n",
            "-------------------------------\n",
            "Epoch 20\n",
            "-------------------------------\n",
            "Epoch 21\n",
            "-------------------------------\n",
            "Epoch 22\n",
            "-------------------------------\n",
            "Epoch 23\n",
            "-------------------------------\n",
            "Epoch 24\n",
            "-------------------------------\n",
            "Epoch 25\n",
            "-------------------------------\n",
            "Epoch 26\n",
            "-------------------------------\n",
            "Epoch 27\n",
            "-------------------------------\n",
            "Epoch 28\n",
            "-------------------------------\n",
            "Epoch 29\n",
            "-------------------------------\n",
            "Epoch 30\n",
            "-------------------------------\n",
            "*** Training/testing performance\n",
            "[0.9960835509138382, 0.9960629921259843, 0.9970472440944882, 0.9963993453355156, 0.9957335083688874, 0.9954038082731451, 0.9967137693066053, 0.9973821989528796, 0.9957488554610857, 0.9967170059093894, 0.9963958060288336, 0.9967148488830486, 0.9960539296284117, 0.9973779088823337]\n",
            "[0.9459459459459459, 0.926829268292683, 0.9390243902439024, 0.9299363057324841, 0.7636363636363637, 0.9578313253012049, 0.9644970414201184, 0.8717948717948718, 0.9090909090909091, 0.8192771084337349, 0.975, 0.875, 0.8888888888888888, 0.906832298136646]\n",
            "*** Confusion matrix\n",
            "Not displayed but added\n",
            "# Working on test subject 15\n",
            "* training size: 3020\n",
            "* testing size: 192\n",
            "--- Obtain hyper-parameters\n",
            " + batch size = 16\n",
            " + conv. num. out = 256\n",
            " + kernel size = 4\n",
            " + stride length = 1\n",
            " + pool size = 2\n",
            "--- Start the performance evaluation\n",
            "Epoch 1\n",
            "-------------------------------\n",
            "Epoch 2\n",
            "-------------------------------\n",
            "Epoch 3\n",
            "-------------------------------\n",
            "Epoch 4\n",
            "-------------------------------\n",
            "Epoch 5\n",
            "-------------------------------\n",
            "Epoch 6\n",
            "-------------------------------\n",
            "Epoch 7\n",
            "-------------------------------\n",
            "Epoch 8\n",
            "-------------------------------\n",
            "Epoch 9\n",
            "-------------------------------\n",
            "Epoch 10\n",
            "-------------------------------\n",
            "Epoch 11\n",
            "-------------------------------\n",
            "Epoch 12\n",
            "-------------------------------\n",
            "Epoch 13\n",
            "-------------------------------\n",
            "Epoch 14\n",
            "-------------------------------\n",
            "Epoch 15\n",
            "-------------------------------\n",
            "Epoch 16\n",
            "-------------------------------\n",
            "Epoch 17\n",
            "-------------------------------\n",
            "Epoch 18\n",
            "-------------------------------\n",
            "Epoch 19\n",
            "-------------------------------\n",
            "Epoch 20\n",
            "-------------------------------\n",
            "Epoch 21\n",
            "-------------------------------\n",
            "Epoch 22\n",
            "-------------------------------\n",
            "Epoch 23\n",
            "-------------------------------\n",
            "Epoch 24\n",
            "-------------------------------\n",
            "Epoch 25\n",
            "-------------------------------\n",
            "Epoch 26\n",
            "-------------------------------\n",
            "Epoch 27\n",
            "-------------------------------\n",
            "Epoch 28\n",
            "-------------------------------\n",
            "Epoch 29\n",
            "-------------------------------\n",
            "Epoch 30\n",
            "-------------------------------\n",
            "*** Training/testing performance\n",
            "[0.9960835509138382, 0.9960629921259843, 0.9970472440944882, 0.9963993453355156, 0.9957335083688874, 0.9954038082731451, 0.9967137693066053, 0.9973821989528796, 0.9957488554610857, 0.9967170059093894, 0.9963958060288336, 0.9967148488830486, 0.9960539296284117, 0.9973779088823337, 0.9993377483443708]\n",
            "[0.9459459459459459, 0.926829268292683, 0.9390243902439024, 0.9299363057324841, 0.7636363636363637, 0.9578313253012049, 0.9644970414201184, 0.8717948717948718, 0.9090909090909091, 0.8192771084337349, 0.975, 0.875, 0.8888888888888888, 0.906832298136646, 0.796875]\n",
            "*** Confusion matrix\n",
            "Not displayed but added\n",
            "# Working on test subject 16\n",
            "* training size: 3009\n",
            "* testing size: 203\n",
            "--- Obtain hyper-parameters\n",
            " + batch size = 32\n",
            " + conv. num. out = 256\n",
            " + kernel size = 4\n",
            " + stride length = 1\n",
            " + pool size = 2\n",
            "--- Start the performance evaluation\n",
            "Epoch 1\n",
            "-------------------------------\n",
            "Epoch 2\n",
            "-------------------------------\n",
            "Epoch 3\n",
            "-------------------------------\n",
            "Epoch 4\n",
            "-------------------------------\n",
            "Epoch 5\n",
            "-------------------------------\n",
            "Epoch 6\n",
            "-------------------------------\n",
            "Epoch 7\n",
            "-------------------------------\n",
            "Epoch 8\n",
            "-------------------------------\n",
            "Epoch 9\n",
            "-------------------------------\n",
            "Epoch 10\n",
            "-------------------------------\n",
            "Epoch 11\n",
            "-------------------------------\n",
            "Epoch 12\n",
            "-------------------------------\n",
            "Epoch 13\n",
            "-------------------------------\n",
            "Epoch 14\n",
            "-------------------------------\n",
            "Epoch 15\n",
            "-------------------------------\n",
            "Epoch 16\n",
            "-------------------------------\n",
            "Epoch 17\n",
            "-------------------------------\n",
            "Epoch 18\n",
            "-------------------------------\n",
            "Epoch 19\n",
            "-------------------------------\n",
            "Epoch 20\n",
            "-------------------------------\n",
            "Epoch 21\n",
            "-------------------------------\n",
            "Epoch 22\n",
            "-------------------------------\n",
            "Epoch 23\n",
            "-------------------------------\n",
            "Epoch 24\n",
            "-------------------------------\n",
            "Epoch 25\n",
            "-------------------------------\n",
            "Epoch 26\n",
            "-------------------------------\n",
            "Epoch 27\n",
            "-------------------------------\n",
            "Epoch 28\n",
            "-------------------------------\n",
            "Epoch 29\n",
            "-------------------------------\n",
            "Epoch 30\n",
            "-------------------------------\n",
            "*** Training/testing performance\n",
            "[0.9960835509138382, 0.9960629921259843, 0.9970472440944882, 0.9963993453355156, 0.9957335083688874, 0.9954038082731451, 0.9967137693066053, 0.9973821989528796, 0.9957488554610857, 0.9967170059093894, 0.9963958060288336, 0.9967148488830486, 0.9960539296284117, 0.9973779088823337, 0.9993377483443708, 0.9966766367563975]\n",
            "[0.9459459459459459, 0.926829268292683, 0.9390243902439024, 0.9299363057324841, 0.7636363636363637, 0.9578313253012049, 0.9644970414201184, 0.8717948717948718, 0.9090909090909091, 0.8192771084337349, 0.975, 0.875, 0.8888888888888888, 0.906832298136646, 0.796875, 0.896551724137931]\n",
            "*** Confusion matrix\n",
            "Not displayed but added\n",
            "# Working on test subject 17\n",
            "* training size: 3028\n",
            "* testing size: 184\n",
            "--- Obtain hyper-parameters\n",
            " + batch size = 32\n",
            " + conv. num. out = 256\n",
            " + kernel size = 4\n",
            " + stride length = 1\n",
            " + pool size = 2\n",
            "--- Start the performance evaluation\n",
            "Epoch 1\n",
            "-------------------------------\n",
            "Epoch 2\n",
            "-------------------------------\n",
            "Epoch 3\n",
            "-------------------------------\n",
            "Epoch 4\n",
            "-------------------------------\n",
            "Epoch 5\n",
            "-------------------------------\n",
            "Epoch 6\n",
            "-------------------------------\n",
            "Epoch 7\n",
            "-------------------------------\n",
            "Epoch 8\n",
            "-------------------------------\n",
            "Epoch 9\n",
            "-------------------------------\n",
            "Epoch 10\n",
            "-------------------------------\n",
            "Epoch 11\n",
            "-------------------------------\n",
            "Epoch 12\n",
            "-------------------------------\n",
            "Epoch 13\n",
            "-------------------------------\n",
            "Epoch 14\n",
            "-------------------------------\n",
            "Epoch 15\n",
            "-------------------------------\n",
            "Epoch 16\n",
            "-------------------------------\n",
            "Epoch 17\n",
            "-------------------------------\n",
            "Epoch 18\n",
            "-------------------------------\n",
            "Epoch 19\n",
            "-------------------------------\n",
            "Epoch 20\n",
            "-------------------------------\n",
            "Epoch 21\n",
            "-------------------------------\n",
            "Epoch 22\n",
            "-------------------------------\n",
            "Epoch 23\n",
            "-------------------------------\n",
            "Epoch 24\n",
            "-------------------------------\n",
            "Epoch 25\n",
            "-------------------------------\n",
            "Epoch 26\n",
            "-------------------------------\n",
            "Epoch 27\n",
            "-------------------------------\n",
            "Epoch 28\n",
            "-------------------------------\n",
            "Epoch 29\n",
            "-------------------------------\n",
            "Epoch 30\n",
            "-------------------------------\n",
            "*** Training/testing performance\n",
            "[0.9960835509138382, 0.9960629921259843, 0.9970472440944882, 0.9963993453355156, 0.9957335083688874, 0.9954038082731451, 0.9967137693066053, 0.9973821989528796, 0.9957488554610857, 0.9967170059093894, 0.9963958060288336, 0.9967148488830486, 0.9960539296284117, 0.9973779088823337, 0.9993377483443708, 0.9966766367563975, 0.9963672391017173]\n",
            "[0.9459459459459459, 0.926829268292683, 0.9390243902439024, 0.9299363057324841, 0.7636363636363637, 0.9578313253012049, 0.9644970414201184, 0.8717948717948718, 0.9090909090909091, 0.8192771084337349, 0.975, 0.875, 0.8888888888888888, 0.906832298136646, 0.796875, 0.896551724137931, 0.9347826086956522]\n",
            "*** Confusion matrix\n",
            "Not displayed but added\n",
            "# Working on test subject 18\n",
            "* training size: 3026\n",
            "* testing size: 186\n",
            "--- Obtain hyper-parameters\n",
            " + batch size = 128\n",
            " + conv. num. out = 256\n",
            " + kernel size = 4\n",
            " + stride length = 1\n",
            " + pool size = 2\n",
            "--- Start the performance evaluation\n",
            "Epoch 1\n",
            "-------------------------------\n",
            "Epoch 2\n",
            "-------------------------------\n",
            "Epoch 3\n",
            "-------------------------------\n",
            "Epoch 4\n",
            "-------------------------------\n",
            "Epoch 5\n",
            "-------------------------------\n",
            "Epoch 6\n",
            "-------------------------------\n",
            "Epoch 7\n",
            "-------------------------------\n",
            "Epoch 8\n",
            "-------------------------------\n",
            "Epoch 9\n",
            "-------------------------------\n",
            "Epoch 10\n",
            "-------------------------------\n",
            "Epoch 11\n",
            "-------------------------------\n",
            "Epoch 12\n",
            "-------------------------------\n",
            "Epoch 13\n",
            "-------------------------------\n",
            "Epoch 14\n",
            "-------------------------------\n",
            "Epoch 15\n",
            "-------------------------------\n",
            "Epoch 16\n",
            "-------------------------------\n",
            "Epoch 17\n",
            "-------------------------------\n",
            "Epoch 18\n",
            "-------------------------------\n",
            "Epoch 19\n",
            "-------------------------------\n",
            "Epoch 20\n",
            "-------------------------------\n",
            "Epoch 21\n",
            "-------------------------------\n",
            "Epoch 22\n",
            "-------------------------------\n",
            "Epoch 23\n",
            "-------------------------------\n",
            "Epoch 24\n",
            "-------------------------------\n",
            "Epoch 25\n",
            "-------------------------------\n",
            "Epoch 26\n",
            "-------------------------------\n",
            "Epoch 27\n",
            "-------------------------------\n",
            "Epoch 28\n",
            "-------------------------------\n",
            "Epoch 29\n",
            "-------------------------------\n",
            "Epoch 30\n",
            "-------------------------------\n",
            "*** Training/testing performance\n",
            "[0.9960835509138382, 0.9960629921259843, 0.9970472440944882, 0.9963993453355156, 0.9957335083688874, 0.9954038082731451, 0.9967137693066053, 0.9973821989528796, 0.9957488554610857, 0.9967170059093894, 0.9963958060288336, 0.9967148488830486, 0.9960539296284117, 0.9973779088823337, 0.9993377483443708, 0.9966766367563975, 0.9963672391017173, 0.9957038995373431]\n",
            "[0.9459459459459459, 0.926829268292683, 0.9390243902439024, 0.9299363057324841, 0.7636363636363637, 0.9578313253012049, 0.9644970414201184, 0.8717948717948718, 0.9090909090909091, 0.8192771084337349, 0.975, 0.875, 0.8888888888888888, 0.906832298136646, 0.796875, 0.896551724137931, 0.9347826086956522, 0.9408602150537635]\n",
            "*** Confusion matrix\n",
            "Not displayed but added\n",
            "# Working on test subject 19\n",
            "* training size: 3034\n",
            "* testing size: 178\n",
            "--- Obtain hyper-parameters\n",
            " + batch size = 128\n",
            " + conv. num. out = 256\n",
            " + kernel size = 4\n",
            " + stride length = 1\n",
            " + pool size = 2\n",
            "--- Start the performance evaluation\n",
            "Epoch 1\n",
            "-------------------------------\n",
            "Epoch 2\n",
            "-------------------------------\n",
            "Epoch 3\n",
            "-------------------------------\n",
            "Epoch 4\n",
            "-------------------------------\n",
            "Epoch 5\n",
            "-------------------------------\n",
            "Epoch 6\n",
            "-------------------------------\n",
            "Epoch 7\n",
            "-------------------------------\n",
            "Epoch 8\n",
            "-------------------------------\n",
            "Epoch 9\n",
            "-------------------------------\n",
            "Epoch 10\n",
            "-------------------------------\n",
            "Epoch 11\n",
            "-------------------------------\n",
            "Epoch 12\n",
            "-------------------------------\n",
            "Epoch 13\n",
            "-------------------------------\n",
            "Epoch 14\n",
            "-------------------------------\n",
            "Epoch 15\n",
            "-------------------------------\n",
            "Epoch 16\n",
            "-------------------------------\n",
            "Epoch 17\n",
            "-------------------------------\n",
            "Epoch 18\n",
            "-------------------------------\n",
            "Epoch 19\n",
            "-------------------------------\n",
            "Epoch 20\n",
            "-------------------------------\n",
            "Epoch 21\n",
            "-------------------------------\n",
            "Epoch 22\n",
            "-------------------------------\n",
            "Epoch 23\n",
            "-------------------------------\n",
            "Epoch 24\n",
            "-------------------------------\n",
            "Epoch 25\n",
            "-------------------------------\n",
            "Epoch 26\n",
            "-------------------------------\n",
            "Epoch 27\n",
            "-------------------------------\n",
            "Epoch 28\n",
            "-------------------------------\n",
            "Epoch 29\n",
            "-------------------------------\n",
            "Epoch 30\n",
            "-------------------------------\n",
            "*** Training/testing performance\n",
            "[0.9960835509138382, 0.9960629921259843, 0.9970472440944882, 0.9963993453355156, 0.9957335083688874, 0.9954038082731451, 0.9967137693066053, 0.9973821989528796, 0.9957488554610857, 0.9967170059093894, 0.9963958060288336, 0.9967148488830486, 0.9960539296284117, 0.9973779088823337, 0.9993377483443708, 0.9966766367563975, 0.9963672391017173, 0.9957038995373431, 0.9963744232036915]\n",
            "[0.9459459459459459, 0.926829268292683, 0.9390243902439024, 0.9299363057324841, 0.7636363636363637, 0.9578313253012049, 0.9644970414201184, 0.8717948717948718, 0.9090909090909091, 0.8192771084337349, 0.975, 0.875, 0.8888888888888888, 0.906832298136646, 0.796875, 0.896551724137931, 0.9347826086956522, 0.9408602150537635, 0.9438202247191011]\n",
            "*** Confusion matrix\n",
            "Not displayed but added\n"
          ]
        }
      ]
    },
    {
      "cell_type": "markdown",
      "source": [
        "Monitor the performance"
      ],
      "metadata": {
        "id": "fhjZ_qfLOkpw"
      }
    },
    {
      "cell_type": "code",
      "source": [
        "# Compute the average training/testing accuracy\n",
        "avg_train_acc = round((sum(perf_train_acc)*100.0/len(perf_train_acc)), 4)\n",
        "avg_test_acc = round((sum(perf_test_acc)*100.0/len(perf_test_acc)), 4)\n",
        "\n",
        "print('Average training accuracy = ' + str(avg_train_acc))\n",
        "print('Average testing accuracy = ' + str(avg_test_acc))"
      ],
      "metadata": {
        "colab": {
          "base_uri": "https://localhost:8080/"
        },
        "id": "AlpRG6gfOlqo",
        "outputId": "7612e009-b690-4f1c-9f15-c1c5a3b1ee59"
      },
      "execution_count": null,
      "outputs": [
        {
          "output_type": "stream",
          "name": "stdout",
          "text": [
            "Average training accuracy = 99.6542\n",
            "Average testing accuracy = 90.4551\n"
          ]
        }
      ]
    },
    {
      "cell_type": "code",
      "source": [
        "# Plot confusion matrices\n",
        "import seaborn as sns \n",
        "\n",
        "verf_count = 0\n",
        "\n",
        "for i in range(len(perf_test_cm)):\n",
        "  # plt.figure(i)\n",
        "  # sns.heatmap(perf_test_cm[i], cmap = 'YlGnBu')\n",
        "  # plt.title('No. samples = ' + str(np.sum(perf_test_cm[i])) + '\\n' + '(Testing) accuracy = ' + str(perf_test_acc[i]))\n",
        "  # plt.xlabel('Prediction')\n",
        "  # plt.ylabel('Truth')\n",
        "\n",
        "  verf_count = verf_count + np.sum(perf_test_cm[i])\n",
        "\n",
        "print('Would be wrong if verf_count is not the total number of samples in the dataset, i.e., 3212')\n",
        "print(verf_count)"
      ],
      "metadata": {
        "colab": {
          "base_uri": "https://localhost:8080/"
        },
        "id": "pTjrlzZuOoHh",
        "outputId": "244ecfc0-e17c-46d2-98bc-df2f2c4ce42e"
      },
      "execution_count": null,
      "outputs": [
        {
          "output_type": "stream",
          "name": "stdout",
          "text": [
            "Would be wrong if verf_count is not the total number of samples in the dataset, i.e., 3212\n",
            "3212.0\n"
          ]
        }
      ]
    },
    {
      "cell_type": "markdown",
      "source": [
        "Store result for later processing"
      ],
      "metadata": {
        "id": "Ghc3Cx-4Op8Z"
      }
    },
    {
      "cell_type": "code",
      "source": [
        "# Store accuracy\n",
        "with open('train_acc.npy', 'wb') as f:\n",
        "  np.save(f, np.array(perf_train_acc))\n",
        "with open('test_acc.npy', 'wb') as f:\n",
        "  np.save(f, np.array(perf_test_acc))\n",
        "\n",
        "# Store confusion matrices\n",
        "with open('train_cm.npy', 'wb') as f:\n",
        "  np.save(f, np.array(perf_train_cm))\n",
        "with open('test_cm.npy', 'wb') as f:\n",
        "  np.save(f, np.array(perf_test_cm))\n",
        "\n",
        "# Store truth and pred values of the testing set\n",
        "with open('test_y_truth.npy', 'wb') as f:\n",
        "  np.save(f, np.array(perf_test_y_truth))\n",
        "with open('test_y_pred.npy', 'wb') as f:\n",
        "  np.save(f, np.array(perf_test_y_pred))"
      ],
      "metadata": {
        "colab": {
          "base_uri": "https://localhost:8080/"
        },
        "id": "MFGQtyOKOrPY",
        "outputId": "b7dfe014-46b1-47ce-81ff-238f4c049cea"
      },
      "execution_count": null,
      "outputs": [
        {
          "output_type": "stream",
          "name": "stderr",
          "text": [
            "<ipython-input-553-ef51fbbcb0b2>:15: VisibleDeprecationWarning: Creating an ndarray from ragged nested sequences (which is a list-or-tuple of lists-or-tuples-or ndarrays with different lengths or shapes) is deprecated. If you meant to do this, you must specify 'dtype=object' when creating the ndarray.\n",
            "  np.save(f, np.array(perf_test_y_truth))\n",
            "<ipython-input-553-ef51fbbcb0b2>:17: VisibleDeprecationWarning: Creating an ndarray from ragged nested sequences (which is a list-or-tuple of lists-or-tuples-or ndarrays with different lengths or shapes) is deprecated. If you meant to do this, you must specify 'dtype=object' when creating the ndarray.\n",
            "  np.save(f, np.array(perf_test_y_pred))\n"
          ]
        }
      ]
    },
    {
      "cell_type": "markdown",
      "source": [
        "#Post-process the results"
      ],
      "metadata": {
        "id": "gRDoP1baOuap"
      }
    },
    {
      "cell_type": "code",
      "source": [
        "import numpy as np\n",
        "import matplotlib.pyplot as plt\n",
        "import seaborn as sns\n",
        "import pandas as pd\n",
        "from sklearn import metrics\n",
        "\n",
        "from sklearn.metrics import precision_recall_fscore_support\n",
        "from sklearn.metrics import confusion_matrix\n",
        "from sklearn.metrics import precision_score\n",
        "from sklearn.metrics import recall_score\n",
        "from sklearn.metrics import f1_score"
      ],
      "metadata": {
        "id": "dvhziXcvOv3Y"
      },
      "execution_count": null,
      "outputs": []
    },
    {
      "cell_type": "markdown",
      "source": [
        "Read data"
      ],
      "metadata": {
        "id": "Ca7koFj0Oy3B"
      }
    },
    {
      "cell_type": "code",
      "source": [
        "# Retrieve accuracy\n",
        "with open('train_acc.npy', 'rb') as f:\n",
        "  r_train_acc = np.load(f)\n",
        "with open('test_acc.npy', 'rb') as f:\n",
        "  r_test_acc = np.load(f)\n",
        "\n",
        "# Retrieve confusion matrices\n",
        "with open('train_cm.npy', 'rb') as f:\n",
        "  r_train_cm = np.load(f)\n",
        "with open('test_cm.npy', 'rb') as f:\n",
        "  r_test_cm = np.load(f)\n",
        "\n",
        "# Retrieve y truth and pred\n",
        "with open('test_y_truth.npy', 'rb') as f:\n",
        "  r_y_truth = np.load(f, allow_pickle = True)\n",
        "with open('test_y_pred.npy', 'rb') as f:\n",
        "  r_y_pred = np.load(f, allow_pickle = True)"
      ],
      "metadata": {
        "id": "qm_hs581Oz4w"
      },
      "execution_count": null,
      "outputs": []
    },
    {
      "cell_type": "code",
      "source": [
        "# Normalize confusion matrix\n",
        "def normalize_cm(cm):\n",
        "  norm_cm = np.zeros(cm.shape) # init\n",
        "\n",
        "  num_sbj = cm.shape[0]\n",
        "  num_ex = cm.shape[1]\n",
        "\n",
        "  # Loop through subject with different confusion matrices\n",
        "  for s in range(num_sbj):\n",
        "\n",
        "    # Loop through exercises\n",
        "    for e in range(num_ex):\n",
        "\n",
        "      # Check if there is missing exercise\n",
        "      num_trial = sum(cm[s][e, :])\n",
        "\n",
        "      if num_trial != 0:\n",
        "        norm_cm[s][e, :] = cm[s][e, :]/num_trial\n",
        "      else:\n",
        "        pass # do nothing since the row is already zero\n",
        "\n",
        "  return norm_cm\n",
        "\n",
        "# Average the normalize confusion matrix\n",
        "def get_avg_cm(norm_cm):\n",
        "  num_sbj = norm_cm.shape[0]\n",
        "  num_ex = norm_cm.shape[1]\n",
        "\n",
        "  avg_norm_cm = np.zeros([num_ex, num_ex]) # init\n",
        "  num_trials = np.zeros(num_ex) # store the no. of trials for each exercise\n",
        "\n",
        "  # Loop through subjects\n",
        "  for s in range(num_sbj):\n",
        "     \n",
        "     # Loop through exercises\n",
        "     for e in range(num_ex):\n",
        "\n",
        "      # Check if there is missing trial\n",
        "      if sum(norm_cm[s][e, :]) != 0:\n",
        "        avg_norm_cm[e, :] = avg_norm_cm[e, :] + norm_cm[s][e, :]\n",
        "        num_trials[e] = num_trials[e] + 1\n",
        "      else:\n",
        "        pass\n",
        "\n",
        "  # Compute the average\n",
        "  for e in range(num_ex):\n",
        "    avg_norm_cm[e, :] = avg_norm_cm[e, :]/num_trials[e]\n",
        "\n",
        "  return avg_norm_cm\n",
        "\n",
        "# Get precision, recall, and F1-score (averaged across exercises and subjects) from confusion matrices\n",
        "def get_avg_metrics_from_cm(cm):\n",
        "  precision_mat = np.zeros([19, 37]) # each row is a subject, each column is an exercise\n",
        "  recall_mat = np.zeros([19, 37])\n",
        "  f1_score_mat = np.zeros([19, 37])\n",
        "\n",
        "  num_sbj = cm.shape[0]\n",
        "  num_ex = cm.shape[1]\n",
        "\n",
        "  for s in range(num_sbj):\n",
        "\n",
        "    for e in range(num_ex):\n",
        "      \n",
        "      # Compute precision\n",
        "      if sum(cm[s][:, e]) != 0:\n",
        "        temp_precision = cm[s][e, e] / sum(cm[s][:, e])        \n",
        "      else:\n",
        "        temp_precision = 0\n",
        "      precision_mat[s, e] = temp_precision\n",
        "\n",
        "      # Compute recall\n",
        "      if sum(cm[s][e, :]) != 0:\n",
        "        temp_recall = cm[s][e, e] / sum(cm[s][e, :])\n",
        "      else:\n",
        "        temp_recall = 0\n",
        "      recall_mat[s, e] = temp_recall\n",
        "\n",
        "      # Compute F1-score\n",
        "      if (temp_precision != 0) and (temp_recall != 0):\n",
        "        temp_f1 = 2*(temp_recall*temp_precision)/(temp_recall + temp_precision)\n",
        "      else:\n",
        "        temp_f1 = 0\n",
        "      f1_score_mat[s, e] = temp_f1\n",
        "  \n",
        "  # Average\n",
        "  precision = precision_mat.mean()\n",
        "  recall = recall_mat.mean()\n",
        "  f1 = f1_score_mat.mean()\n",
        "\n",
        "  return precision, recall, f1"
      ],
      "metadata": {
        "id": "mNtYUdSfPTF4"
      },
      "execution_count": null,
      "outputs": []
    },
    {
      "cell_type": "code",
      "source": [
        "norm_train_cm = normalize_cm(r_train_cm)\n",
        "norm_test_cm = normalize_cm(r_test_cm)"
      ],
      "metadata": {
        "id": "MZRwHZOWPWew"
      },
      "execution_count": null,
      "outputs": []
    },
    {
      "cell_type": "code",
      "source": [
        "sbj_list = [2, 3, 4, 5, 6, 7, 8, 9, 10, 11, 12, 14, 15, 16, 17, 18, 19, 21, 22]\n",
        "\n",
        "for i in range(len(r_test_cm)):\n",
        "  plt.figure(i)\n",
        "  sns.heatmap(r_test_cm[i], cmap = 'YlGnBu')\n",
        "  plt.title('S' + str(sbj_list[i]) + ' left for testing')\n",
        "  plt.xlabel('Prediction')\n",
        "  plt.ylabel('Truth')"
      ],
      "metadata": {
        "id": "C1fLGYInPZQo"
      },
      "execution_count": null,
      "outputs": []
    },
    {
      "cell_type": "code",
      "source": [
        "sbj_list = [2, 3, 4, 5, 6, 7, 8, 9, 10, 11, 12, 14, 15, 16, 17, 18, 19, 21, 22]\n",
        "\n",
        "for i in range(len(norm_test_cm)):\n",
        "  plt.figure(i)\n",
        "  sns.heatmap(norm_test_cm[i], cmap = 'YlGnBu')\n",
        "  plt.title('S' + str(sbj_list[i]) + ' left for testing')\n",
        "  plt.xlabel('Prediction')\n",
        "  plt.ylabel('Truth')"
      ],
      "metadata": {
        "id": "2jFgTEjoPZkA"
      },
      "execution_count": null,
      "outputs": []
    },
    {
      "cell_type": "code",
      "source": [
        "avg_norm_cm = get_avg_cm(norm_test_cm)"
      ],
      "metadata": {
        "id": "t_O-TlOUPbn4"
      },
      "execution_count": null,
      "outputs": []
    },
    {
      "cell_type": "code",
      "source": [
        "plt.figure(figsize = (10, 8))\n",
        "sns.heatmap(avg_norm_cm, cmap = 'YlGnBu', vmin = 0, vmax = 1)\n",
        "plt.xlabel('Prediction')\n",
        "plt.ylabel('Truth')"
      ],
      "metadata": {
        "id": "ZwNPeCoaPb0g",
        "colab": {
          "base_uri": "https://localhost:8080/",
          "height": 518
        },
        "outputId": "186c57b5-92ea-4978-a11b-c64ad0d28441"
      },
      "execution_count": null,
      "outputs": [
        {
          "output_type": "execute_result",
          "data": {
            "text/plain": [
              "Text(69.0, 0.5, 'Truth')"
            ]
          },
          "metadata": {},
          "execution_count": 559
        },
        {
          "output_type": "display_data",
          "data": {
            "text/plain": [
              "<Figure size 720x576 with 2 Axes>"
            ],
            "image/png": "[encoded data removed]"
          },
          "metadata": {
            "needs_background": "light"
          }
        }
      ]
    },
    {
      "cell_type": "code",
      "source": [
        "pd.DataFrame(r_train_acc)"
      ],
      "metadata": {
        "id": "6QBd0uefPeCB",
        "colab": {
          "base_uri": "https://localhost:8080/",
          "height": 645
        },
        "outputId": "85077e78-8464-4f17-9b7b-fa2ded43c3d2"
      },
      "execution_count": null,
      "outputs": [
        {
          "output_type": "execute_result",
          "data": {
            "text/plain": [
              "           0\n",
              "0   0.996084\n",
              "1   0.996063\n",
              "2   0.997047\n",
              "3   0.996399\n",
              "4   0.995734\n",
              "5   0.995404\n",
              "6   0.996714\n",
              "7   0.997382\n",
              "8   0.995749\n",
              "9   0.996717\n",
              "10  0.996396\n",
              "11  0.996715\n",
              "12  0.996054\n",
              "13  0.997378\n",
              "14  0.999338\n",
              "15  0.996677\n",
              "16  0.996367\n",
              "17  0.995704\n",
              "18  0.996374"
            ],
            "text/html": [
              "\n",
              "  <div id=\"df-8cb3850a-b6ba-4b45-9aa8-b1b45d1ab6e7\">\n",
              "    <div class=\"colab-df-container\">\n",
              "      <div>\n",
              "<style scoped>\n",
              "    .dataframe tbody tr th:only-of-type {\n",
              "        vertical-align: middle;\n",
              "    }\n",
              "\n",
              "    .dataframe tbody tr th {\n",
              "        vertical-align: top;\n",
              "    }\n",
              "\n",
              "    .dataframe thead th {\n",
              "        text-align: right;\n",
              "    }\n",
              "</style>\n",
              "<table border=\"1\" class=\"dataframe\">\n",
              "  <thead>\n",
              "    <tr style=\"text-align: right;\">\n",
              "      <th></th>\n",
              "      <th>0</th>\n",
              "    </tr>\n",
              "  </thead>\n",
              "  <tbody>\n",
              "    <tr>\n",
              "      <th>0</th>\n",
              "      <td>0.996084</td>\n",
              "    </tr>\n",
              "    <tr>\n",
              "      <th>1</th>\n",
              "      <td>0.996063</td>\n",
              "    </tr>\n",
              "    <tr>\n",
              "      <th>2</th>\n",
              "      <td>0.997047</td>\n",
              "    </tr>\n",
              "    <tr>\n",
              "      <th>3</th>\n",
              "      <td>0.996399</td>\n",
              "    </tr>\n",
              "    <tr>\n",
              "      <th>4</th>\n",
              "      <td>0.995734</td>\n",
              "    </tr>\n",
              "    <tr>\n",
              "      <th>5</th>\n",
              "      <td>0.995404</td>\n",
              "    </tr>\n",
              "    <tr>\n",
              "      <th>6</th>\n",
              "      <td>0.996714</td>\n",
              "    </tr>\n",
              "    <tr>\n",
              "      <th>7</th>\n",
              "      <td>0.997382</td>\n",
              "    </tr>\n",
              "    <tr>\n",
              "      <th>8</th>\n",
              "      <td>0.995749</td>\n",
              "    </tr>\n",
              "    <tr>\n",
              "      <th>9</th>\n",
              "      <td>0.996717</td>\n",
              "    </tr>\n",
              "    <tr>\n",
              "      <th>10</th>\n",
              "      <td>0.996396</td>\n",
              "    </tr>\n",
              "    <tr>\n",
              "      <th>11</th>\n",
              "      <td>0.996715</td>\n",
              "    </tr>\n",
              "    <tr>\n",
              "      <th>12</th>\n",
              "      <td>0.996054</td>\n",
              "    </tr>\n",
              "    <tr>\n",
              "      <th>13</th>\n",
              "      <td>0.997378</td>\n",
              "    </tr>\n",
              "    <tr>\n",
              "      <th>14</th>\n",
              "      <td>0.999338</td>\n",
              "    </tr>\n",
              "    <tr>\n",
              "      <th>15</th>\n",
              "      <td>0.996677</td>\n",
              "    </tr>\n",
              "    <tr>\n",
              "      <th>16</th>\n",
              "      <td>0.996367</td>\n",
              "    </tr>\n",
              "    <tr>\n",
              "      <th>17</th>\n",
              "      <td>0.995704</td>\n",
              "    </tr>\n",
              "    <tr>\n",
              "      <th>18</th>\n",
              "      <td>0.996374</td>\n",
              "    </tr>\n",
              "  </tbody>\n",
              "</table>\n",
              "</div>\n",
              "      <button class=\"colab-df-convert\" onclick=\"convertToInteractive('df-8cb3850a-b6ba-4b45-9aa8-b1b45d1ab6e7')\"\n",
              "              title=\"Convert this dataframe to an interactive table.\"\n",
              "              style=\"display:none;\">\n",
              "        \n",
              "  <svg xmlns=\"http://www.w3.org/2000/svg\" height=\"24px\"viewBox=\"0 0 24 24\"\n",
              "       width=\"24px\">\n",
              "    <path d=\"M0 0h24v24H0V0z\" fill=\"none\"/>\n",
              "    <path d=\"M18.56 5.44l.94 2.06.94-2.06 2.06-.94-2.06-.94-.94-2.06-.94 2.06-2.06.94zm-11 1L8.5 8.5l.94-2.06 2.06-.94-2.06-.94L8.5 2.5l-.94 2.06-2.06.94zm10 10l.94 2.06.94-2.06 2.06-.94-2.06-.94-.94-2.06-.94 2.06-2.06.94z\"/><path d=\"M17.41 7.96l-1.37-1.37c-.4-.4-.92-.59-1.43-.59-.52 0-1.04.2-1.43.59L10.3 9.45l-7.72 7.72c-.78.78-.78 2.05 0 2.83L4 21.41c.39.39.9.59 1.41.59.51 0 1.02-.2 1.41-.59l7.78-7.78 2.81-2.81c.8-.78.8-2.07 0-2.86zM5.41 20L4 18.59l7.72-7.72 1.47 1.35L5.41 20z\"/>\n",
              "  </svg>\n",
              "      </button>\n",
              "      \n",
              "  <style>\n",
              "    .colab-df-container {\n",
              "      display:flex;\n",
              "      flex-wrap:wrap;\n",
              "      gap: 12px;\n",
              "    }\n",
              "\n",
              "    .colab-df-convert {\n",
              "      background-color: #E8F0FE;\n",
              "      border: none;\n",
              "      border-radius: 50%;\n",
              "      cursor: pointer;\n",
              "      display: none;\n",
              "      fill: #1967D2;\n",
              "      height: 32px;\n",
              "      padding: 0 0 0 0;\n",
              "      width: 32px;\n",
              "    }\n",
              "\n",
              "    .colab-df-convert:hover {\n",
              "      background-color: #E2EBFA;\n",
              "      box-shadow: 0px 1px 2px rgba(60, 64, 67, 0.3), 0px 1px 3px 1px rgba(60, 64, 67, 0.15);\n",
              "      fill: #174EA6;\n",
              "    }\n",
              "\n",
              "    [theme=dark] .colab-df-convert {\n",
              "      background-color: #3B4455;\n",
              "      fill: #D2E3FC;\n",
              "    }\n",
              "\n",
              "    [theme=dark] .colab-df-convert:hover {\n",
              "      background-color: #434B5C;\n",
              "      box-shadow: 0px 1px 3px 1px rgba(0, 0, 0, 0.15);\n",
              "      filter: drop-shadow(0px 1px 2px rgba(0, 0, 0, 0.3));\n",
              "      fill: #FFFFFF;\n",
              "    }\n",
              "  </style>\n",
              "\n",
              "      <script>\n",
              "        const buttonEl =\n",
              "          document.querySelector('#df-8cb3850a-b6ba-4b45-9aa8-b1b45d1ab6e7 button.colab-df-convert');\n",
              "        buttonEl.style.display =\n",
              "          google.colab.kernel.accessAllowed ? 'block' : 'none';\n",
              "\n",
              "        async function convertToInteractive(key) {\n",
              "          const element = document.querySelector('#df-8cb3850a-b6ba-4b45-9aa8-b1b45d1ab6e7');\n",
              "          const dataTable =\n",
              "            await google.colab.kernel.invokeFunction('convertToInteractive',\n",
              "                                                     [key], {});\n",
              "          if (!dataTable) return;\n",
              "\n",
              "          const docLinkHtml = 'Like what you see? Visit the ' +\n",
              "            '<a target=\"_blank\" href=https://colab.research.google.com/notebooks/data_table.ipynb>data table notebook</a>'\n",
              "            + ' to learn more about interactive tables.';\n",
              "          element.innerHTML = '';\n",
              "          dataTable['output_type'] = 'display_data';\n",
              "          await google.colab.output.renderOutput(dataTable, element);\n",
              "          const docLink = document.createElement('div');\n",
              "          docLink.innerHTML = docLinkHtml;\n",
              "          element.appendChild(docLink);\n",
              "        }\n",
              "      </script>\n",
              "    </div>\n",
              "  </div>\n",
              "  "
            ]
          },
          "metadata": {},
          "execution_count": 560
        }
      ]
    },
    {
      "cell_type": "code",
      "source": [
        "pd.DataFrame(r_test_acc)"
      ],
      "metadata": {
        "id": "1qVPnB5pPeMQ",
        "colab": {
          "base_uri": "https://localhost:8080/",
          "height": 645
        },
        "outputId": "ff67a6d9-0c12-425e-9ae9-cd88ccbe8345"
      },
      "execution_count": null,
      "outputs": [
        {
          "output_type": "execute_result",
          "data": {
            "text/plain": [
              "           0\n",
              "0   0.945946\n",
              "1   0.926829\n",
              "2   0.939024\n",
              "3   0.929936\n",
              "4   0.763636\n",
              "5   0.957831\n",
              "6   0.964497\n",
              "7   0.871795\n",
              "8   0.909091\n",
              "9   0.819277\n",
              "10  0.975000\n",
              "11  0.875000\n",
              "12  0.888889\n",
              "13  0.906832\n",
              "14  0.796875\n",
              "15  0.896552\n",
              "16  0.934783\n",
              "17  0.940860\n",
              "18  0.943820"
            ],
            "text/html": [
              "\n",
              "  <div id=\"df-ffb276b8-62cd-451f-b8d0-e03527d95eed\">\n",
              "    <div class=\"colab-df-container\">\n",
              "      <div>\n",
              "<style scoped>\n",
              "    .dataframe tbody tr th:only-of-type {\n",
              "        vertical-align: middle;\n",
              "    }\n",
              "\n",
              "    .dataframe tbody tr th {\n",
              "        vertical-align: top;\n",
              "    }\n",
              "\n",
              "    .dataframe thead th {\n",
              "        text-align: right;\n",
              "    }\n",
              "</style>\n",
              "<table border=\"1\" class=\"dataframe\">\n",
              "  <thead>\n",
              "    <tr style=\"text-align: right;\">\n",
              "      <th></th>\n",
              "      <th>0</th>\n",
              "    </tr>\n",
              "  </thead>\n",
              "  <tbody>\n",
              "    <tr>\n",
              "      <th>0</th>\n",
              "      <td>0.945946</td>\n",
              "    </tr>\n",
              "    <tr>\n",
              "      <th>1</th>\n",
              "      <td>0.926829</td>\n",
              "    </tr>\n",
              "    <tr>\n",
              "      <th>2</th>\n",
              "      <td>0.939024</td>\n",
              "    </tr>\n",
              "    <tr>\n",
              "      <th>3</th>\n",
              "      <td>0.929936</td>\n",
              "    </tr>\n",
              "    <tr>\n",
              "      <th>4</th>\n",
              "      <td>0.763636</td>\n",
              "    </tr>\n",
              "    <tr>\n",
              "      <th>5</th>\n",
              "      <td>0.957831</td>\n",
              "    </tr>\n",
              "    <tr>\n",
              "      <th>6</th>\n",
              "      <td>0.964497</td>\n",
              "    </tr>\n",
              "    <tr>\n",
              "      <th>7</th>\n",
              "      <td>0.871795</td>\n",
              "    </tr>\n",
              "    <tr>\n",
              "      <th>8</th>\n",
              "      <td>0.909091</td>\n",
              "    </tr>\n",
              "    <tr>\n",
              "      <th>9</th>\n",
              "      <td>0.819277</td>\n",
              "    </tr>\n",
              "    <tr>\n",
              "      <th>10</th>\n",
              "      <td>0.975000</td>\n",
              "    </tr>\n",
              "    <tr>\n",
              "      <th>11</th>\n",
              "      <td>0.875000</td>\n",
              "    </tr>\n",
              "    <tr>\n",
              "      <th>12</th>\n",
              "      <td>0.888889</td>\n",
              "    </tr>\n",
              "    <tr>\n",
              "      <th>13</th>\n",
              "      <td>0.906832</td>\n",
              "    </tr>\n",
              "    <tr>\n",
              "      <th>14</th>\n",
              "      <td>0.796875</td>\n",
              "    </tr>\n",
              "    <tr>\n",
              "      <th>15</th>\n",
              "      <td>0.896552</td>\n",
              "    </tr>\n",
              "    <tr>\n",
              "      <th>16</th>\n",
              "      <td>0.934783</td>\n",
              "    </tr>\n",
              "    <tr>\n",
              "      <th>17</th>\n",
              "      <td>0.940860</td>\n",
              "    </tr>\n",
              "    <tr>\n",
              "      <th>18</th>\n",
              "      <td>0.943820</td>\n",
              "    </tr>\n",
              "  </tbody>\n",
              "</table>\n",
              "</div>\n",
              "      <button class=\"colab-df-convert\" onclick=\"convertToInteractive('df-ffb276b8-62cd-451f-b8d0-e03527d95eed')\"\n",
              "              title=\"Convert this dataframe to an interactive table.\"\n",
              "              style=\"display:none;\">\n",
              "        \n",
              "  <svg xmlns=\"http://www.w3.org/2000/svg\" height=\"24px\"viewBox=\"0 0 24 24\"\n",
              "       width=\"24px\">\n",
              "    <path d=\"M0 0h24v24H0V0z\" fill=\"none\"/>\n",
              "    <path d=\"M18.56 5.44l.94 2.06.94-2.06 2.06-.94-2.06-.94-.94-2.06-.94 2.06-2.06.94zm-11 1L8.5 8.5l.94-2.06 2.06-.94-2.06-.94L8.5 2.5l-.94 2.06-2.06.94zm10 10l.94 2.06.94-2.06 2.06-.94-2.06-.94-.94-2.06-.94 2.06-2.06.94z\"/><path d=\"M17.41 7.96l-1.37-1.37c-.4-.4-.92-.59-1.43-.59-.52 0-1.04.2-1.43.59L10.3 9.45l-7.72 7.72c-.78.78-.78 2.05 0 2.83L4 21.41c.39.39.9.59 1.41.59.51 0 1.02-.2 1.41-.59l7.78-7.78 2.81-2.81c.8-.78.8-2.07 0-2.86zM5.41 20L4 18.59l7.72-7.72 1.47 1.35L5.41 20z\"/>\n",
              "  </svg>\n",
              "      </button>\n",
              "      \n",
              "  <style>\n",
              "    .colab-df-container {\n",
              "      display:flex;\n",
              "      flex-wrap:wrap;\n",
              "      gap: 12px;\n",
              "    }\n",
              "\n",
              "    .colab-df-convert {\n",
              "      background-color: #E8F0FE;\n",
              "      border: none;\n",
              "      border-radius: 50%;\n",
              "      cursor: pointer;\n",
              "      display: none;\n",
              "      fill: #1967D2;\n",
              "      height: 32px;\n",
              "      padding: 0 0 0 0;\n",
              "      width: 32px;\n",
              "    }\n",
              "\n",
              "    .colab-df-convert:hover {\n",
              "      background-color: #E2EBFA;\n",
              "      box-shadow: 0px 1px 2px rgba(60, 64, 67, 0.3), 0px 1px 3px 1px rgba(60, 64, 67, 0.15);\n",
              "      fill: #174EA6;\n",
              "    }\n",
              "\n",
              "    [theme=dark] .colab-df-convert {\n",
              "      background-color: #3B4455;\n",
              "      fill: #D2E3FC;\n",
              "    }\n",
              "\n",
              "    [theme=dark] .colab-df-convert:hover {\n",
              "      background-color: #434B5C;\n",
              "      box-shadow: 0px 1px 3px 1px rgba(0, 0, 0, 0.15);\n",
              "      filter: drop-shadow(0px 1px 2px rgba(0, 0, 0, 0.3));\n",
              "      fill: #FFFFFF;\n",
              "    }\n",
              "  </style>\n",
              "\n",
              "      <script>\n",
              "        const buttonEl =\n",
              "          document.querySelector('#df-ffb276b8-62cd-451f-b8d0-e03527d95eed button.colab-df-convert');\n",
              "        buttonEl.style.display =\n",
              "          google.colab.kernel.accessAllowed ? 'block' : 'none';\n",
              "\n",
              "        async function convertToInteractive(key) {\n",
              "          const element = document.querySelector('#df-ffb276b8-62cd-451f-b8d0-e03527d95eed');\n",
              "          const dataTable =\n",
              "            await google.colab.kernel.invokeFunction('convertToInteractive',\n",
              "                                                     [key], {});\n",
              "          if (!dataTable) return;\n",
              "\n",
              "          const docLinkHtml = 'Like what you see? Visit the ' +\n",
              "            '<a target=\"_blank\" href=https://colab.research.google.com/notebooks/data_table.ipynb>data table notebook</a>'\n",
              "            + ' to learn more about interactive tables.';\n",
              "          element.innerHTML = '';\n",
              "          dataTable['output_type'] = 'display_data';\n",
              "          await google.colab.output.renderOutput(dataTable, element);\n",
              "          const docLink = document.createElement('div');\n",
              "          docLink.innerHTML = docLinkHtml;\n",
              "          element.appendChild(docLink);\n",
              "        }\n",
              "      </script>\n",
              "    </div>\n",
              "  </div>\n",
              "  "
            ]
          },
          "metadata": {},
          "execution_count": 561
        }
      ]
    },
    {
      "cell_type": "markdown",
      "source": [
        "Get precision, recall, and F1-score"
      ],
      "metadata": {
        "id": "9rqr0V_xPliQ"
      }
    },
    {
      "cell_type": "code",
      "source": [
        "# Precision\n",
        "precision_arr = []\n",
        "for i in range(19):\n",
        "  precision_arr.append(precision_score(r_y_truth[i], r_y_pred[i], average = 'macro'))\n",
        "\n",
        "pd.DataFrame(precision_arr)"
      ],
      "metadata": {
        "id": "dCk7KK2lPncN",
        "colab": {
          "base_uri": "https://localhost:8080/",
          "height": 645
        },
        "outputId": "20058b83-f49c-4a7a-9820-73b7fb8e74b1"
      },
      "execution_count": null,
      "outputs": [
        {
          "output_type": "execute_result",
          "data": {
            "text/plain": [
              "           0\n",
              "0   0.924099\n",
              "1   0.933333\n",
              "2   0.911550\n",
              "3   0.923418\n",
              "4   0.642529\n",
              "5   0.929239\n",
              "6   0.950216\n",
              "7   0.888337\n",
              "8   0.882573\n",
              "9   0.771975\n",
              "10  0.954464\n",
              "11  0.852703\n",
              "12  0.851974\n",
              "13  0.891926\n",
              "14  0.803730\n",
              "15  0.908227\n",
              "16  0.958831\n",
              "17  0.952081\n",
              "18  0.927363"
            ],
            "text/html": [
              "\n",
              "  <div id=\"df-fabd40ff-53cd-4a79-997b-307b91d9fd78\">\n",
              "    <div class=\"colab-df-container\">\n",
              "      <div>\n",
              "<style scoped>\n",
              "    .dataframe tbody tr th:only-of-type {\n",
              "        vertical-align: middle;\n",
              "    }\n",
              "\n",
              "    .dataframe tbody tr th {\n",
              "        vertical-align: top;\n",
              "    }\n",
              "\n",
              "    .dataframe thead th {\n",
              "        text-align: right;\n",
              "    }\n",
              "</style>\n",
              "<table border=\"1\" class=\"dataframe\">\n",
              "  <thead>\n",
              "    <tr style=\"text-align: right;\">\n",
              "      <th></th>\n",
              "      <th>0</th>\n",
              "    </tr>\n",
              "  </thead>\n",
              "  <tbody>\n",
              "    <tr>\n",
              "      <th>0</th>\n",
              "      <td>0.924099</td>\n",
              "    </tr>\n",
              "    <tr>\n",
              "      <th>1</th>\n",
              "      <td>0.933333</td>\n",
              "    </tr>\n",
              "    <tr>\n",
              "      <th>2</th>\n",
              "      <td>0.911550</td>\n",
              "    </tr>\n",
              "    <tr>\n",
              "      <th>3</th>\n",
              "      <td>0.923418</td>\n",
              "    </tr>\n",
              "    <tr>\n",
              "      <th>4</th>\n",
              "      <td>0.642529</td>\n",
              "    </tr>\n",
              "    <tr>\n",
              "      <th>5</th>\n",
              "      <td>0.929239</td>\n",
              "    </tr>\n",
              "    <tr>\n",
              "      <th>6</th>\n",
              "      <td>0.950216</td>\n",
              "    </tr>\n",
              "    <tr>\n",
              "      <th>7</th>\n",
              "      <td>0.888337</td>\n",
              "    </tr>\n",
              "    <tr>\n",
              "      <th>8</th>\n",
              "      <td>0.882573</td>\n",
              "    </tr>\n",
              "    <tr>\n",
              "      <th>9</th>\n",
              "      <td>0.771975</td>\n",
              "    </tr>\n",
              "    <tr>\n",
              "      <th>10</th>\n",
              "      <td>0.954464</td>\n",
              "    </tr>\n",
              "    <tr>\n",
              "      <th>11</th>\n",
              "      <td>0.852703</td>\n",
              "    </tr>\n",
              "    <tr>\n",
              "      <th>12</th>\n",
              "      <td>0.851974</td>\n",
              "    </tr>\n",
              "    <tr>\n",
              "      <th>13</th>\n",
              "      <td>0.891926</td>\n",
              "    </tr>\n",
              "    <tr>\n",
              "      <th>14</th>\n",
              "      <td>0.803730</td>\n",
              "    </tr>\n",
              "    <tr>\n",
              "      <th>15</th>\n",
              "      <td>0.908227</td>\n",
              "    </tr>\n",
              "    <tr>\n",
              "      <th>16</th>\n",
              "      <td>0.958831</td>\n",
              "    </tr>\n",
              "    <tr>\n",
              "      <th>17</th>\n",
              "      <td>0.952081</td>\n",
              "    </tr>\n",
              "    <tr>\n",
              "      <th>18</th>\n",
              "      <td>0.927363</td>\n",
              "    </tr>\n",
              "  </tbody>\n",
              "</table>\n",
              "</div>\n",
              "      <button class=\"colab-df-convert\" onclick=\"convertToInteractive('df-fabd40ff-53cd-4a79-997b-307b91d9fd78')\"\n",
              "              title=\"Convert this dataframe to an interactive table.\"\n",
              "              style=\"display:none;\">\n",
              "        \n",
              "  <svg xmlns=\"http://www.w3.org/2000/svg\" height=\"24px\"viewBox=\"0 0 24 24\"\n",
              "       width=\"24px\">\n",
              "    <path d=\"M0 0h24v24H0V0z\" fill=\"none\"/>\n",
              "    <path d=\"M18.56 5.44l.94 2.06.94-2.06 2.06-.94-2.06-.94-.94-2.06-.94 2.06-2.06.94zm-11 1L8.5 8.5l.94-2.06 2.06-.94-2.06-.94L8.5 2.5l-.94 2.06-2.06.94zm10 10l.94 2.06.94-2.06 2.06-.94-2.06-.94-.94-2.06-.94 2.06-2.06.94z\"/><path d=\"M17.41 7.96l-1.37-1.37c-.4-.4-.92-.59-1.43-.59-.52 0-1.04.2-1.43.59L10.3 9.45l-7.72 7.72c-.78.78-.78 2.05 0 2.83L4 21.41c.39.39.9.59 1.41.59.51 0 1.02-.2 1.41-.59l7.78-7.78 2.81-2.81c.8-.78.8-2.07 0-2.86zM5.41 20L4 18.59l7.72-7.72 1.47 1.35L5.41 20z\"/>\n",
              "  </svg>\n",
              "      </button>\n",
              "      \n",
              "  <style>\n",
              "    .colab-df-container {\n",
              "      display:flex;\n",
              "      flex-wrap:wrap;\n",
              "      gap: 12px;\n",
              "    }\n",
              "\n",
              "    .colab-df-convert {\n",
              "      background-color: #E8F0FE;\n",
              "      border: none;\n",
              "      border-radius: 50%;\n",
              "      cursor: pointer;\n",
              "      display: none;\n",
              "      fill: #1967D2;\n",
              "      height: 32px;\n",
              "      padding: 0 0 0 0;\n",
              "      width: 32px;\n",
              "    }\n",
              "\n",
              "    .colab-df-convert:hover {\n",
              "      background-color: #E2EBFA;\n",
              "      box-shadow: 0px 1px 2px rgba(60, 64, 67, 0.3), 0px 1px 3px 1px rgba(60, 64, 67, 0.15);\n",
              "      fill: #174EA6;\n",
              "    }\n",
              "\n",
              "    [theme=dark] .colab-df-convert {\n",
              "      background-color: #3B4455;\n",
              "      fill: #D2E3FC;\n",
              "    }\n",
              "\n",
              "    [theme=dark] .colab-df-convert:hover {\n",
              "      background-color: #434B5C;\n",
              "      box-shadow: 0px 1px 3px 1px rgba(0, 0, 0, 0.15);\n",
              "      filter: drop-shadow(0px 1px 2px rgba(0, 0, 0, 0.3));\n",
              "      fill: #FFFFFF;\n",
              "    }\n",
              "  </style>\n",
              "\n",
              "      <script>\n",
              "        const buttonEl =\n",
              "          document.querySelector('#df-fabd40ff-53cd-4a79-997b-307b91d9fd78 button.colab-df-convert');\n",
              "        buttonEl.style.display =\n",
              "          google.colab.kernel.accessAllowed ? 'block' : 'none';\n",
              "\n",
              "        async function convertToInteractive(key) {\n",
              "          const element = document.querySelector('#df-fabd40ff-53cd-4a79-997b-307b91d9fd78');\n",
              "          const dataTable =\n",
              "            await google.colab.kernel.invokeFunction('convertToInteractive',\n",
              "                                                     [key], {});\n",
              "          if (!dataTable) return;\n",
              "\n",
              "          const docLinkHtml = 'Like what you see? Visit the ' +\n",
              "            '<a target=\"_blank\" href=https://colab.research.google.com/notebooks/data_table.ipynb>data table notebook</a>'\n",
              "            + ' to learn more about interactive tables.';\n",
              "          element.innerHTML = '';\n",
              "          dataTable['output_type'] = 'display_data';\n",
              "          await google.colab.output.renderOutput(dataTable, element);\n",
              "          const docLink = document.createElement('div');\n",
              "          docLink.innerHTML = docLinkHtml;\n",
              "          element.appendChild(docLink);\n",
              "        }\n",
              "      </script>\n",
              "    </div>\n",
              "  </div>\n",
              "  "
            ]
          },
          "metadata": {},
          "execution_count": 562
        }
      ]
    },
    {
      "cell_type": "code",
      "source": [
        "# Recall\n",
        "recall_arr = []\n",
        "for i in range(19):\n",
        "  recall_arr.append(recall_score(r_y_truth[i], r_y_pred[i], average = 'macro'))\n",
        "\n",
        "pd.DataFrame(recall_arr)"
      ],
      "metadata": {
        "id": "GD6hBrY_Pp3o",
        "colab": {
          "base_uri": "https://localhost:8080/",
          "height": 645
        },
        "outputId": "dd4e7f5b-ada7-46fb-9be9-cacc6a7bcbdf"
      },
      "execution_count": null,
      "outputs": [
        {
          "output_type": "execute_result",
          "data": {
            "text/plain": [
              "           0\n",
              "0   0.954183\n",
              "1   0.881786\n",
              "2   0.950321\n",
              "3   0.902406\n",
              "4   0.728869\n",
              "5   0.977468\n",
              "6   0.955909\n",
              "7   0.913483\n",
              "8   0.847429\n",
              "9   0.737814\n",
              "10  0.978011\n",
              "11  0.829800\n",
              "12  0.840110\n",
              "13  0.914762\n",
              "14  0.774086\n",
              "15  0.903007\n",
              "16  0.920438\n",
              "17  0.936289\n",
              "18  0.949020"
            ],
            "text/html": [
              "\n",
              "  <div id=\"df-7d4e1fdd-4027-4f89-a589-b335eb3024af\">\n",
              "    <div class=\"colab-df-container\">\n",
              "      <div>\n",
              "<style scoped>\n",
              "    .dataframe tbody tr th:only-of-type {\n",
              "        vertical-align: middle;\n",
              "    }\n",
              "\n",
              "    .dataframe tbody tr th {\n",
              "        vertical-align: top;\n",
              "    }\n",
              "\n",
              "    .dataframe thead th {\n",
              "        text-align: right;\n",
              "    }\n",
              "</style>\n",
              "<table border=\"1\" class=\"dataframe\">\n",
              "  <thead>\n",
              "    <tr style=\"text-align: right;\">\n",
              "      <th></th>\n",
              "      <th>0</th>\n",
              "    </tr>\n",
              "  </thead>\n",
              "  <tbody>\n",
              "    <tr>\n",
              "      <th>0</th>\n",
              "      <td>0.954183</td>\n",
              "    </tr>\n",
              "    <tr>\n",
              "      <th>1</th>\n",
              "      <td>0.881786</td>\n",
              "    </tr>\n",
              "    <tr>\n",
              "      <th>2</th>\n",
              "      <td>0.950321</td>\n",
              "    </tr>\n",
              "    <tr>\n",
              "      <th>3</th>\n",
              "      <td>0.902406</td>\n",
              "    </tr>\n",
              "    <tr>\n",
              "      <th>4</th>\n",
              "      <td>0.728869</td>\n",
              "    </tr>\n",
              "    <tr>\n",
              "      <th>5</th>\n",
              "      <td>0.977468</td>\n",
              "    </tr>\n",
              "    <tr>\n",
              "      <th>6</th>\n",
              "      <td>0.955909</td>\n",
              "    </tr>\n",
              "    <tr>\n",
              "      <th>7</th>\n",
              "      <td>0.913483</td>\n",
              "    </tr>\n",
              "    <tr>\n",
              "      <th>8</th>\n",
              "      <td>0.847429</td>\n",
              "    </tr>\n",
              "    <tr>\n",
              "      <th>9</th>\n",
              "      <td>0.737814</td>\n",
              "    </tr>\n",
              "    <tr>\n",
              "      <th>10</th>\n",
              "      <td>0.978011</td>\n",
              "    </tr>\n",
              "    <tr>\n",
              "      <th>11</th>\n",
              "      <td>0.829800</td>\n",
              "    </tr>\n",
              "    <tr>\n",
              "      <th>12</th>\n",
              "      <td>0.840110</td>\n",
              "    </tr>\n",
              "    <tr>\n",
              "      <th>13</th>\n",
              "      <td>0.914762</td>\n",
              "    </tr>\n",
              "    <tr>\n",
              "      <th>14</th>\n",
              "      <td>0.774086</td>\n",
              "    </tr>\n",
              "    <tr>\n",
              "      <th>15</th>\n",
              "      <td>0.903007</td>\n",
              "    </tr>\n",
              "    <tr>\n",
              "      <th>16</th>\n",
              "      <td>0.920438</td>\n",
              "    </tr>\n",
              "    <tr>\n",
              "      <th>17</th>\n",
              "      <td>0.936289</td>\n",
              "    </tr>\n",
              "    <tr>\n",
              "      <th>18</th>\n",
              "      <td>0.949020</td>\n",
              "    </tr>\n",
              "  </tbody>\n",
              "</table>\n",
              "</div>\n",
              "      <button class=\"colab-df-convert\" onclick=\"convertToInteractive('df-7d4e1fdd-4027-4f89-a589-b335eb3024af')\"\n",
              "              title=\"Convert this dataframe to an interactive table.\"\n",
              "              style=\"display:none;\">\n",
              "        \n",
              "  <svg xmlns=\"http://www.w3.org/2000/svg\" height=\"24px\"viewBox=\"0 0 24 24\"\n",
              "       width=\"24px\">\n",
              "    <path d=\"M0 0h24v24H0V0z\" fill=\"none\"/>\n",
              "    <path d=\"M18.56 5.44l.94 2.06.94-2.06 2.06-.94-2.06-.94-.94-2.06-.94 2.06-2.06.94zm-11 1L8.5 8.5l.94-2.06 2.06-.94-2.06-.94L8.5 2.5l-.94 2.06-2.06.94zm10 10l.94 2.06.94-2.06 2.06-.94-2.06-.94-.94-2.06-.94 2.06-2.06.94z\"/><path d=\"M17.41 7.96l-1.37-1.37c-.4-.4-.92-.59-1.43-.59-.52 0-1.04.2-1.43.59L10.3 9.45l-7.72 7.72c-.78.78-.78 2.05 0 2.83L4 21.41c.39.39.9.59 1.41.59.51 0 1.02-.2 1.41-.59l7.78-7.78 2.81-2.81c.8-.78.8-2.07 0-2.86zM5.41 20L4 18.59l7.72-7.72 1.47 1.35L5.41 20z\"/>\n",
              "  </svg>\n",
              "      </button>\n",
              "      \n",
              "  <style>\n",
              "    .colab-df-container {\n",
              "      display:flex;\n",
              "      flex-wrap:wrap;\n",
              "      gap: 12px;\n",
              "    }\n",
              "\n",
              "    .colab-df-convert {\n",
              "      background-color: #E8F0FE;\n",
              "      border: none;\n",
              "      border-radius: 50%;\n",
              "      cursor: pointer;\n",
              "      display: none;\n",
              "      fill: #1967D2;\n",
              "      height: 32px;\n",
              "      padding: 0 0 0 0;\n",
              "      width: 32px;\n",
              "    }\n",
              "\n",
              "    .colab-df-convert:hover {\n",
              "      background-color: #E2EBFA;\n",
              "      box-shadow: 0px 1px 2px rgba(60, 64, 67, 0.3), 0px 1px 3px 1px rgba(60, 64, 67, 0.15);\n",
              "      fill: #174EA6;\n",
              "    }\n",
              "\n",
              "    [theme=dark] .colab-df-convert {\n",
              "      background-color: #3B4455;\n",
              "      fill: #D2E3FC;\n",
              "    }\n",
              "\n",
              "    [theme=dark] .colab-df-convert:hover {\n",
              "      background-color: #434B5C;\n",
              "      box-shadow: 0px 1px 3px 1px rgba(0, 0, 0, 0.15);\n",
              "      filter: drop-shadow(0px 1px 2px rgba(0, 0, 0, 0.3));\n",
              "      fill: #FFFFFF;\n",
              "    }\n",
              "  </style>\n",
              "\n",
              "      <script>\n",
              "        const buttonEl =\n",
              "          document.querySelector('#df-7d4e1fdd-4027-4f89-a589-b335eb3024af button.colab-df-convert');\n",
              "        buttonEl.style.display =\n",
              "          google.colab.kernel.accessAllowed ? 'block' : 'none';\n",
              "\n",
              "        async function convertToInteractive(key) {\n",
              "          const element = document.querySelector('#df-7d4e1fdd-4027-4f89-a589-b335eb3024af');\n",
              "          const dataTable =\n",
              "            await google.colab.kernel.invokeFunction('convertToInteractive',\n",
              "                                                     [key], {});\n",
              "          if (!dataTable) return;\n",
              "\n",
              "          const docLinkHtml = 'Like what you see? Visit the ' +\n",
              "            '<a target=\"_blank\" href=https://colab.research.google.com/notebooks/data_table.ipynb>data table notebook</a>'\n",
              "            + ' to learn more about interactive tables.';\n",
              "          element.innerHTML = '';\n",
              "          dataTable['output_type'] = 'display_data';\n",
              "          await google.colab.output.renderOutput(dataTable, element);\n",
              "          const docLink = document.createElement('div');\n",
              "          docLink.innerHTML = docLinkHtml;\n",
              "          element.appendChild(docLink);\n",
              "        }\n",
              "      </script>\n",
              "    </div>\n",
              "  </div>\n",
              "  "
            ]
          },
          "metadata": {},
          "execution_count": 563
        }
      ]
    },
    {
      "cell_type": "code",
      "source": [
        "# F1-score\n",
        "f1_arr = []\n",
        "\n",
        "for i in range(19):\n",
        "  f1_arr.append(f1_score(r_y_truth[i], r_y_pred[i], average = 'macro'))\n",
        "\n",
        "pd.DataFrame(f1_arr)"
      ],
      "metadata": {
        "id": "d8S3L4FMPrVA",
        "colab": {
          "base_uri": "https://localhost:8080/",
          "height": 645
        },
        "outputId": "3dca0377-5ca6-4ca4-a685-587589ad4fef"
      },
      "execution_count": null,
      "outputs": [
        {
          "output_type": "execute_result",
          "data": {
            "text/plain": [
              "           0\n",
              "0   0.934845\n",
              "1   0.887466\n",
              "2   0.923484\n",
              "3   0.911410\n",
              "4   0.668196\n",
              "5   0.948676\n",
              "6   0.951943\n",
              "7   0.896981\n",
              "8   0.842663\n",
              "9   0.728359\n",
              "10  0.963008\n",
              "11  0.831278\n",
              "12  0.836435\n",
              "13  0.898165\n",
              "14  0.760684\n",
              "15  0.888752\n",
              "16  0.935767\n",
              "17  0.943176\n",
              "18  0.935111"
            ],
            "text/html": [
              "\n",
              "  <div id=\"df-9e70779f-01dc-4ce5-9287-def921bd3b0b\">\n",
              "    <div class=\"colab-df-container\">\n",
              "      <div>\n",
              "<style scoped>\n",
              "    .dataframe tbody tr th:only-of-type {\n",
              "        vertical-align: middle;\n",
              "    }\n",
              "\n",
              "    .dataframe tbody tr th {\n",
              "        vertical-align: top;\n",
              "    }\n",
              "\n",
              "    .dataframe thead th {\n",
              "        text-align: right;\n",
              "    }\n",
              "</style>\n",
              "<table border=\"1\" class=\"dataframe\">\n",
              "  <thead>\n",
              "    <tr style=\"text-align: right;\">\n",
              "      <th></th>\n",
              "      <th>0</th>\n",
              "    </tr>\n",
              "  </thead>\n",
              "  <tbody>\n",
              "    <tr>\n",
              "      <th>0</th>\n",
              "      <td>0.934845</td>\n",
              "    </tr>\n",
              "    <tr>\n",
              "      <th>1</th>\n",
              "      <td>0.887466</td>\n",
              "    </tr>\n",
              "    <tr>\n",
              "      <th>2</th>\n",
              "      <td>0.923484</td>\n",
              "    </tr>\n",
              "    <tr>\n",
              "      <th>3</th>\n",
              "      <td>0.911410</td>\n",
              "    </tr>\n",
              "    <tr>\n",
              "      <th>4</th>\n",
              "      <td>0.668196</td>\n",
              "    </tr>\n",
              "    <tr>\n",
              "      <th>5</th>\n",
              "      <td>0.948676</td>\n",
              "    </tr>\n",
              "    <tr>\n",
              "      <th>6</th>\n",
              "      <td>0.951943</td>\n",
              "    </tr>\n",
              "    <tr>\n",
              "      <th>7</th>\n",
              "      <td>0.896981</td>\n",
              "    </tr>\n",
              "    <tr>\n",
              "      <th>8</th>\n",
              "      <td>0.842663</td>\n",
              "    </tr>\n",
              "    <tr>\n",
              "      <th>9</th>\n",
              "      <td>0.728359</td>\n",
              "    </tr>\n",
              "    <tr>\n",
              "      <th>10</th>\n",
              "      <td>0.963008</td>\n",
              "    </tr>\n",
              "    <tr>\n",
              "      <th>11</th>\n",
              "      <td>0.831278</td>\n",
              "    </tr>\n",
              "    <tr>\n",
              "      <th>12</th>\n",
              "      <td>0.836435</td>\n",
              "    </tr>\n",
              "    <tr>\n",
              "      <th>13</th>\n",
              "      <td>0.898165</td>\n",
              "    </tr>\n",
              "    <tr>\n",
              "      <th>14</th>\n",
              "      <td>0.760684</td>\n",
              "    </tr>\n",
              "    <tr>\n",
              "      <th>15</th>\n",
              "      <td>0.888752</td>\n",
              "    </tr>\n",
              "    <tr>\n",
              "      <th>16</th>\n",
              "      <td>0.935767</td>\n",
              "    </tr>\n",
              "    <tr>\n",
              "      <th>17</th>\n",
              "      <td>0.943176</td>\n",
              "    </tr>\n",
              "    <tr>\n",
              "      <th>18</th>\n",
              "      <td>0.935111</td>\n",
              "    </tr>\n",
              "  </tbody>\n",
              "</table>\n",
              "</div>\n",
              "      <button class=\"colab-df-convert\" onclick=\"convertToInteractive('df-9e70779f-01dc-4ce5-9287-def921bd3b0b')\"\n",
              "              title=\"Convert this dataframe to an interactive table.\"\n",
              "              style=\"display:none;\">\n",
              "        \n",
              "  <svg xmlns=\"http://www.w3.org/2000/svg\" height=\"24px\"viewBox=\"0 0 24 24\"\n",
              "       width=\"24px\">\n",
              "    <path d=\"M0 0h24v24H0V0z\" fill=\"none\"/>\n",
              "    <path d=\"M18.56 5.44l.94 2.06.94-2.06 2.06-.94-2.06-.94-.94-2.06-.94 2.06-2.06.94zm-11 1L8.5 8.5l.94-2.06 2.06-.94-2.06-.94L8.5 2.5l-.94 2.06-2.06.94zm10 10l.94 2.06.94-2.06 2.06-.94-2.06-.94-.94-2.06-.94 2.06-2.06.94z\"/><path d=\"M17.41 7.96l-1.37-1.37c-.4-.4-.92-.59-1.43-.59-.52 0-1.04.2-1.43.59L10.3 9.45l-7.72 7.72c-.78.78-.78 2.05 0 2.83L4 21.41c.39.39.9.59 1.41.59.51 0 1.02-.2 1.41-.59l7.78-7.78 2.81-2.81c.8-.78.8-2.07 0-2.86zM5.41 20L4 18.59l7.72-7.72 1.47 1.35L5.41 20z\"/>\n",
              "  </svg>\n",
              "      </button>\n",
              "      \n",
              "  <style>\n",
              "    .colab-df-container {\n",
              "      display:flex;\n",
              "      flex-wrap:wrap;\n",
              "      gap: 12px;\n",
              "    }\n",
              "\n",
              "    .colab-df-convert {\n",
              "      background-color: #E8F0FE;\n",
              "      border: none;\n",
              "      border-radius: 50%;\n",
              "      cursor: pointer;\n",
              "      display: none;\n",
              "      fill: #1967D2;\n",
              "      height: 32px;\n",
              "      padding: 0 0 0 0;\n",
              "      width: 32px;\n",
              "    }\n",
              "\n",
              "    .colab-df-convert:hover {\n",
              "      background-color: #E2EBFA;\n",
              "      box-shadow: 0px 1px 2px rgba(60, 64, 67, 0.3), 0px 1px 3px 1px rgba(60, 64, 67, 0.15);\n",
              "      fill: #174EA6;\n",
              "    }\n",
              "\n",
              "    [theme=dark] .colab-df-convert {\n",
              "      background-color: #3B4455;\n",
              "      fill: #D2E3FC;\n",
              "    }\n",
              "\n",
              "    [theme=dark] .colab-df-convert:hover {\n",
              "      background-color: #434B5C;\n",
              "      box-shadow: 0px 1px 3px 1px rgba(0, 0, 0, 0.15);\n",
              "      filter: drop-shadow(0px 1px 2px rgba(0, 0, 0, 0.3));\n",
              "      fill: #FFFFFF;\n",
              "    }\n",
              "  </style>\n",
              "\n",
              "      <script>\n",
              "        const buttonEl =\n",
              "          document.querySelector('#df-9e70779f-01dc-4ce5-9287-def921bd3b0b button.colab-df-convert');\n",
              "        buttonEl.style.display =\n",
              "          google.colab.kernel.accessAllowed ? 'block' : 'none';\n",
              "\n",
              "        async function convertToInteractive(key) {\n",
              "          const element = document.querySelector('#df-9e70779f-01dc-4ce5-9287-def921bd3b0b');\n",
              "          const dataTable =\n",
              "            await google.colab.kernel.invokeFunction('convertToInteractive',\n",
              "                                                     [key], {});\n",
              "          if (!dataTable) return;\n",
              "\n",
              "          const docLinkHtml = 'Like what you see? Visit the ' +\n",
              "            '<a target=\"_blank\" href=https://colab.research.google.com/notebooks/data_table.ipynb>data table notebook</a>'\n",
              "            + ' to learn more about interactive tables.';\n",
              "          element.innerHTML = '';\n",
              "          dataTable['output_type'] = 'display_data';\n",
              "          await google.colab.output.renderOutput(dataTable, element);\n",
              "          const docLink = document.createElement('div');\n",
              "          docLink.innerHTML = docLinkHtml;\n",
              "          element.appendChild(docLink);\n",
              "        }\n",
              "      </script>\n",
              "    </div>\n",
              "  </div>\n",
              "  "
            ]
          },
          "metadata": {},
          "execution_count": 564
        }
      ]
    },
    {
      "cell_type": "code",
      "source": [],
      "metadata": {
        "id": "HneawLcS5lLK"
      },
      "execution_count": null,
      "outputs": []
    }
  ]
}